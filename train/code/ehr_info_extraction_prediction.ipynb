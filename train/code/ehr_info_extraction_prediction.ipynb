{
 "cells": [
  {
   "cell_type": "code",
   "execution_count": 172,
   "id": "1e5b2b8d",
   "metadata": {},
   "outputs": [],
   "source": [
    "import numpy as np\n",
    "import pandas as pd\n",
    "import sys\n",
    "import pickle as pkl\n",
    "\n",
    "import pandas as pd\n",
    "import pickle as pkl\n",
    "import sys\n",
    "\n",
    "from sklearn.preprocessing import OneHotEncoder\n",
    "from sklearn.linear_model import LogisticRegression\n",
    "from sklearn.ensemble import RandomForestClassifier\n",
    "from sklearn.naive_bayes import GaussianNB\n",
    "from sklearn.metrics import classification_report, roc_auc_score, confusion_matrix\n",
    "from sklearn.model_selection import GridSearchCV\n",
    "\n",
    "import numpy as np\n",
    "import os\n",
    "from matplotlib import pyplot as plt\n",
    "\n",
    "from scipy.special import expit as sigmoid\n",
    "from PIL import Image"
   ]
  },
  {
   "cell_type": "code",
   "execution_count": null,
   "id": "d753d06f",
   "metadata": {},
   "outputs": [],
   "source": [
    "header_data = '../data/'"
   ]
  },
  {
   "cell_type": "markdown",
   "id": "95dd7c53",
   "metadata": {},
   "source": [
    "## extract gender age device from CT dicoms"
   ]
  },
  {
   "cell_type": "code",
   "execution_count": 86,
   "id": "08862430",
   "metadata": {},
   "outputs": [
    {
     "data": {
      "text/plain": [
       "(2884, True)"
      ]
     },
     "execution_count": 86,
     "metadata": {},
     "output_type": "execute_result"
    }
   ],
   "source": [
    "df = pd.read_csv(os.path.join(header_data, 'data.csv'))\n",
    "#data file has CT_acc (CT accessiom number), 'TOTAL_SPINE_TSCORE', 'Original DICOM file location-Axial', 'Original DICOM file location-Coronal'\n",
    "len(df), 'TOTAL_SPINE_TSCORE' in df.columns"
   ]
  },
  {
   "cell_type": "code",
   "execution_count": 188,
   "id": "2d94e09e",
   "metadata": {},
   "outputs": [
    {
     "name": "stderr",
     "output_type": "stream",
     "text": [
      "Columns (138,139,180) have mixed types.Specify dtype option on import or set low_memory=False.\n",
      "Columns (35,178,198,199,200,202) have mixed types.Specify dtype option on import or set low_memory=False.\n"
     ]
    },
    {
     "data": {
      "text/plain": [
       "(23072, 12888)"
      ]
     },
     "execution_count": 188,
     "metadata": {},
     "output_type": "execute_result"
    }
   ],
   "source": [
    "meta = pd.concat(os.path.join(header_data, 'niftis/metadata.csv'))\n",
    "mapp = pd.concat(os.path.join(header_data, 'niftis/mapping.csv'))\n",
    "len(meta), len(mapp)"
   ]
  },
  {
   "cell_type": "code",
   "execution_count": 88,
   "id": "f51d2d35",
   "metadata": {},
   "outputs": [
    {
     "data": {
      "text/plain": [
       "12888"
      ]
     },
     "execution_count": 88,
     "metadata": {},
     "output_type": "execute_result"
    }
   ],
   "source": [
    "meta_mapped = meta.loc[meta.file.isin(mapp['Original DICOM file location'].values)]\n",
    "len(meta_mapped)"
   ]
  },
  {
   "cell_type": "code",
   "execution_count": 93,
   "id": "ac56922c",
   "metadata": {},
   "outputs": [
    {
     "name": "stdout",
     "output_type": "stream",
     "text": [
      "2884\n",
      "1 0 0 0 0\n",
      "101 0 0 0 100\n",
      "201 0 0 0 200\n",
      "301 0 0 0 300\n",
      "401 0 0 0 400\n",
      "501 0 0 0 500\n",
      "601 0 0 0 600\n",
      "701 0 0 0 700\n",
      "801 0 0 0 800\n",
      "901 0 0 0 900\n",
      "1001 0 0 0 1000\n",
      "1101 0 0 0 1100\n",
      "1201 0 0 0 1200\n",
      "1301 0 0 0 1300\n",
      "1401 0 0 0 1400\n",
      "1501 0 0 0 1500\n",
      "1601 0 0 0 1600\n",
      "1701 0 0 0 1700\n",
      "1801 0 0 0 1800\n",
      "1901 0 0 0 1900\n",
      "2001 0 0 0 2000\n",
      "2101 0 0 0 2100\n",
      "2201 0 0 0 2200\n",
      "2301 0 0 0 2300\n",
      "2401 0 0 0 2400\n",
      "2501 0 0 0 2500\n",
      "2601 0 0 0 2600\n",
      "2701 0 0 0 2700\n",
      "2801 0 0 0 2800\n",
      "2884 0 0 0 2883\n"
     ]
    }
   ],
   "source": [
    "cols = [ 'Manufacturer', 'ManufacturerModelName', 'OtherPatientIDs', 'PatientAge', \n",
    "        'PatientBirthDate', 'PatientID', 'PatientSex', 'PatientSize', 'PatientWeight', \n",
    "        'ImageOrientationPatient', 'ImagePositionPatient', 'PatientPosition', \n",
    "        'PatientOrientation',  'PixelSpacing_Axial',  'PixelSpacing_Coronal']\n",
    "axial  = 0\n",
    "coronal = 0\n",
    "df[cols] = None\n",
    "for i,j in df.iterrows():\n",
    "    temp = meta_mapped.loc[(meta_mapped.AccessionNumber==df.at[i, 'CT_acc']) & (meta_mapped.file==df.at[i, 'Original DICOM file location-Transverse'])]\n",
    "    if len(temp)>0:\n",
    "        df.at[i, 'PixelSpacing_Axial'] = temp.at[temp.index[0], 'PixelSpacing']\n",
    "        axial +=1\n",
    "    else:\n",
    "        temp = meta_mapped.loc[(meta_mapped.AccessionNumber==df.at[i, 'CT_acc']) & (meta_mapped.file==df.at[i, 'Original DICOM file location-Coronal'])]\n",
    "        if len(temp)>0:\n",
    "            df.at[i, 'PixelSpacing_Coronal'] = temp.at[temp.index[0], 'PixelSpacing']\n",
    "            coronal+=1\n",
    "    if len(temp)>0:\n",
    "        for c in cols:\n",
    "            df.at[i, c] = temp.at[temp.index[0], c]\n",
    "    if i%100==0:\n",
    "        print(axial, coronal,  i)\n",
    "print(axial, coronal, i)"
   ]
  },
  {
   "cell_type": "code",
   "execution_count": 95,
   "id": "e00fff23",
   "metadata": {},
   "outputs": [],
   "source": [
    "df.to_csv(os.path.join(header_data, 'data_w_ehr_info.csv'))"
   ]
  },
  {
   "cell_type": "code",
   "execution_count": 96,
   "id": "797fa4b9",
   "metadata": {},
   "outputs": [
    {
     "name": "stdout",
     "output_type": "stream",
     "text": [
      "Manufacturer\t\t\t1.0\n",
      "ManufacturerModelName\t\t\t1.0\n",
      "OtherPatientIDs\t\t\t0.1252\n",
      "PatientAge\t\t\t0.932\n",
      "PatientBirthDate\t\t\t1.0\n",
      "PatientID\t\t\t1.0\n",
      "PatientSex\t\t\t1.0\n",
      "PatientSize\t\t\t0.1141\n",
      "PatientWeight\t\t\t0.1221\n",
      "ImageOrientationPatient\t\t\t1.0\n",
      "ImagePositionPatient\t\t\t1.0\n",
      "PatientPosition\t\t\t1.0\n",
      "PatientOrientation\t\t\t0.051\n"
     ]
    }
   ],
   "source": [
    "for c in cols:\n",
    "    print(c, end='\\t\\t\\t')\n",
    "    print(np.round(len(df.dropna(subset=[c]))/len(df), decimals=4))"
   ]
  },
  {
   "cell_type": "markdown",
   "id": "58e4cb40",
   "metadata": {},
   "source": [
    "### Cross Section"
   ]
  },
  {
   "cell_type": "code",
   "execution_count": null,
   "id": "de8b847a",
   "metadata": {},
   "outputs": [],
   "source": [
    "import skimage\n",
    "from scipy import ndimage\n",
    "df = pd.read_csv(os.path.join(header_data, 'data_w_ehr_info.csv'))\n",
    "def vol_window(vol, level, window):\n",
    "    maxval = level + window/2\n",
    "    minval = level - window/2\n",
    "    vol[vol<minval] = minval\n",
    "    vol[vol>maxval] = maxval\n",
    "    return vol\n",
    "f = plt.figure(figsize=(16,16))\n",
    "for ii in range(0, len(df)):\n",
    "    \n",
    "    i = df.index[ii]\n",
    "    CT_acc = df.at[i, 'CT_acc']\n",
    "    slice_number = int(df.at[i, 'L3_slice'])\n",
    "\n",
    "    header = os.path.join(header_data, 'slices/axial/')\n",
    "    image_name = header+str(CT_acc)+'_'+str(slice_number)+'.npy'\n",
    "    a = np.load(image_name)\n",
    "    a = a.astype(float)\n",
    "\n",
    "    a = vol_window(a, 500, 1500)\n",
    "    a = (a-np.min(a))/(np.max(a)-np.min(a))\n",
    "    a = 255.0*a\n",
    "    mask = a.copy()\n",
    "    mask[mask>0] = 255\n",
    "    image = Image.fromarray(np.uint8(a)).convert('RGB')\n",
    "    mask_image = Image.fromarray(np.uint8(mask)).convert('RGB')\n",
    "\n",
    "    \n",
    "    labels = skimage.measure.label(mask, return_num=False)\n",
    "\n",
    "    maxCC_withbcg = labels == np.argmax(np.bincount(labels.flat))\n",
    "    maxCC_nobcg = labels == np.argmax(np.bincount(labels.flat, weights=mask.flat))\n",
    "    largest = maxCC_nobcg.copy()\n",
    "    largest[largest==False] = 0\n",
    "    largest[largest==True] = 1\n",
    "    \n",
    "    largest_filled = ndimage.binary_fill_holes(largest).astype(int)\n",
    "    max_width = max([len([i for i in range(512) if largest_filled[i, y]>0]) for y in range(512)])\n",
    "    max_depth = max([len([i for i in range(512) if largest_filled[y,i]>0]) for y in range(512)])\n",
    "    \n",
    "    #print(max_width, max_depth)\n",
    "    df.at[i, 'Width'] = max_width\n",
    "    df.at[i, 'Depth'] = max_depth\n",
    "\n",
    "    if ii % 100==0:\n",
    "        print(ii)\n",
    "\n",
    "df['CrossSection'] = np.sqrt(df['Width']*df['Depth'])\n",
    "\n",
    "def pixelspacing_0(x):\n",
    "    return float(x.split(',')[0][2:-1])\n",
    "def pixelspacing_1(x):\n",
    "    return float(x.split(',')[1][2:-2])\n",
    "df['PixelSpacing_Transverse_0'] = df.PixelSpacing_Transverse.apply(pixelspacing_0)\n",
    "df['PixelSpacing_Transverse_1'] = df.PixelSpacing_Transverse.apply(pixelspacing_1)\n",
    "a = df['PixelSpacing_Transverse_1'] == df['PixelSpacing_Transverse_0']\n",
    "\n",
    "df['WidthSpacing'] = df['Width']*df['PixelSpacing_Transverse_1']\n",
    "df['DepthSpacing'] = df['Depth']*df['PixelSpacing_Transverse_0']\n",
    "a = df['WidthSpacing']*df['DepthSpacing']\n",
    "df['CrossSectionSpacing'] = np.sqrt(a)\n",
    "\n",
    "df.to_csv(os.path.join(header_data, 'data_w_ehr_info.csv'))"
   ]
  },
  {
   "cell_type": "markdown",
   "id": "a01400d8",
   "metadata": {},
   "source": [
    "### Implants"
   ]
  },
  {
   "cell_type": "code",
   "execution_count": null,
   "id": "0907a198",
   "metadata": {},
   "outputs": [],
   "source": [
    "from PIL import Image\n",
    "def vol_window(vol, level, window):\n",
    "    maxval = level + window/2\n",
    "    minval = level - window/2\n",
    "    vol[vol<minval] = minval\n",
    "    vol[vol>maxval] = maxval\n",
    "    return vol\n",
    "df = pd.read_csv(os.path.join(header_data, 'data_w_ehr_info.csv'))\n",
    "\n",
    "for index in range(0, len(df)):\n",
    "    header = os.path.join(header_data, 'slices/axial/')\n",
    "    y = df.at[df.index[index], 'TOTAL_SPINE_TSCORE']\n",
    "\n",
    "    CT_acc = df.at[df.index[index], 'CT_acc']\n",
    "    slice_number = int(df.at[df.index[index], 'L3_slice'])\n",
    "\n",
    "    image_name = header+str(CT_acc)+'_'+str(slice_number)+'.npy'\n",
    "    a = np.load(image_name)\n",
    "    a = a.astype(float)\n",
    "    bins = [-1024, 1500, 2500, 5000]\n",
    "    hist, bin_edges = np.histogram(a, bins = bins)\n",
    "    df.at[df.index[index], '-1024_1500'] = hist[0]\n",
    "    df.at[df.index[index], '1500_2500'] = hist[1]\n",
    "    df.at[df.index[index], '2500_5000'] = hist[2]\n",
    "    if hist[1]>250 and hist[2]>250:\n",
    "        df.at[df.index[index], 'Implant'] = True\n",
    "    else:\n",
    "        df.at[df.index[index], 'Implant'] = False\n",
    "    if index%100==0:\n",
    "        print(index)\n",
    "df.to_csv(os.path.join(header_data, 'data_w_ehr_info.csv'))"
   ]
  },
  {
   "cell_type": "markdown",
   "id": "f9ea67b5",
   "metadata": {},
   "source": [
    "### MRN (Patient ID) based split"
   ]
  },
  {
   "cell_type": "code",
   "execution_count": 44,
   "id": "8248c775",
   "metadata": {},
   "outputs": [],
   "source": [
    "import pickle as pkl \n",
    "mrn = list(df.MRN.values)\n",
    "mrn_train = np.random.choice(MRN, round(0.8*len(mrn)), replace=False)\n",
    "mrn_test = [i for i in mrn if i not in mrn_train]\n",
    "mrn_val = np.random.choice(mrn_train, round(0.1*len(mrn_train)), replace=False)\n",
    "MRN_train = [i for i in mrn_train if i not in mrn_val]\n",
    "\n",
    "\n",
    "dct = {'mrn_train':mrn_train, 'mrn_test': mrn_test, 'mrn_val': mrn_val}\n",
    "pkl.dump(dct, open(os.path.join(header_data, 'mrn_split.pkl'), 'wb'))"
   ]
  },
  {
   "cell_type": "markdown",
   "id": "d81d86e5",
   "metadata": {},
   "source": [
    "## Baseline Model, Age and Gender + Effective Diameter"
   ]
  },
  {
   "cell_type": "code",
   "execution_count": 4,
   "id": "0d3d1cf9",
   "metadata": {},
   "outputs": [],
   "source": [
    "import pandas as pd\n",
    "import pickle as pkl\n",
    "import sys\n",
    "\n",
    "from sklearn.preprocessing import OneHotEncoder\n",
    "from sklearn.linear_model import LogisticRegression\n",
    "from sklearn.ensemble import RandomForestClassifier\n",
    "from sklearn.naive_bayes import GaussianNB\n",
    "from sklearn.metrics import classification_report, roc_auc_score, confusion_matrix\n",
    "from sklearn.model_selection import GridSearchCV\n",
    "\n",
    "from sklearn.neural_network import MLPClassifier\n",
    "\n",
    "\n",
    "\n",
    "\n",
    "import numpy as np\n",
    "import os\n",
    "from matplotlib import pyplot as plt"
   ]
  },
  {
   "cell_type": "code",
   "execution_count": 46,
   "id": "16a4007f",
   "metadata": {},
   "outputs": [
    {
     "name": "stdout",
     "output_type": "stream",
     "text": [
      "6083\n",
      "6083\n",
      "0    3108\n",
      "1    2975\n",
      "Name: Label, dtype: int64\n",
      "6          2385\n",
      "7          1482\n",
      "5          1384\n",
      "8           555\n",
      "UNKNOWN     222\n",
      "9            55\n",
      "Name: PatientAge_mapped, dtype: int64\n",
      "0    2209\n",
      "1    2199\n",
      "Name: Label, dtype: int64\n",
      "0    670\n",
      "1    535\n",
      "Name: Label, dtype: int64\n",
      "1    241\n",
      "0    229\n",
      "Name: Label, dtype: int64\n"
     ]
    },
    {
     "name": "stderr",
     "output_type": "stream",
     "text": [
      "/opt/conda/lib/python3.7/site-packages/IPython/core/interactiveshell.py:3170: DtypeWarning: Columns (18,22) have mixed types.Specify dtype option on import or set low_memory=False.\n",
      "  interactivity=interactivity, compiler=compiler, result=result)\n"
     ]
    }
   ],
   "source": [
    "def labeling(x):\n",
    "    if x<=-1:\n",
    "        return 1\n",
    "    else:\n",
    "        return 0\n",
    "def age_mapping(x):\n",
    "    if type(x) is str and len(x)==4:\n",
    "        return x[1]\n",
    "    elif type(x) is str and len(x)==3:\n",
    "        return x[0]\n",
    "    else:\n",
    "        return 'UNKNOWN'\n",
    "\n",
    "#136.1302176492294, 462.9853871884079\n",
    "df = pd.read_csv(os.path.join(header_data, 'data_w_ehr_info.csv'))\n",
    "print(len(df))\n",
    "df = df.dropna(subset=['Original DICOM file location-Axial', 'Original DICOM file location-Coronal', 'TOTAL_SPINE_TSCORE', 'L3_slice'], how='any')\n",
    "print(len(df))\n",
    "\n",
    "df['Label'] = df['TOTAL_SPINE_TSCORE'].apply(labeling)\n",
    "print(df['Label'].value_counts())\n",
    "\n",
    "df['PatientAge_mapped'] = df.PatientAge.apply(age_mapping)\n",
    "print(df['PatientAge_mapped'].value_counts())\n",
    "\n",
    "\n",
    "df['CrossSectionSpacing_binned'] = pd.cut(df['CrossSectionSpacing'].values, 10)\n",
    "\n",
    "a = df['CrossSectionSpacing'].values\n",
    "df['CrossSectionSpacing_norm'] = (a-np.min(a))/(np.max(a)-np.min(a))\n",
    "\n",
    "\n",
    "\n",
    "dct = pkl.load(open(os.path.join(header_data, 'mrn_split'), 'rb'))\n",
    "mrn_train = dct['mrn_train']\n",
    "mrn_test = dct['mrn_test']\n",
    "mrn_val = dct['mrn_val']\n",
    "\n",
    "df_train = df.loc[df.mrn.isin(mrn_train)]\n",
    "df_test = df.loc[df.mrn.isin(mrn_test)]\n",
    "df_val = df.loc[df.mrn.isin(mrn_val)]\n",
    "\n",
    "print(df_train['Label'].value_counts())\n",
    "print(df_test['Label'].value_counts())\n",
    "print(df_val['Label'].value_counts())\n",
    "\n",
    "labels_train = df_train.Label.values\n",
    "labels_test = df_test.Label.values\n",
    "labels_val = df_val.Label.values\n",
    "\n",
    "female_idx = np.array([i for i in range(len(df_test)) if df_test.PatientSex.values[i]=='F'])\n",
    "male_idx = np.array([i for i in range(len(df_test)) if df_test.PatientSex.values[i]=='M'])"
   ]
  },
  {
   "cell_type": "code",
   "execution_count": 5,
   "id": "d73e7002",
   "metadata": {},
   "outputs": [
    {
     "name": "stdout",
     "output_type": "stream",
     "text": [
      "(4408, 18) (1205, 18)\n",
      "(4408, 17) (1205, 17)\n",
      "              precision    recall  f1-score   support\n",
      "\n",
      "           0       0.71      0.69      0.70       670\n",
      "           1       0.63      0.65      0.64       535\n",
      "\n",
      "    accuracy                           0.68      1205\n",
      "   macro avg       0.67      0.67      0.67      1205\n",
      "weighted avg       0.68      0.68      0.68      1205\n",
      "\n",
      "AUC-ROC:\t 0.7059045892035152\n",
      "Confusion Matrix:\n",
      " [[464 206]\n",
      " [185 350]]\n"
     ]
    }
   ],
   "source": [
    "discrete_cols = ['PatientAge_mapped', 'PatientSex', 'CrossSectionSpacing_binned']\n",
    "\n",
    "npd_discrete = df_train[discrete_cols].copy().to_numpy()\n",
    "enc = OneHotEncoder(handle_unknown='ignore')\n",
    "enc.fit(npd_discrete)\n",
    "\n",
    "\n",
    "mat = enc.transform(npd_discrete).todense()\n",
    "\n",
    "npd_discrete = df_test[discrete_cols].copy().to_numpy()\n",
    "\n",
    "\n",
    "mat_test = enc.transform(npd_discrete).todense() \n",
    "\n",
    "print(mat.shape, mat_test.shape)\n",
    "\n",
    "mat = np.concatenate((mat[:, :5], mat[:, 6:]), axis=1)\n",
    "mat_test = np.concatenate((mat_test[:, :5], mat_test[:, 6:]), axis=1)\n",
    "print(mat.shape, mat_test.shape)\n",
    "\n",
    "clf = MLPClassifier(random_state=0)\n",
    "clf.fit(mat, labels_train)\n",
    "pkl.dump(clf, open(os.path.join('Models/ehr_model.sav'), 'wb'))\n",
    "##########################\n",
    "preds = clf.predict(mat)\n",
    "probs = clf.predict_proba(mat)\n",
    "dct = {}\n",
    "dct['labels'] = labels_train\n",
    "dct['preds'] = preds\n",
    "dct['probs'] = probs\n",
    "pkl.dump(dct, open(os.path.join('Models/ehr_train_predictions.pkl'), 'wb'))\n",
    "#######################\n",
    "preds = clf.predict(mat_test)\n",
    "probs = clf.predict_proba(mat_test)\n",
    "\n",
    "print(classification_report(labels_test, preds))\n",
    "print('AUC-ROC:\\t', roc_auc_score(labels_test, probs[:,1]))\n",
    "cm = confusion_matrix(labels_test, preds, labels = [0, 1])\n",
    "print('Confusion Matrix:\\n', cm)\n",
    "dct = {}\n",
    "dct['labels'] = labels_test\n",
    "dct['preds'] = preds\n",
    "dct['probs'] = probs\n",
    "pkl.dump(dct, open(os.path.join('Models/ehr_test_predictions.pkl'), 'wb'))\n"
   ]
  },
  {
   "cell_type": "markdown",
   "id": "6acf8014",
   "metadata": {},
   "source": [
    "shap_values[1].shape"
   ]
  },
  {
   "cell_type": "code",
   "execution_count": 17,
   "id": "eb90e4b2",
   "metadata": {},
   "outputs": [
    {
     "name": "stdout",
     "output_type": "stream",
     "text": [
      "FEMALE\n",
      "              precision    recall  f1-score   support\n",
      "\n",
      "           0       0.63      0.49      0.55       359\n",
      "           1       0.64      0.76      0.70       426\n",
      "\n",
      "    accuracy                           0.64       785\n",
      "   macro avg       0.64      0.63      0.62       785\n",
      "weighted avg       0.64      0.64      0.63       785\n",
      "\n",
      "AUC-ROC:\t 0.6561000170007978\n",
      "Confusion Matrix:\n",
      " [[175 184]\n",
      " [101 325]]\n",
      "MALE\n",
      "              precision    recall  f1-score   support\n",
      "\n",
      "           0       0.77      0.93      0.85       311\n",
      "           1       0.53      0.23      0.32       109\n",
      "\n",
      "    accuracy                           0.75       420\n",
      "   macro avg       0.65      0.58      0.58       420\n",
      "weighted avg       0.71      0.75      0.71       420\n",
      "\n",
      "AUC-ROC:\t 0.5934835835865366\n",
      "Confusion Matrix:\n",
      " [[289  22]\n",
      " [ 84  25]]\n"
     ]
    }
   ],
   "source": [
    "for gender in ['F', 'M']:\n",
    "    print(gender)\n",
    "    gender_idx = np.array([i for i in range(len(df_test)) if df_test.PatientSex.values[i]==gender])\n",
    "    print(classification_report(labels_test[gender_idx], preds[gender_idx]))\n",
    "    print('AUC-ROC:\\t', roc_auc_score(labels_test[gender_idx], probs[gender_idx,1]))\n",
    "    cm = confusion_matrix(labels_test[gender_idx], preds[gender_idx], labels = [0, 1])\n",
    "    print('Confusion Matrix:\\n', cm)\n"
   ]
  },
  {
   "cell_type": "code",
   "execution_count": 18,
   "id": "5b07d2ab",
   "metadata": {},
   "outputs": [
    {
     "name": "stdout",
     "output_type": "stream",
     "text": [
      "GE\n",
      "              precision    recall  f1-score   support\n",
      "\n",
      "           0       0.71      0.76      0.74        85\n",
      "           1       0.69      0.63      0.66        70\n",
      "\n",
      "    accuracy                           0.70       155\n",
      "   macro avg       0.70      0.70      0.70       155\n",
      "weighted avg       0.70      0.70      0.70       155\n",
      "\n",
      "AUC-ROC:\t 0.7653781512605042\n",
      "Confusion Matrix:\n",
      " [[65 20]\n",
      " [26 44]]\n",
      "SIEMENS\n",
      "              precision    recall  f1-score   support\n",
      "\n",
      "           0       0.72      0.68      0.69       561\n",
      "           1       0.62      0.66      0.64       442\n",
      "\n",
      "    accuracy                           0.67      1003\n",
      "   macro avg       0.67      0.67      0.67      1003\n",
      "weighted avg       0.67      0.67      0.67      1003\n",
      "\n",
      "AUC-ROC:\t 0.6964797025350659\n",
      "Confusion Matrix:\n",
      " [[379 182]\n",
      " [151 291]]\n",
      "TOSHIBA\n",
      "              precision    recall  f1-score   support\n",
      "\n",
      "           0       0.71      0.83      0.77        24\n",
      "           1       0.79      0.65      0.71        23\n",
      "\n",
      "    accuracy                           0.74        47\n",
      "   macro avg       0.75      0.74      0.74        47\n",
      "weighted avg       0.75      0.74      0.74        47\n",
      "\n",
      "AUC-ROC:\t 0.7391304347826086\n",
      "Confusion Matrix:\n",
      " [[20  4]\n",
      " [ 8 15]]\n"
     ]
    }
   ],
   "source": [
    "companies = ['ge', 'siemens', 'toshiba']\n",
    "for c in companies:\n",
    "    print(c.upper())\n",
    "    idx = np.array([i for i in range(len(df_test)) if c in df_test.Manufacturer.values[i].lower()])\n",
    "    #print(idx)\n",
    "    print(classification_report(labels_test[idx], preds[idx]))\n",
    "    print('AUC-ROC:\\t', roc_auc_score(labels_test[idx], probs[idx,1]))\n",
    "    cm = confusion_matrix(labels_test[idx], preds[idx], labels = [0, 1])\n",
    "    print('Confusion Matrix:\\n', cm)"
   ]
  },
  {
   "cell_type": "code",
   "execution_count": 19,
   "id": "4de6364a",
   "metadata": {},
   "outputs": [
    {
     "name": "stdout",
     "output_type": "stream",
     "text": [
      "0-250\n",
      "              precision    recall  f1-score   support\n",
      "\n",
      "           0       1.00      0.05      0.10        56\n",
      "           1       0.70      1.00      0.82       123\n",
      "\n",
      "    accuracy                           0.70       179\n",
      "   macro avg       0.85      0.53      0.46       179\n",
      "weighted avg       0.79      0.70      0.60       179\n",
      "\n",
      "AUC-ROC:\t 0.5643873403019745\n",
      "Confusion Matrix:\n",
      " [[  3  53]\n",
      " [  0 123]]\n",
      "250-350\n",
      "              precision    recall  f1-score   support\n",
      "\n",
      "           0       0.68      0.68      0.68       472\n",
      "           1       0.60      0.60      0.60       380\n",
      "\n",
      "    accuracy                           0.64       852\n",
      "   macro avg       0.64      0.64      0.64       852\n",
      "weighted avg       0.64      0.64      0.64       852\n",
      "\n",
      "AUC-ROC:\t 0.6552157671721678\n",
      "Confusion Matrix:\n",
      " [[319 153]\n",
      " [153 227]]\n",
      "350-1000\n",
      "              precision    recall  f1-score   support\n",
      "\n",
      "           0       0.82      1.00      0.90       142\n",
      "           1       0.00      0.00      0.00        32\n",
      "\n",
      "    accuracy                           0.82       174\n",
      "   macro avg       0.41      0.50      0.45       174\n",
      "weighted avg       0.67      0.82      0.73       174\n",
      "\n",
      "AUC-ROC:\t 0.5534771126760564\n",
      "Confusion Matrix:\n",
      " [[142   0]\n",
      " [ 32   0]]\n"
     ]
    },
    {
     "name": "stderr",
     "output_type": "stream",
     "text": [
      "Precision and F-score are ill-defined and being set to 0.0 in labels with no predicted samples. Use `zero_division` parameter to control this behavior.\n",
      "Precision and F-score are ill-defined and being set to 0.0 in labels with no predicted samples. Use `zero_division` parameter to control this behavior.\n",
      "Precision and F-score are ill-defined and being set to 0.0 in labels with no predicted samples. Use `zero_division` parameter to control this behavior.\n"
     ]
    }
   ],
   "source": [
    "dia = [0, 250, 350, 1000]\n",
    "for i in range(1, len(dia)):\n",
    "    lower = dia[i-1]\n",
    "    upper = dia[i]\n",
    "    print(str(lower)+'-'+str(upper))\n",
    "    idx = np.array([i for i in range(len(df_test)) if (df_test.CrossSectionSpacing.values[i]>=lower and df_test.CrossSectionSpacing.values[i]<upper)])\n",
    "    #print(idx)\n",
    "    print(classification_report(labels_test[idx], preds[idx]))\n",
    "    print('AUC-ROC:\\t', roc_auc_score(labels_test[idx], probs[idx,1]))\n",
    "    cm = confusion_matrix(labels_test[idx], preds[idx], labels = [0, 1])\n",
    "    print('Confusion Matrix:\\n', cm)"
   ]
  },
  {
   "cell_type": "code",
   "execution_count": 20,
   "id": "b2facf83",
   "metadata": {},
   "outputs": [
    {
     "name": "stdout",
     "output_type": "stream",
     "text": [
      "Iteration:\t0\n",
      "Iteration:\t100\n",
      "Iteration:\t200\n",
      "Iteration:\t300\n",
      "Iteration:\t400\n",
      "Iteration:\t500\n",
      "Iteration:\t600\n",
      "Iteration:\t700\n",
      "Iteration:\t800\n",
      "Iteration:\t900\n",
      "95.0 confidence interval \n",
      "Precision\n",
      "[65.5-69.1]\n",
      "Recall\n",
      "[65.6-69.2]\n",
      "F-score\n",
      "[65.5-69.1]\n",
      "AUC-ROC\n",
      "[68.6-72.6]\n"
     ]
    }
   ],
   "source": [
    "##confidence interval\n",
    "from random import randint, sample\n",
    "\n",
    "\n",
    "dct = pkl.load(open(os.path.join('Models/ehr_test_predictions.pkl'), 'rb'))\n",
    "y_test = dct['labels']\n",
    "preds = dct['preds']\n",
    "probs = dct['probs']\n",
    "\n",
    "\n",
    "target_test = y_test\n",
    "\n",
    "avg_precision = []\n",
    "avg_recall = []\n",
    "avg_fscore = []\n",
    "aucroc = []\n",
    "   \n",
    "test_set_size = len(target_test)\n",
    "for i in range(1000):\n",
    "    # randomly pick size of the test set\n",
    "    i_size = randint(round(0.5*test_set_size), test_set_size)\n",
    "    \n",
    "    i_test_idx = sample([ii for ii in range(test_set_size)], i_size)\n",
    "    i_test_idx.sort()\n",
    "    \n",
    "    \n",
    "\n",
    "\n",
    "    i_y_test = target_test[i_test_idx]\n",
    "    i_y_pred = preds[i_test_idx]\n",
    "    i_y_prob = probs[i_test_idx,1]\n",
    "\n",
    "    dct = classification_report(i_y_test, i_y_pred, output_dict=True, zero_division=0)\n",
    "    avg_precision.append(dct['macro avg']['precision'])\n",
    "    avg_recall.append(dct['macro avg']['recall'])\n",
    "    avg_fscore.append(dct['macro avg']['f1-score'])\n",
    "\n",
    "    aucroc.append(roc_auc_score(i_y_test, i_y_prob))\n",
    "    if i%100==0:\n",
    "        print('Iteration:\\t'+str(i))\n",
    "        \n",
    "# confidence intervals\n",
    "alpha = 0.95\n",
    "print('%.1f confidence interval ' % (alpha*100))\n",
    "\n",
    "\n",
    "p = ((1.0-alpha)/2.0) * 100\n",
    "lower = np.percentile(avg_precision, p, axis= 0)\n",
    "p = (alpha+((1.0-alpha)/2.0)) * 100\n",
    "upper = np.percentile(avg_precision, p, axis = 0)\n",
    "print('Precision')\n",
    "print('['+str(np.round(lower*100, decimals=1))+'-'+str(np.round(upper*100, decimals=1))+']')\n",
    "\n",
    "p = ((1.0-alpha)/2.0) * 100\n",
    "lower = np.percentile(avg_recall, p, axis= 0)\n",
    "p = (alpha+((1.0-alpha)/2.0)) * 100\n",
    "upper = np.percentile(avg_recall, p, axis = 0)\n",
    "print('Recall')\n",
    "print('['+str(np.round(lower*100, decimals=1))+'-'+str(np.round(upper*100, decimals=1))+']')\n",
    "\n",
    "p = ((1.0-alpha)/2.0) * 100\n",
    "lower = np.percentile(avg_fscore, p, axis= 0)\n",
    "p = (alpha+((1.0-alpha)/2.0)) * 100\n",
    "upper = np.percentile(avg_fscore, p, axis = 0)\n",
    "print('F-score')\n",
    "print('['+str(np.round(lower*100, decimals=1))+'-'+str(np.round(upper*100, decimals=1))+']')\n",
    "\n",
    "p = ((1.0-alpha)/2.0) * 100\n",
    "lower = np.percentile(aucroc, p, axis= 0)\n",
    "p = (alpha+((1.0-alpha)/2.0)) * 100\n",
    "upper = np.percentile(aucroc, p, axis = 0)\n",
    "print('AUC-ROC')\n",
    "print('['+str(np.round(lower*100, decimals=1))+'-'+str(np.round(upper*100, decimals=1))+']')"
   ]
  },
  {
   "cell_type": "markdown",
   "id": "7f9f87d9",
   "metadata": {},
   "source": [
    "## Axial Results"
   ]
  },
  {
   "cell_type": "code",
   "execution_count": null,
   "id": "81084f48",
   "metadata": {},
   "outputs": [],
   "source": [
    "# ml-74f6-phi-shared-aif-us-p/Amara/Osteo/Class/train/train-19/log.txt and test/test-12 1235 split both train and test"
   ]
  },
  {
   "cell_type": "code",
   "execution_count": null,
   "id": "ac9751c2",
   "metadata": {},
   "outputs": [],
   "source": [
    "# test results\n",
    "#../bucket/Amara/Osteo/Class/test/test-05"
   ]
  },
  {
   "cell_type": "code",
   "execution_count": null,
   "id": "98101cea",
   "metadata": {},
   "outputs": [],
   "source": [
    "import pandas as pd\n",
    "import pickle as pkl\n",
    "import sys\n",
    "\n",
    "from sklearn.preprocessing import OneHotEncoder\n",
    "from sklearn.linear_model import LogisticRegression\n",
    "from sklearn.ensemble import RandomForestClassifier\n",
    "from sklearn.naive_bayes import GaussianNB\n",
    "from sklearn.metrics import classification_report, roc_auc_score, confusion_matrix\n",
    "from sklearn.model_selection import GridSearchCV\n",
    "\n",
    "import numpy as np\n",
    "import os\n",
    "from matplotlib import pyplot as plt\n",
    "\n",
    "from scipy.special import expit as sigmoid"
   ]
  },
  {
   "cell_type": "code",
   "execution_count": 21,
   "id": "cc607542",
   "metadata": {},
   "outputs": [
    {
     "name": "stdout",
     "output_type": "stream",
     "text": [
      "6083\n",
      "6083\n",
      "0    3108\n",
      "1    2975\n",
      "Name: Label, dtype: int64\n",
      "6          2385\n",
      "7          1482\n",
      "5          1384\n",
      "8           555\n",
      "UNKNOWN     222\n",
      "9            55\n",
      "Name: PatientAge_mapped, dtype: int64\n"
     ]
    },
    {
     "name": "stderr",
     "output_type": "stream",
     "text": [
      "Columns (18,22) have mixed types.Specify dtype option on import or set low_memory=False.\n"
     ]
    }
   ],
   "source": [
    "df = pd.read_csv('../bucket/Amara/Osteo/CT_ABD_PELVIS_w_all_scores_mapped1235678_w_view_locations_w_L3_and_coronal_slice_patient_manufacturer_info_cohort_only_histogram_cross_section_pixelspacing.csv') #use this so that no L3 slice detected can be filtered out\n",
    "print(len(df))\n",
    "df = df.dropna(subset=['Original DICOM file location-Transverse', 'Original DICOM file location-Coronal', 'TOTAL_SPINE_TSCORE', 'L3_slice'], how='any')\n",
    "print(len(df))\n",
    "\n",
    "df['Label'] = df['TOTAL_SPINE_TSCORE'].apply(labeling)\n",
    "print(df['Label'].value_counts())\n",
    "\n",
    "df['PatientAge_mapped'] = df.PatientAge.apply(age_mapping)\n",
    "print(df['PatientAge_mapped'].value_counts())\n",
    "\n",
    "# dct = pkl.load(open('../bucket/Amara/Osteo/CT_acc_split_basic1235678.pkl', 'rb'))\n",
    "# acc_train = dct['CT_acc_train']\n",
    "# acc_test = dct['CT_acc_test']\n",
    "# acc_val = dct['CT_acc_val']\n",
    "\n",
    "# df_train = df.loc[df.CT_acc.isin(acc_train)]\n",
    "# df_test = df.loc[df.CT_acc.isin(acc_test)]\n",
    "# df_val = df.loc[df.CT_acc.isin(acc_val)]\n",
    "\n",
    "dct = pkl.load(open('../bucket/Amara/Osteo/mrn_split_basic1235678.pkl', 'rb'))\n",
    "mrn_train = dct['mrn_train']\n",
    "mrn_test = dct['mrn_test']\n",
    "mrn_val = dct['mrn_val']\n",
    "\n",
    "df_train = df.loc[df.mrn.isin(mrn_train)]\n",
    "df_test = df.loc[df.mrn.isin(mrn_test)]\n",
    "df_val = df.loc[df.mrn.isin(mrn_val)]\n",
    "\n",
    "\n",
    "female_idx = np.array([i for i in range(len(df_test)) if df_test.PatientSex.values[i]=='F'])\n",
    "male_idx = np.array([i for i in range(len(df_test)) if df_test.PatientSex.values[i]=='M'])"
   ]
  },
  {
   "cell_type": "code",
   "execution_count": 26,
   "id": "f5357762",
   "metadata": {},
   "outputs": [
    {
     "data": {
      "text/plain": [
       "array([8.4706480e-06, 4.7935808e-01, 1.3431540e-02, ..., 3.4050353e-02,\n",
       "       2.4159780e-01, 1.4236002e-04], dtype=float32)"
      ]
     },
     "execution_count": 26,
     "metadata": {},
     "output_type": "execute_result"
    }
   ],
   "source": [
    "probs"
   ]
  },
  {
   "cell_type": "code",
   "execution_count": 40,
   "id": "8d823647",
   "metadata": {},
   "outputs": [
    {
     "name": "stdout",
     "output_type": "stream",
     "text": [
      "(array([0, 1]), array([506, 699]))\n",
      "              precision    recall  f1-score   support\n",
      "\n",
      "         0.0       0.84      0.64      0.72       670\n",
      "         1.0       0.65      0.85      0.74       535\n",
      "\n",
      "    accuracy                           0.73      1205\n",
      "   macro avg       0.75      0.74      0.73      1205\n",
      "weighted avg       0.76      0.73      0.73      1205\n",
      "\n",
      "AUC-ROC:\t 0.8316920072534524\n",
      "Confusion Matrix:\n",
      " [[426 244]\n",
      " [ 80 455]]\n"
     ]
    }
   ],
   "source": [
    "dct = pkl.load(open('../bucket/Amara/Osteo/Class/train/train-30/test_predictions.pkl', 'rb'))\n",
    "labels_test = np.array(dct['labels'])\n",
    "preds = np.array(dct['preds'])\n",
    "probs = np.array(dct['probs'])\n",
    "preds2 = np.array([1 if (probs[i])>0.05 else 0 for i in range(len(preds))])\n",
    "print(np.unique(preds2, return_counts=True))\n",
    "print(classification_report(labels_test, preds2))\n",
    "print('AUC-ROC:\\t', roc_auc_score(labels_test, probs))\n",
    "cm = confusion_matrix(labels_test, preds2, labels = [0, 1])\n",
    "print('Confusion Matrix:\\n', cm)"
   ]
  },
  {
   "cell_type": "code",
   "execution_count": 41,
   "id": "bfa0a408",
   "metadata": {},
   "outputs": [
    {
     "name": "stdout",
     "output_type": "stream",
     "text": [
      "Iteration:\t0\n",
      "Iteration:\t100\n",
      "Iteration:\t200\n",
      "Iteration:\t300\n",
      "Iteration:\t400\n",
      "Iteration:\t500\n",
      "Iteration:\t600\n",
      "Iteration:\t700\n",
      "Iteration:\t800\n",
      "Iteration:\t900\n",
      "95.0 confidence interval \n",
      "Precision\n",
      "[72.9-76.2]\n",
      "Recall\n",
      "[72.6-75.9]\n",
      "F-score\n",
      "[71.3-74.7]\n",
      "AUC-ROC\n",
      "[81.5-84.6]\n"
     ]
    }
   ],
   "source": [
    "##confidence interval\n",
    "from random import randint, sample\n",
    "\n",
    "\n",
    "dct = pkl.load(open('../bucket/Amara/Osteo/Class/train/train-30/test_predictions.pkl', 'rb'))\n",
    "y_test = np.array(dct['labels'])\n",
    "probs = np.array(dct['probs'])\n",
    "preds = np.array([1 if (probs[i])>=0.05 else 0 for i in range(len(probs))])#np.array(dct['preds'])\n",
    "\n",
    "target_test = y_test\n",
    "\n",
    "avg_precision = []\n",
    "avg_recall = []\n",
    "avg_fscore = []\n",
    "aucroc = []\n",
    "   \n",
    "test_set_size = len(target_test)\n",
    "for i in range(1000):\n",
    "    # randomly pick size of the test set\n",
    "    i_size = randint(round(0.5*test_set_size), test_set_size)\n",
    "    \n",
    "    i_test_idx = sample([ii for ii in range(test_set_size)], i_size)\n",
    "    i_test_idx.sort()\n",
    "    \n",
    "    \n",
    "\n",
    "\n",
    "    i_y_test = target_test[i_test_idx]\n",
    "    i_y_pred = preds[i_test_idx]\n",
    "    i_y_prob = probs[i_test_idx]\n",
    "\n",
    "    dct = classification_report(i_y_test, i_y_pred, output_dict=True, zero_division=0)\n",
    "    avg_precision.append(dct['macro avg']['precision'])\n",
    "    avg_recall.append(dct['macro avg']['recall'])\n",
    "    avg_fscore.append(dct['macro avg']['f1-score'])\n",
    "\n",
    "    aucroc.append(roc_auc_score(i_y_test, i_y_prob))\n",
    "    if i%100==0:\n",
    "        print('Iteration:\\t'+str(i))\n",
    "        \n",
    "# confidence intervals\n",
    "alpha = 0.95\n",
    "print('%.1f confidence interval ' % (alpha*100))\n",
    "\n",
    "\n",
    "p = ((1.0-alpha)/2.0) * 100\n",
    "lower = np.percentile(avg_precision, p, axis= 0)\n",
    "p = (alpha+((1.0-alpha)/2.0)) * 100\n",
    "upper = np.percentile(avg_precision, p, axis = 0)\n",
    "print('Precision')\n",
    "print('['+str(np.round(lower*100, decimals=1))+'-'+str(np.round(upper*100, decimals=1))+']')\n",
    "\n",
    "p = ((1.0-alpha)/2.0) * 100\n",
    "lower = np.percentile(avg_recall, p, axis= 0)\n",
    "p = (alpha+((1.0-alpha)/2.0)) * 100\n",
    "upper = np.percentile(avg_recall, p, axis = 0)\n",
    "print('Recall')\n",
    "print('['+str(np.round(lower*100, decimals=1))+'-'+str(np.round(upper*100, decimals=1))+']')\n",
    "\n",
    "p = ((1.0-alpha)/2.0) * 100\n",
    "lower = np.percentile(avg_fscore, p, axis= 0)\n",
    "p = (alpha+((1.0-alpha)/2.0)) * 100\n",
    "upper = np.percentile(avg_fscore, p, axis = 0)\n",
    "print('F-score')\n",
    "print('['+str(np.round(lower*100, decimals=1))+'-'+str(np.round(upper*100, decimals=1))+']')\n",
    "\n",
    "p = ((1.0-alpha)/2.0) * 100\n",
    "lower = np.percentile(aucroc, p, axis= 0)\n",
    "p = (alpha+((1.0-alpha)/2.0)) * 100\n",
    "upper = np.percentile(aucroc, p, axis = 0)\n",
    "print('AUC-ROC')\n",
    "print('['+str(np.round(lower*100, decimals=1))+'-'+str(np.round(upper*100, decimals=1))+']')"
   ]
  },
  {
   "cell_type": "code",
   "execution_count": 42,
   "id": "a61f18fa",
   "metadata": {},
   "outputs": [
    {
     "name": "stdout",
     "output_type": "stream",
     "text": [
      "              precision    recall  f1-score   support\n",
      "\n",
      "         0.0       0.84      0.64      0.72       670\n",
      "         1.0       0.65      0.85      0.74       535\n",
      "\n",
      "    accuracy                           0.73      1205\n",
      "   macro avg       0.75      0.74      0.73      1205\n",
      "weighted avg       0.76      0.73      0.73      1205\n",
      "\n",
      "AUC-ROC:\t 0.8316920072534524\n",
      "Confusion Matrix:\n",
      " [[426 244]\n",
      " [ 80 455]]\n"
     ]
    }
   ],
   "source": [
    "preds2 = np.array([1 if (probs[i])>=0.05 else 0 for i in range(len(preds))])\n",
    "print(classification_report(labels_test, preds2))\n",
    "print('AUC-ROC:\\t', roc_auc_score(labels_test, probs))\n",
    "cm = confusion_matrix(labels_test, preds2, labels = [0, 1])\n",
    "print('Confusion Matrix:\\n', cm)"
   ]
  },
  {
   "cell_type": "code",
   "execution_count": 100,
   "id": "62aa9926",
   "metadata": {},
   "outputs": [],
   "source": [
    "# fg = plot_confusion_matrix(cm , normalize = False, target_names= ['No Osteoporosis', 'Osteoproorses'] )\n",
    "# fg.savefig('../bucket/Amara/Osteo/Results/CM_L3.jpg', bbox_inches='tight')"
   ]
  },
  {
   "cell_type": "code",
   "execution_count": 43,
   "id": "f7049d4c",
   "metadata": {},
   "outputs": [
    {
     "name": "stdout",
     "output_type": "stream",
     "text": [
      "FEMALE\n",
      "              precision    recall  f1-score   support\n",
      "\n",
      "         0.0       0.79      0.60      0.68       359\n",
      "         1.0       0.72      0.86      0.79       426\n",
      "\n",
      "    accuracy                           0.74       785\n",
      "   macro avg       0.75      0.73      0.73       785\n",
      "weighted avg       0.75      0.74      0.74       785\n",
      "\n",
      "AUC-ROC:\t 0.8237213438476728\n",
      "Confusion Matrix:\n",
      " [[216 143]\n",
      " [ 58 368]]\n",
      "MALE\n",
      "              precision    recall  f1-score   support\n",
      "\n",
      "         0.0       0.91      0.68      0.77       311\n",
      "         1.0       0.46      0.80      0.59       109\n",
      "\n",
      "    accuracy                           0.71       420\n",
      "   macro avg       0.68      0.74      0.68       420\n",
      "weighted avg       0.79      0.71      0.72       420\n",
      "\n",
      "AUC-ROC:\t 0.8125018437122039\n",
      "Confusion Matrix:\n",
      " [[210 101]\n",
      " [ 22  87]]\n"
     ]
    }
   ],
   "source": [
    "print('FEMALE')\n",
    "print(classification_report(labels_test[female_idx], preds2[female_idx]))\n",
    "print('AUC-ROC:\\t', roc_auc_score(labels_test[female_idx], probs[female_idx]))\n",
    "cm = confusion_matrix(labels_test[female_idx], preds2[female_idx], labels = [0, 1])\n",
    "print('Confusion Matrix:\\n', cm)\n",
    "print('MALE')\n",
    "print(classification_report(labels_test[male_idx], preds2[male_idx]))\n",
    "print('AUC-ROC:\\t', roc_auc_score(labels_test[male_idx], probs[male_idx]))\n",
    "cm = confusion_matrix(labels_test[male_idx], preds2[male_idx], labels = [0, 1])\n",
    "print('Confusion Matrix:\\n', cm)"
   ]
  },
  {
   "cell_type": "code",
   "execution_count": 521,
   "id": "8c3855b6",
   "metadata": {},
   "outputs": [
    {
     "data": {
      "text/plain": [
       "SIEMENS                  406\n",
       "GE MEDICAL SYSTEMS        33\n",
       "TOSHIBA                   29\n",
       "Canon Medical Systems      2\n",
       "Siemens Healthineers       2\n",
       "Name: Manufacturer, dtype: int64"
      ]
     },
     "execution_count": 521,
     "metadata": {},
     "output_type": "execute_result"
    }
   ],
   "source": [
    "#manufacturer\n",
    "df_test.Manufacturer.value_counts()"
   ]
  },
  {
   "cell_type": "code",
   "execution_count": 142,
   "id": "f1af15c5",
   "metadata": {},
   "outputs": [
    {
     "name": "stdout",
     "output_type": "stream",
     "text": [
      "GE\n",
      "              precision    recall  f1-score   support\n",
      "\n",
      "         0.0       0.79      0.78      0.78        72\n",
      "         1.0       0.69      0.70      0.69        50\n",
      "\n",
      "    accuracy                           0.75       122\n",
      "   macro avg       0.74      0.74      0.74       122\n",
      "weighted avg       0.75      0.75      0.75       122\n",
      "\n",
      "AUC-ROC:\t 0.843611111111111\n",
      "Confusion Matrix:\n",
      " [[56 16]\n",
      " [15 35]]\n",
      "SIEMENS\n",
      "              precision    recall  f1-score   support\n",
      "\n",
      "         0.0       0.75      0.79      0.77       393\n",
      "         1.0       0.78      0.74      0.76       405\n",
      "\n",
      "    accuracy                           0.76       798\n",
      "   macro avg       0.77      0.76      0.76       798\n",
      "weighted avg       0.77      0.76      0.76       798\n",
      "\n",
      "AUC-ROC:\t 0.8460025759432036\n",
      "Confusion Matrix:\n",
      " [[311  82]\n",
      " [106 299]]\n",
      "TOSHIBA\n",
      "              precision    recall  f1-score   support\n",
      "\n",
      "         0.0       0.82      0.69      0.75        26\n",
      "         1.0       0.60      0.75      0.67        16\n",
      "\n",
      "    accuracy                           0.71        42\n",
      "   macro avg       0.71      0.72      0.71        42\n",
      "weighted avg       0.74      0.71      0.72        42\n",
      "\n",
      "AUC-ROC:\t 0.7692307692307692\n",
      "Confusion Matrix:\n",
      " [[18  8]\n",
      " [ 4 12]]\n"
     ]
    }
   ],
   "source": [
    "companies = ['ge', 'siemens', 'toshiba']\n",
    "for c in companies:\n",
    "    print(c.upper())\n",
    "    idx = np.array([i for i in range(len(df_test)) if c in df_test.Manufacturer.values[i].lower()])\n",
    "    #print(idx)\n",
    "    print(classification_report(labels_test[idx], preds2[idx]))\n",
    "    print('AUC-ROC:\\t', roc_auc_score(labels_test[idx], probs[idx]))\n",
    "    cm = confusion_matrix(labels_test[idx], preds2[idx], labels = [0, 1])\n",
    "    print('Confusion Matrix:\\n', cm)"
   ]
  },
  {
   "cell_type": "code",
   "execution_count": 45,
   "id": "c4324be4",
   "metadata": {},
   "outputs": [
    {
     "name": "stdout",
     "output_type": "stream",
     "text": [
      "0-250\n",
      "              precision    recall  f1-score   support\n",
      "\n",
      "         0.0       0.66      0.48      0.56        56\n",
      "         1.0       0.79      0.89      0.84       123\n",
      "\n",
      "    accuracy                           0.76       179\n",
      "   macro avg       0.72      0.68      0.70       179\n",
      "weighted avg       0.75      0.76      0.75       179\n",
      "\n",
      "AUC-ROC:\t 0.7983449477351916\n",
      "Confusion Matrix:\n",
      " [[ 27  29]\n",
      " [ 14 109]]\n",
      "250-350\n",
      "              precision    recall  f1-score   support\n",
      "\n",
      "         0.0       0.85      0.65      0.74       472\n",
      "         1.0       0.67      0.85      0.75       380\n",
      "\n",
      "    accuracy                           0.74       852\n",
      "   macro avg       0.76      0.75      0.74       852\n",
      "weighted avg       0.77      0.74      0.74       852\n",
      "\n",
      "AUC-ROC:\t 0.8392060660124889\n",
      "Confusion Matrix:\n",
      " [[309 163]\n",
      " [ 56 324]]\n",
      "350-1000\n",
      "              precision    recall  f1-score   support\n",
      "\n",
      "         0.0       0.90      0.63      0.74       142\n",
      "         1.0       0.30      0.69      0.42        32\n",
      "\n",
      "    accuracy                           0.64       174\n",
      "   macro avg       0.60      0.66      0.58       174\n",
      "weighted avg       0.79      0.64      0.68       174\n",
      "\n",
      "AUC-ROC:\t 0.7213908450704225\n",
      "Confusion Matrix:\n",
      " [[90 52]\n",
      " [10 22]]\n"
     ]
    }
   ],
   "source": [
    "dia = [0, 250, 350, 1000]\n",
    "for i in range(1, len(dia)):\n",
    "    lower = dia[i-1]\n",
    "    upper = dia[i]\n",
    "    print(str(lower)+'-'+str(upper))\n",
    "    idx = np.array([i for i in range(len(df_test)) if (df_test.CrossSectionSpacing.values[i]>=lower and df_test.CrossSectionSpacing.values[i]<upper)])\n",
    "    #print(idx)\n",
    "    print(classification_report(labels_test[idx], preds2[idx]))\n",
    "    print('AUC-ROC:\\t', roc_auc_score(labels_test[idx], probs[idx]))\n",
    "    cm = confusion_matrix(labels_test[idx], preds2[idx], labels = [0, 1])\n",
    "    print('Confusion Matrix:\\n', cm)"
   ]
  },
  {
   "cell_type": "markdown",
   "id": "f2ac0aef",
   "metadata": {},
   "source": [
    "## Coronal results"
   ]
  },
  {
   "cell_type": "code",
   "execution_count": null,
   "id": "81bdeb64",
   "metadata": {},
   "outputs": [],
   "source": [
    "# ml-74f6-phi-shared-aif-us-p/Amara/Osteo/Class/train/train-20 and test/test-13 -- 1235 result - both train and test\n",
    "# test results\n",
    "#../bucket/Amara/Osteo/Class/test/test-06"
   ]
  },
  {
   "cell_type": "code",
   "execution_count": 38,
   "id": "1714dec9",
   "metadata": {},
   "outputs": [
    {
     "data": {
      "text/plain": [
       "dict_keys(['labels', 'preds', 'probs'])"
      ]
     },
     "execution_count": 38,
     "metadata": {},
     "output_type": "execute_result"
    }
   ],
   "source": [
    "dct = pkl.load(open('../bucket/Amara/Osteo/Class/train/train-32/test_predictions.pkl', 'rb'))\n",
    "labels_test = np.array(dct['labels'])\n",
    "preds = np.array(dct['preds'])\n",
    "probs = np.array(dct['probs'])\n",
    "preds2 = np.array([1 if sigmoid(probs[i])>0.1958 else 0 for i in range(len(preds))])\n",
    "dct.keys()"
   ]
  },
  {
   "cell_type": "code",
   "execution_count": 40,
   "id": "a05095e3",
   "metadata": {},
   "outputs": [
    {
     "name": "stdout",
     "output_type": "stream",
     "text": [
      "Iteration:\t0\n",
      "Iteration:\t100\n",
      "Iteration:\t200\n",
      "Iteration:\t300\n",
      "Iteration:\t400\n",
      "Iteration:\t500\n",
      "Iteration:\t600\n",
      "Iteration:\t700\n",
      "Iteration:\t800\n",
      "Iteration:\t900\n",
      "95.0 confidence interval \n",
      "Precision\n",
      "[72.9-76.0]\n",
      "Recall\n",
      "[72.8-76.0]\n",
      "F-score\n",
      "[71.8-75.1]\n",
      "AUC-ROC\n",
      "[81.1-84.2]\n"
     ]
    }
   ],
   "source": [
    "##confidence interval\n",
    "from random import randint, sample\n",
    "\n",
    "\n",
    "dct = pkl.load(open('../bucket/Amara/Osteo/Class/train/train-32/test_predictions.pkl', 'rb'))\n",
    "y_test = np.array(dct['labels'])\n",
    "preds = np.array(dct['preds'])\n",
    "probs = np.array(dct['probs'])\n",
    "\n",
    "#preds = np.array([1 if (probs[i])>0.374 else 0 for i in range(len(preds))])\n",
    "\n",
    "target_test = y_test\n",
    "\n",
    "avg_precision = []\n",
    "avg_recall = []\n",
    "avg_fscore = []\n",
    "aucroc = []\n",
    "   \n",
    "test_set_size = len(target_test)\n",
    "for i in range(1000):\n",
    "    # randomly pick size of the test set\n",
    "    i_size = randint(round(0.5*test_set_size), test_set_size)\n",
    "    \n",
    "    i_test_idx = sample([ii for ii in range(test_set_size)], i_size)\n",
    "    i_test_idx.sort()\n",
    "    \n",
    "    \n",
    "\n",
    "\n",
    "    i_y_test = target_test[i_test_idx]\n",
    "    i_y_pred = preds[i_test_idx]\n",
    "    i_y_prob = probs[i_test_idx]\n",
    "\n",
    "    dct = classification_report(i_y_test, i_y_pred, output_dict=True, zero_division=0)\n",
    "    avg_precision.append(dct['macro avg']['precision'])\n",
    "    avg_recall.append(dct['macro avg']['recall'])\n",
    "    avg_fscore.append(dct['macro avg']['f1-score'])\n",
    "\n",
    "    aucroc.append(roc_auc_score(i_y_test, i_y_prob))\n",
    "    if i%100==0:\n",
    "        print('Iteration:\\t'+str(i))\n",
    "        \n",
    "# confidence intervals\n",
    "alpha = 0.95\n",
    "print('%.1f confidence interval ' % (alpha*100))\n",
    "\n",
    "\n",
    "p = ((1.0-alpha)/2.0) * 100\n",
    "lower = np.percentile(avg_precision, p, axis= 0)\n",
    "p = (alpha+((1.0-alpha)/2.0)) * 100\n",
    "upper = np.percentile(avg_precision, p, axis = 0)\n",
    "print('Precision')\n",
    "print('['+str(np.round(lower*100, decimals=1))+'-'+str(np.round(upper*100, decimals=1))+']')\n",
    "\n",
    "p = ((1.0-alpha)/2.0) * 100\n",
    "lower = np.percentile(avg_recall, p, axis= 0)\n",
    "p = (alpha+((1.0-alpha)/2.0)) * 100\n",
    "upper = np.percentile(avg_recall, p, axis = 0)\n",
    "print('Recall')\n",
    "print('['+str(np.round(lower*100, decimals=1))+'-'+str(np.round(upper*100, decimals=1))+']')\n",
    "\n",
    "p = ((1.0-alpha)/2.0) * 100\n",
    "lower = np.percentile(avg_fscore, p, axis= 0)\n",
    "p = (alpha+((1.0-alpha)/2.0)) * 100\n",
    "upper = np.percentile(avg_fscore, p, axis = 0)\n",
    "print('F-score')\n",
    "print('['+str(np.round(lower*100, decimals=1))+'-'+str(np.round(upper*100, decimals=1))+']')\n",
    "\n",
    "p = ((1.0-alpha)/2.0) * 100\n",
    "lower = np.percentile(aucroc, p, axis= 0)\n",
    "p = (alpha+((1.0-alpha)/2.0)) * 100\n",
    "upper = np.percentile(aucroc, p, axis = 0)\n",
    "print('AUC-ROC')\n",
    "print('['+str(np.round(lower*100, decimals=1))+'-'+str(np.round(upper*100, decimals=1))+']')"
   ]
  },
  {
   "cell_type": "code",
   "execution_count": 42,
   "id": "3c1cc26f",
   "metadata": {},
   "outputs": [
    {
     "name": "stdout",
     "output_type": "stream",
     "text": [
      "              precision    recall  f1-score   support\n",
      "\n",
      "         0.0       0.83      0.66      0.73       670\n",
      "         1.0       0.66      0.83      0.73       535\n",
      "\n",
      "    accuracy                           0.73      1205\n",
      "   macro avg       0.74      0.74      0.73      1205\n",
      "weighted avg       0.75      0.73      0.73      1205\n",
      "\n",
      "AUC-ROC:\t 0.826349560608174\n",
      "Confusion Matrix:\n",
      " [[441 229]\n",
      " [ 92 443]]\n"
     ]
    }
   ],
   "source": [
    "#preds2 = np.array([1 if probs[i]>0.374 else 0 for i in range(len(preds))])\n",
    "print(classification_report(labels_test, preds))\n",
    "print('AUC-ROC:\\t', roc_auc_score(labels_test, probs))\n",
    "cm = confusion_matrix(labels_test, preds, labels = [0, 1])\n",
    "print('Confusion Matrix:\\n', cm)\n",
    "# fg = plot_confusion_matrix(cm , normalize = False, target_names= ['No Osteoporosis', 'Osteoproorses'] )\n",
    "# fg.savefig('../bucket/Amara/Osteo/Results/CM_coronal.jpg', bbox_inches='tight')"
   ]
  },
  {
   "cell_type": "code",
   "execution_count": 47,
   "id": "9ee296e8",
   "metadata": {},
   "outputs": [
    {
     "name": "stdout",
     "output_type": "stream",
     "text": [
      "FEMALE\n",
      "              precision    recall  f1-score   support\n",
      "\n",
      "           0       0.78      0.58      0.66       359\n",
      "           1       0.71      0.86      0.78       426\n",
      "\n",
      "    accuracy                           0.73       785\n",
      "   macro avg       0.74      0.72      0.72       785\n",
      "weighted avg       0.74      0.73      0.72       785\n",
      "\n",
      "AUC-ROC:\t 0.807282880196686\n",
      "Confusion Matrix:\n",
      " [[208 151]\n",
      " [ 60 366]]\n",
      "MALE\n",
      "              precision    recall  f1-score   support\n",
      "\n",
      "           0       0.88      0.75      0.81       311\n",
      "           1       0.50      0.71      0.58       109\n",
      "\n",
      "    accuracy                           0.74       420\n",
      "   macro avg       0.69      0.73      0.70       420\n",
      "weighted avg       0.78      0.74      0.75       420\n",
      "\n",
      "AUC-ROC:\t 0.8105253842296234\n",
      "Confusion Matrix:\n",
      " [[233  78]\n",
      " [ 32  77]]\n"
     ]
    }
   ],
   "source": [
    "preds2 = preds\n",
    "print('FEMALE')\n",
    "print(classification_report(labels_test[female_idx], preds2[female_idx]))\n",
    "print('AUC-ROC:\\t', roc_auc_score(labels_test[female_idx], probs[female_idx]))\n",
    "cm = confusion_matrix(labels_test[female_idx], preds2[female_idx], labels = [0, 1])\n",
    "print('Confusion Matrix:\\n', cm)\n",
    "print('MALE')\n",
    "print(classification_report(labels_test[male_idx], preds2[male_idx]))\n",
    "print('AUC-ROC:\\t', roc_auc_score(labels_test[male_idx], probs[male_idx]))\n",
    "cm = confusion_matrix(labels_test[male_idx], preds2[male_idx], labels = [0, 1])\n",
    "print('Confusion Matrix:\\n', cm)\n",
    "# fg = plot_confusion_matrix(cm , normalize = False, target_names= ['No Osteoporosis', 'Osteoproorses'] )\n",
    "# fg.savefig('../bucket/Amara/Osteo/Results/CM_Coronal_female.jpg', bbox_inches='tight')"
   ]
  },
  {
   "cell_type": "code",
   "execution_count": 48,
   "id": "d88737e2",
   "metadata": {},
   "outputs": [
    {
     "name": "stdout",
     "output_type": "stream",
     "text": [
      "GE\n",
      "              precision    recall  f1-score   support\n",
      "\n",
      "           0       0.85      0.81      0.83        85\n",
      "           1       0.78      0.83      0.81        70\n",
      "\n",
      "    accuracy                           0.82       155\n",
      "   macro avg       0.82      0.82      0.82       155\n",
      "weighted avg       0.82      0.82      0.82       155\n",
      "\n",
      "AUC-ROC:\t 0.9028571428571429\n",
      "Confusion Matrix:\n",
      " [[69 16]\n",
      " [12 58]]\n",
      "SIEMENS\n",
      "              precision    recall  f1-score   support\n",
      "\n",
      "           0       0.82      0.63      0.71       561\n",
      "           1       0.64      0.83      0.72       442\n",
      "\n",
      "    accuracy                           0.71      1003\n",
      "   macro avg       0.73      0.73      0.71      1003\n",
      "weighted avg       0.74      0.71      0.71      1003\n",
      "\n",
      "AUC-ROC:\t 0.8112775344609255\n",
      "Confusion Matrix:\n",
      " [[352 209]\n",
      " [ 77 365]]\n",
      "TOSHIBA\n",
      "              precision    recall  f1-score   support\n",
      "\n",
      "           0       0.87      0.83      0.85        24\n",
      "           1       0.83      0.87      0.85        23\n",
      "\n",
      "    accuracy                           0.85        47\n",
      "   macro avg       0.85      0.85      0.85        47\n",
      "weighted avg       0.85      0.85      0.85        47\n",
      "\n",
      "AUC-ROC:\t 0.8913043478260869\n",
      "Confusion Matrix:\n",
      " [[20  4]\n",
      " [ 3 20]]\n"
     ]
    }
   ],
   "source": [
    "companies = ['ge', 'siemens', 'toshiba']\n",
    "for c in companies:\n",
    "    print(c.upper())\n",
    "    idx = np.array([i for i in range(len(df_test)) if c in df_test.Manufacturer.values[i].lower()])\n",
    "    #print(idx)\n",
    "    print(classification_report(labels_test[idx], preds2[idx]))\n",
    "    print('AUC-ROC:\\t', roc_auc_score(labels_test[idx], probs[idx]))\n",
    "    cm = confusion_matrix(labels_test[idx], preds2[idx], labels = [0, 1])\n",
    "    print('Confusion Matrix:\\n', cm)"
   ]
  },
  {
   "cell_type": "code",
   "execution_count": 49,
   "id": "0872d2af",
   "metadata": {},
   "outputs": [
    {
     "name": "stdout",
     "output_type": "stream",
     "text": [
      "0-250\n",
      "              precision    recall  f1-score   support\n",
      "\n",
      "           0       0.69      0.48      0.57        56\n",
      "           1       0.79      0.90      0.84       123\n",
      "\n",
      "    accuracy                           0.77       179\n",
      "   macro avg       0.74      0.69      0.71       179\n",
      "weighted avg       0.76      0.77      0.76       179\n",
      "\n",
      "AUC-ROC:\t 0.7971835075493612\n",
      "Confusion Matrix:\n",
      " [[ 27  29]\n",
      " [ 12 111]]\n",
      "250-350\n",
      "              precision    recall  f1-score   support\n",
      "\n",
      "           0       0.82      0.64      0.72       472\n",
      "           1       0.65      0.82      0.73       380\n",
      "\n",
      "    accuracy                           0.72       852\n",
      "   macro avg       0.73      0.73      0.72       852\n",
      "weighted avg       0.74      0.72      0.72       852\n",
      "\n",
      "AUC-ROC:\t 0.8149420160570918\n",
      "Confusion Matrix:\n",
      " [[303 169]\n",
      " [ 67 313]]\n",
      "350-1000\n",
      "              precision    recall  f1-score   support\n",
      "\n",
      "           0       0.90      0.78      0.83       142\n",
      "           1       0.38      0.59      0.46        32\n",
      "\n",
      "    accuracy                           0.75       174\n",
      "   macro avg       0.64      0.69      0.65       174\n",
      "weighted avg       0.80      0.75      0.77       174\n",
      "\n",
      "AUC-ROC:\t 0.7658450704225351\n",
      "Confusion Matrix:\n",
      " [[111  31]\n",
      " [ 13  19]]\n"
     ]
    }
   ],
   "source": [
    "dia = [0, 250, 350, 1000]\n",
    "for i in range(1, len(dia)):\n",
    "    lower = dia[i-1]\n",
    "    upper = dia[i]\n",
    "    print(str(lower)+'-'+str(upper))\n",
    "    idx = np.array([i for i in range(len(df_test)) if (df_test.CrossSectionSpacing.values[i]>=lower and df_test.CrossSectionSpacing.values[i]<upper)])\n",
    "    #print(idx)\n",
    "    print(classification_report(labels_test[idx], preds2[idx]))\n",
    "    print('AUC-ROC:\\t', roc_auc_score(labels_test[idx], probs[idx]))\n",
    "    cm = confusion_matrix(labels_test[idx], preds2[idx], labels = [0, 1])\n",
    "    print('Confusion Matrix:\\n', cm)"
   ]
  },
  {
   "cell_type": "markdown",
   "id": "3b4be1b1",
   "metadata": {},
   "source": [
    "## Late Fusion"
   ]
  },
  {
   "cell_type": "code",
   "execution_count": 449,
   "id": "b42fd839",
   "metadata": {},
   "outputs": [],
   "source": [
    "import xgboost as xgb"
   ]
  },
  {
   "cell_type": "code",
   "execution_count": 50,
   "id": "19a15888",
   "metadata": {},
   "outputs": [
    {
     "name": "stdout",
     "output_type": "stream",
     "text": [
      "6083\n",
      "0    3108\n",
      "1    2975\n",
      "Name: Label, dtype: int64\n",
      "6          2385\n",
      "7          1482\n",
      "5          1384\n",
      "8           555\n",
      "UNKNOWN     222\n",
      "9            55\n",
      "Name: PatientAge_mapped, dtype: int64\n"
     ]
    },
    {
     "name": "stderr",
     "output_type": "stream",
     "text": [
      "/opt/conda/lib/python3.7/site-packages/IPython/core/interactiveshell.py:3170: DtypeWarning: Columns (18,22) have mixed types.Specify dtype option on import or set low_memory=False.\n",
      "  interactivity=interactivity, compiler=compiler, result=result)\n"
     ]
    }
   ],
   "source": [
    "df = pd.read_csv('../bucket/Amara/Osteo/CT_ABD_PELVIS_w_all_scores_mapped1235678_w_view_locations_w_L3_and_coronal_slice_patient_manufacturer_info_cohort_only_histogram_cross_section_pixelspacing.csv') #use this so that no L3 slice detected can be filtered out\n",
    "print(len(df))\n",
    "# df = df.dropna(subset=['Original DICOM file location-Transverse', 'Original DICOM file location-Coronal', 'TOTAL_SPINE_TSCORE', 'L3_slice'], how='any')\n",
    "# print(len(df))\n",
    "\n",
    "def labeling(x):\n",
    "    if x<=-1:\n",
    "        return 1\n",
    "    else:\n",
    "        return 0\n",
    "    \n",
    "df['Label'] = df['TOTAL_SPINE_TSCORE'].apply(labeling)\n",
    "print(df['Label'].value_counts())\n",
    "\n",
    "df['PatientAge_mapped'] = df.PatientAge.apply(age_mapping)\n",
    "print(df['PatientAge_mapped'].value_counts())\n",
    "\n",
    "# dct = pkl.load(open('../bucket/Amara/Osteo/CT_acc_split_basic1235678.pkl', 'rb'))\n",
    "# acc_train = dct['CT_acc_train']\n",
    "# acc_test = dct['CT_acc_test']\n",
    "# acc_val = dct['CT_acc_val']\n",
    "\n",
    "# df_train = df.loc[df.CT_acc.isin(acc_train)]\n",
    "# df_test = df.loc[df.CT_acc.isin(acc_test)]\n",
    "# df_val = df.loc[df.CT_acc.isin(acc_val)]"
   ]
  },
  {
   "cell_type": "code",
   "execution_count": 51,
   "id": "3286d531",
   "metadata": {},
   "outputs": [
    {
     "name": "stdout",
     "output_type": "stream",
     "text": [
      "(4408, 4) 4408 (1205, 4) 1205\n"
     ]
    }
   ],
   "source": [
    "## Training\n",
    "dct_axial = pkl.load(open('../bucket/Amara/Osteo/Class/train/train-30/train_predictions.pkl', 'rb'))\n",
    "dct_coronal = pkl.load(open('../bucket/Amara/Osteo/Class/train/train-32/train_predictions.pkl', 'rb'))\n",
    "#pkl.load(open('../bucket/Amara/Osteo/Class/train/train-21/train_predictions.pkl', 'rb'))\n",
    "dct_axial['probs'] = np.array(dct_axial['probs'])\n",
    "dct_coronal['probs'] = np.array(dct_coronal['probs'])\n",
    "mat = np.array([(dct_axial['probs']), 1-(dct_axial['probs']), (dct_coronal['probs']), 1-(dct_coronal['probs'])]).transpose()\n",
    "labels_train = dct_axial['labels']\n",
    "\n",
    "#Test\n",
    "dct_axial = pkl.load(open('../bucket/Amara/Osteo/Class/train/train-30/test_predictions.pkl', 'rb'))\n",
    "dct_coronal = pkl.load(open('../bucket/Amara/Osteo/Class/train/train-32/test_predictions.pkl', 'rb'))\n",
    "#pkl.load(open('../bucket/Amara/Osteo/Class/train/train-21/test_predictions.pkl', 'rb'))\n",
    "dct_axial['probs'] = np.array(dct_axial['probs'])\n",
    "dct_coronal['probs'] = np.array(dct_coronal['probs'])\n",
    "mat_test = np.array([dct_axial['probs'], 1-(dct_axial['probs']), (dct_coronal['probs']), 1-(dct_coronal['probs'])]).transpose()\n",
    "labels_test = dct_axial['labels']\n",
    "\n",
    "print(mat.shape, len(labels_train), mat_test.shape, len(labels_test))"
   ]
  },
  {
   "cell_type": "code",
   "execution_count": 404,
   "id": "eb93d69a",
   "metadata": {},
   "outputs": [
    {
     "data": {
      "text/plain": [
       "array([0.24712649, 0.24939274, 0.25953168, 0.24394908])"
      ]
     },
     "execution_count": 404,
     "metadata": {},
     "output_type": "execute_result"
    }
   ],
   "source": [
    "clf.feature_importances_#coef_#"
   ]
  },
  {
   "cell_type": "code",
   "execution_count": 52,
   "id": "3384d4fb",
   "metadata": {},
   "outputs": [
    {
     "name": "stdout",
     "output_type": "stream",
     "text": [
      "              precision    recall  f1-score   support\n",
      "\n",
      "         0.0       0.82      0.80      0.81       670\n",
      "         1.0       0.76      0.79      0.77       535\n",
      "\n",
      "    accuracy                           0.79      1205\n",
      "   macro avg       0.79      0.79      0.79      1205\n",
      "weighted avg       0.79      0.79      0.79      1205\n",
      "\n",
      "AUC-ROC:\t 0.8696777793276609\n",
      "Confusion Matrix:\n",
      " [[535 135]\n",
      " [115 420]]\n"
     ]
    }
   ],
   "source": [
    "clf = RandomForestClassifier(random_state=0, max_depth=4)#xgb.XGBClassifier(max_depth=1, subsample=0.6)#\n",
    "clf.fit(mat, labels_train)\n",
    "\n",
    "preds = clf.predict(mat_test)\n",
    "probs = clf.predict_proba(mat_test)\n",
    "preds2 = np.array([1 if probs[i,1]>=0.5 else 0 for i in range(len(preds))])  #max depth 2, th .325\n",
    "\n",
    "print(classification_report(labels_test, preds2))\n",
    "print('AUC-ROC:\\t', roc_auc_score(labels_test, probs[:,1]))\n",
    "cm = confusion_matrix(labels_test, preds2, labels = [0, 1])\n",
    "print('Confusion Matrix:\\n', cm)\n",
    "dct = {}\n",
    "dct['labels'] = labels_test\n",
    "dct['preds'] = preds\n",
    "dct['probs'] = probs\n",
    "\n",
    "labels_test = np.array(dct['labels'])\n",
    "preds = np.array(dct['preds'])\n",
    "probs = np.array(dct['probs'])\n",
    "\n",
    "pkl.dump(dct, open('../bucket/Amara/Osteo/Results/late_fusion_resized_detected_coronal_6k_mrn.pkl', 'wb'))\n",
    "# fg = plot_confusion_matrix(cm , normalize = False, target_names= ['No Osteoporosis', 'Osteoproorses'] )\n",
    "# fg.savefig('../bucket/Amara/Osteo/Results/late_fusion.jpg', bbox_inches='tight')"
   ]
  },
  {
   "cell_type": "code",
   "execution_count": 53,
   "id": "f4b360d2",
   "metadata": {},
   "outputs": [
    {
     "name": "stdout",
     "output_type": "stream",
     "text": [
      "Iteration:\t0\n",
      "Iteration:\t100\n",
      "Iteration:\t200\n",
      "Iteration:\t300\n",
      "Iteration:\t400\n",
      "Iteration:\t500\n",
      "Iteration:\t600\n",
      "Iteration:\t700\n",
      "Iteration:\t800\n",
      "Iteration:\t900\n",
      "95.0 confidence interval \n",
      "Precision\n",
      "[77.6-80.6]\n",
      "Recall\n",
      "[77.7-80.8]\n",
      "F-score\n",
      "[77.7-80.6]\n",
      "AUC-ROC\n",
      "[85.7-88.2]\n"
     ]
    }
   ],
   "source": [
    "##confidence interval\n",
    "from random import randint, sample\n",
    "\n",
    "\n",
    "dct = pkl.load(open('../bucket/Amara/Osteo/Results/late_fusion_resized_detected_coronal_6k_mrn.pkl', 'rb'))\n",
    "y_test = np.array(dct['labels'])\n",
    "preds = np.array(dct['preds'])\n",
    "probs = np.array(dct['probs'])\n",
    "preds = np.array([1 if probs[i,1]>=0.5 else 0 for i in range(len(preds))])\n",
    "\n",
    "target_test = y_test\n",
    "\n",
    "avg_precision = []\n",
    "avg_recall = []\n",
    "avg_fscore = []\n",
    "aucroc = []\n",
    "   \n",
    "test_set_size = len(target_test)\n",
    "for i in range(1000):\n",
    "    # randomly pick size of the test set\n",
    "    i_size = randint(round(0.5*test_set_size), test_set_size)\n",
    "    \n",
    "    i_test_idx = sample([ii for ii in range(test_set_size)], i_size)\n",
    "    i_test_idx.sort()\n",
    "    \n",
    "    \n",
    "\n",
    "\n",
    "    i_y_test = target_test[i_test_idx]\n",
    "    i_y_pred = preds[i_test_idx]\n",
    "    i_y_prob = probs[i_test_idx,1]\n",
    "\n",
    "    dct = classification_report(i_y_test, i_y_pred, output_dict=True, zero_division=0)\n",
    "    avg_precision.append(dct['macro avg']['precision'])\n",
    "    avg_recall.append(dct['macro avg']['recall'])\n",
    "    avg_fscore.append(dct['macro avg']['f1-score'])\n",
    "\n",
    "    aucroc.append(roc_auc_score(i_y_test, i_y_prob))\n",
    "    if i%100==0:\n",
    "        print('Iteration:\\t'+str(i))\n",
    "        \n",
    "# confidence intervals\n",
    "alpha = 0.95\n",
    "print('%.1f confidence interval ' % (alpha*100))\n",
    "\n",
    "\n",
    "p = ((1.0-alpha)/2.0) * 100\n",
    "lower = np.percentile(avg_precision, p, axis= 0)\n",
    "p = (alpha+((1.0-alpha)/2.0)) * 100\n",
    "upper = np.percentile(avg_precision, p, axis = 0)\n",
    "print('Precision')\n",
    "print('['+str(np.round(lower*100, decimals=1))+'-'+str(np.round(upper*100, decimals=1))+']')\n",
    "\n",
    "p = ((1.0-alpha)/2.0) * 100\n",
    "lower = np.percentile(avg_recall, p, axis= 0)\n",
    "p = (alpha+((1.0-alpha)/2.0)) * 100\n",
    "upper = np.percentile(avg_recall, p, axis = 0)\n",
    "print('Recall')\n",
    "print('['+str(np.round(lower*100, decimals=1))+'-'+str(np.round(upper*100, decimals=1))+']')\n",
    "\n",
    "p = ((1.0-alpha)/2.0) * 100\n",
    "lower = np.percentile(avg_fscore, p, axis= 0)\n",
    "p = (alpha+((1.0-alpha)/2.0)) * 100\n",
    "upper = np.percentile(avg_fscore, p, axis = 0)\n",
    "print('F-score')\n",
    "print('['+str(np.round(lower*100, decimals=1))+'-'+str(np.round(upper*100, decimals=1))+']')\n",
    "\n",
    "p = ((1.0-alpha)/2.0) * 100\n",
    "lower = np.percentile(aucroc, p, axis= 0)\n",
    "p = (alpha+((1.0-alpha)/2.0)) * 100\n",
    "upper = np.percentile(aucroc, p, axis = 0)\n",
    "print('AUC-ROC')\n",
    "print('['+str(np.round(lower*100, decimals=1))+'-'+str(np.round(upper*100, decimals=1))+']')"
   ]
  },
  {
   "cell_type": "code",
   "execution_count": 54,
   "id": "c846439d",
   "metadata": {},
   "outputs": [
    {
     "name": "stdout",
     "output_type": "stream",
     "text": [
      "FEMALE\n",
      "              precision    recall  f1-score   support\n",
      "\n",
      "         0.0       0.78      0.76      0.77       359\n",
      "         1.0       0.80      0.82      0.81       426\n",
      "\n",
      "    accuracy                           0.79       785\n",
      "   macro avg       0.79      0.79      0.79       785\n",
      "weighted avg       0.79      0.79      0.79       785\n",
      "\n",
      "AUC-ROC:\t 0.8559934350765689\n",
      "Confusion Matrix:\n",
      " [[272  87]\n",
      " [ 77 349]]\n",
      "MALE\n",
      "              precision    recall  f1-score   support\n",
      "\n",
      "         0.0       0.87      0.85      0.86       311\n",
      "         1.0       0.60      0.65      0.62       109\n",
      "\n",
      "    accuracy                           0.80       420\n",
      "   macro avg       0.74      0.75      0.74       420\n",
      "weighted avg       0.80      0.80      0.80       420\n",
      "\n",
      "AUC-ROC:\t 0.8562051977934453\n",
      "Confusion Matrix:\n",
      " [[263  48]\n",
      " [ 38  71]]\n"
     ]
    }
   ],
   "source": [
    "dct = pkl.load(open('../bucket/Amara/Osteo/Results/late_fusion_resized_detected_coronal_6k_mrn.pkl', 'rb'))\n",
    "y_test = np.array(dct['labels'])\n",
    "preds = np.array(dct['preds'])\n",
    "probs = np.array(dct['probs'])\n",
    "preds2 = np.array([1 if probs[i,1]>=0.5 else 0 for i in range(len(preds))])\n",
    "\n",
    "\n",
    "print('FEMALE')\n",
    "print(classification_report(labels_test[female_idx], preds2[female_idx]))\n",
    "print('AUC-ROC:\\t', roc_auc_score(labels_test[female_idx], probs[female_idx, 1]))\n",
    "cm = confusion_matrix(labels_test[female_idx], preds2[female_idx], labels = [0, 1])\n",
    "print('Confusion Matrix:\\n', cm)\n",
    "print('MALE')\n",
    "print(classification_report(labels_test[male_idx], preds2[male_idx]))\n",
    "print('AUC-ROC:\\t', roc_auc_score(labels_test[male_idx], probs[male_idx, 1]))\n",
    "cm = confusion_matrix(labels_test[male_idx], preds2[male_idx], labels = [0, 1])\n",
    "print('Confusion Matrix:\\n', cm)"
   ]
  },
  {
   "cell_type": "code",
   "execution_count": 55,
   "id": "d9e9a4d3",
   "metadata": {},
   "outputs": [
    {
     "name": "stdout",
     "output_type": "stream",
     "text": [
      "GE\n",
      "              precision    recall  f1-score   support\n",
      "\n",
      "         0.0       0.80      0.89      0.84        85\n",
      "         1.0       0.85      0.73      0.78        70\n",
      "\n",
      "    accuracy                           0.82       155\n",
      "   macro avg       0.82      0.81      0.81       155\n",
      "weighted avg       0.82      0.82      0.82       155\n",
      "\n",
      "AUC-ROC:\t 0.9137815126050421\n",
      "Confusion Matrix:\n",
      " [[76  9]\n",
      " [19 51]]\n",
      "SIEMENS\n",
      "              precision    recall  f1-score   support\n",
      "\n",
      "         0.0       0.82      0.78      0.80       561\n",
      "         1.0       0.74      0.79      0.76       442\n",
      "\n",
      "    accuracy                           0.78      1003\n",
      "   macro avg       0.78      0.78      0.78      1003\n",
      "weighted avg       0.79      0.78      0.78      1003\n",
      "\n",
      "AUC-ROC:\t 0.8613658544454393\n",
      "Confusion Matrix:\n",
      " [[437 124]\n",
      " [ 93 349]]\n",
      "TOSHIBA\n",
      "              precision    recall  f1-score   support\n",
      "\n",
      "         0.0       0.88      0.92      0.90        24\n",
      "         1.0       0.91      0.87      0.89        23\n",
      "\n",
      "    accuracy                           0.89        47\n",
      "   macro avg       0.89      0.89      0.89        47\n",
      "weighted avg       0.89      0.89      0.89        47\n",
      "\n",
      "AUC-ROC:\t 0.8967391304347826\n",
      "Confusion Matrix:\n",
      " [[22  2]\n",
      " [ 3 20]]\n"
     ]
    }
   ],
   "source": [
    "companies = ['ge', 'siemens', 'toshiba']\n",
    "for c in companies:\n",
    "    print(c.upper())\n",
    "    idx = np.array([i for i in range(len(df_test)) if c in df_test.Manufacturer.values[i].lower()])\n",
    "    #print(idx)\n",
    "    print(classification_report(labels_test[idx], preds2[idx]))\n",
    "    print('AUC-ROC:\\t', roc_auc_score(labels_test[idx], probs[idx,1]))\n",
    "    cm = confusion_matrix(labels_test[idx], preds2[idx], labels = [0, 1])\n",
    "    print('Confusion Matrix:\\n', cm)"
   ]
  },
  {
   "cell_type": "code",
   "execution_count": 56,
   "id": "2d568447",
   "metadata": {},
   "outputs": [
    {
     "name": "stdout",
     "output_type": "stream",
     "text": [
      "0-250\n",
      "              precision    recall  f1-score   support\n",
      "\n",
      "         0.0       0.67      0.62      0.65        56\n",
      "         1.0       0.83      0.86      0.85       123\n",
      "\n",
      "    accuracy                           0.79       179\n",
      "   macro avg       0.75      0.74      0.75       179\n",
      "weighted avg       0.78      0.79      0.79       179\n",
      "\n",
      "AUC-ROC:\t 0.8307926829268293\n",
      "Confusion Matrix:\n",
      " [[ 35  21]\n",
      " [ 17 106]]\n",
      "250-350\n",
      "              precision    recall  f1-score   support\n",
      "\n",
      "         0.0       0.82      0.80      0.81       472\n",
      "         1.0       0.76      0.78      0.77       380\n",
      "\n",
      "    accuracy                           0.79       852\n",
      "   macro avg       0.79      0.79      0.79       852\n",
      "weighted avg       0.79      0.79      0.79       852\n",
      "\n",
      "AUC-ROC:\t 0.8697006021409455\n",
      "Confusion Matrix:\n",
      " [[376  96]\n",
      " [ 84 296]]\n",
      "350-1000\n",
      "              precision    recall  f1-score   support\n",
      "\n",
      "         0.0       0.90      0.87      0.89       142\n",
      "         1.0       0.50      0.56      0.53        32\n",
      "\n",
      "    accuracy                           0.82       174\n",
      "   macro avg       0.70      0.72      0.71       174\n",
      "weighted avg       0.83      0.82      0.82       174\n",
      "\n",
      "AUC-ROC:\t 0.785981514084507\n",
      "Confusion Matrix:\n",
      " [[124  18]\n",
      " [ 14  18]]\n"
     ]
    }
   ],
   "source": [
    "dia = [0, 250, 350, 1000]\n",
    "for i in range(1, len(dia)):\n",
    "    lower = dia[i-1]\n",
    "    upper = dia[i]\n",
    "    print(str(lower)+'-'+str(upper))\n",
    "    idx = np.array([i for i in range(len(df_test)) if (df_test.CrossSectionSpacing.values[i]>=lower and df_test.CrossSectionSpacing.values[i]<upper)])\n",
    "    #print(idx)\n",
    "    print(classification_report(labels_test[idx], preds2[idx]))\n",
    "    print('AUC-ROC:\\t', roc_auc_score(labels_test[idx], probs[idx,1]))\n",
    "    cm = confusion_matrix(labels_test[idx], preds2[idx], labels = [0, 1])\n",
    "    print('Confusion Matrix:\\n', cm)"
   ]
  },
  {
   "cell_type": "markdown",
   "id": "3bf51030",
   "metadata": {},
   "source": [
    "### Late Fusion - Axial+Coronal+Baseline"
   ]
  },
  {
   "cell_type": "code",
   "execution_count": null,
   "id": "11f34388",
   "metadata": {},
   "outputs": [],
   "source": [
    "df = pd.read_csv('../bucket/Amara/Osteo/CT_ABD_PELVIS_w_all_scores_mapped1235678_w_view_locations_w_L3_and_coronal_slice_patient_manufacturer_info_cohort_only_histogram_cross_section_pixelspacing_w_orientation.csv') #use this so that no L3 slice detected can be filtered out\n",
    "print(len(df))\n",
    "# df = df.dropna(subset=['Original DICOM file location-Transverse', 'Original DICOM file location-Coronal', 'TOTAL_SPINE_TSCORE', 'L3_slice'], how='any')\n",
    "# print(len(df))\n",
    "\n",
    "def labeling(x):\n",
    "    if x<=-1:\n",
    "        return 1\n",
    "    else:\n",
    "        return 0\n",
    "    \n",
    "df['Label'] = df['TOTAL_SPINE_TSCORE'].apply(labeling)\n",
    "print(df['Label'].value_counts())\n",
    "\n",
    "df['PatientAge_mapped'] = df.PatientAge.apply(age_mapping)\n",
    "print(df['PatientAge_mapped'].value_counts())\n",
    "\n",
    "# dct = pkl.load(open('../bucket/Amara/Osteo/CT_acc_split_basic1235678.pkl', 'rb'))\n",
    "# acc_train = dct['CT_acc_train']\n",
    "# acc_test = dct['CT_acc_test']\n",
    "# acc_val = dct['CT_acc_val']\n",
    "\n",
    "# df_train = df.loc[df.CT_acc.isin(acc_train)]\n",
    "# df_test = df.loc[df.CT_acc.isin(acc_test)]\n",
    "# df_val = df.loc[df.CT_acc.isin(acc_val)]\n",
    "\n",
    "dct = pkl.load(open('../bucket/Amara/Osteo/mrn_split_basic1235678.pkl', 'rb'))\n",
    "mrn_train = dct['mrn_train']\n",
    "mrn_test = dct['mrn_test']\n",
    "mrn_val = dct['mrn_val']\n",
    "\n",
    "df_train = df.loc[df.mrn.isin(mrn_train)]\n",
    "df_test = df.loc[df.mrn.isin(mrn_test)]\n",
    "df_val = df.loc[df.mrn.isin(mrn_val)]"
   ]
  },
  {
   "cell_type": "code",
   "execution_count": 195,
   "id": "276d3ab9",
   "metadata": {},
   "outputs": [
    {
     "name": "stdout",
     "output_type": "stream",
     "text": [
      "(4408, 6) 4408 (1205, 6) 1205\n"
     ]
    }
   ],
   "source": [
    "## Training\n",
    "dct_axial = pkl.load(open('../bucket/Amara/Osteo/Class/train/train-30/train_predictions.pkl', 'rb'))\n",
    "dct_coronal = pkl.load(open('../bucket/Amara/Osteo/Class/train/train-32/train_predictions.pkl', 'rb'))\n",
    "dct_baseline = pkl.load(open('../bucket/Amara/Osteo/Results/baseline_w_diameter_binned_training_6k_ann_mrn.pkl', 'rb'))\n",
    "dct_axial['probs'] = np.array(dct_axial['probs'])\n",
    "dct_coronal['probs'] = np.array(dct_coronal['probs'])\n",
    "\n",
    "mat = np.array([\n",
    "                (dct_coronal['probs']), 1-(dct_coronal['probs']),(dct_axial['probs']), 1-(dct_axial['probs']), \n",
    "               sigmoid(dct_baseline['probs'][:,1]), 1-sigmoid(dct_baseline['probs'][:,1])]).transpose()\n",
    "labels_train = dct_axial['labels']\n",
    "\n",
    "#Test\n",
    "dct_axial = pkl.load(open('../bucket/Amara/Osteo/Class/train/train-30/test_predictions.pkl', 'rb'))\n",
    "dct_coronal = pkl.load(open('../bucket/Amara/Osteo/Class/train/train-32/test_predictions.pkl', 'rb'))\n",
    "dct_baseline = pkl.load(open('../bucket/Amara/Osteo/Results/baseline_w_diameter_binned_test_6k_ann_mrn.pkl', 'rb'))\n",
    "dct_axial['probs'] = np.array(dct_axial['probs'])\n",
    "dct_coronal['probs'] = np.array(dct_coronal['probs'])\n",
    "mat_test = np.array([ \n",
    "                (dct_coronal['probs']), 1-(dct_coronal['probs']), (dct_axial['probs']), 1-(dct_axial['probs']),\n",
    "               sigmoid(dct_baseline['probs'][:,1]), 1-sigmoid(dct_baseline['probs'][:,1])]).transpose()\n",
    "labels_test = dct_axial['labels']\n",
    "\n",
    "print(mat.shape, len(labels_train), mat_test.shape, len(labels_test))"
   ]
  },
  {
   "cell_type": "code",
   "execution_count": 196,
   "id": "550534a9",
   "metadata": {},
   "outputs": [
    {
     "data": {
      "text/plain": [
       "array([0.69944677, 0.70336496, 0.63641154, 0.70653946, 0.54574399,\n",
       "       0.36499282])"
      ]
     },
     "execution_count": 196,
     "metadata": {},
     "output_type": "execute_result"
    }
   ],
   "source": [
    "from sklearn.preprocessing import normalize\n",
    "mat_norm = normalize(mat)\n",
    "mat_test_norm = normalize(mat_test)\n",
    "np.max(mat_norm, axis=0)"
   ]
  },
  {
   "cell_type": "code",
   "execution_count": 197,
   "id": "6f6d715b",
   "metadata": {},
   "outputs": [
    {
     "data": {
      "text/plain": [
       "array([0.55196799, 0.44803201, 0.17485663, 0.82514337, 0.5418184 ,\n",
       "       0.4581816 ])"
      ]
     },
     "execution_count": 197,
     "metadata": {},
     "output_type": "execute_result"
    }
   ],
   "source": [
    "from sklearn.preprocessing import MinMaxScaler, StandardScaler\n",
    "op = MinMaxScaler()#StandardScaler()#\n",
    "op = op.fit(mat)\n",
    "mat_norm = op.transform(mat)\n",
    "mat_test_norm = op.transform(mat_test)\n",
    "np.mean(mat_norm, axis=0)"
   ]
  },
  {
   "cell_type": "code",
   "execution_count": 198,
   "id": "488871ba",
   "metadata": {},
   "outputs": [
    {
     "data": {
      "text/plain": [
       "(array([0.00000000e+00, 2.14695930e-03, 2.84027680e-11, 1.34187877e-01,\n",
       "        5.25238874e-01, 2.98381028e-01]),\n",
       " array([0.99785304, 1.        , 0.86581212, 1.        , 0.70161897,\n",
       "        0.47476113]),\n",
       " array([0.55078293, 0.44921707, 0.15139299, 0.84860701, 0.62080486,\n",
       "        0.37919514]))"
      ]
     },
     "execution_count": 198,
     "metadata": {},
     "output_type": "execute_result"
    }
   ],
   "source": [
    "np.min(mat, axis=0), np.max(mat, axis=0), np.mean(mat, axis=0)"
   ]
  },
  {
   "cell_type": "code",
   "execution_count": 199,
   "id": "16946dc8",
   "metadata": {},
   "outputs": [
    {
     "data": {
      "text/plain": [
       "(array([0., 0., 0., 0., 0., 0.]),\n",
       " array([1., 1., 1., 1., 1., 1.]),\n",
       " array([0.55196799, 0.44803201, 0.17485663, 0.82514337, 0.5418184 ,\n",
       "        0.4581816 ]))"
      ]
     },
     "execution_count": 199,
     "metadata": {},
     "output_type": "execute_result"
    }
   ],
   "source": [
    "np.min(mat_norm, axis=0), np.max(mat_norm, axis=0), np.mean(mat_norm, axis=0)"
   ]
  },
  {
   "cell_type": "code",
   "execution_count": 200,
   "id": "aed99d0d",
   "metadata": {},
   "outputs": [
    {
     "name": "stdout",
     "output_type": "stream",
     "text": [
      "              precision    recall  f1-score   support\n",
      "\n",
      "         0.0       0.87      0.68      0.76       670\n",
      "         1.0       0.69      0.87      0.77       535\n",
      "\n",
      "    accuracy                           0.76      1205\n",
      "   macro avg       0.78      0.77      0.76      1205\n",
      "weighted avg       0.79      0.76      0.76      1205\n",
      "\n",
      "AUC-ROC:\t 0.8710517505928302\n",
      "Confusion Matrix:\n",
      " [[457 213]\n",
      " [ 71 464]]\n"
     ]
    }
   ],
   "source": [
    "from sklearn.svm import SVC\n",
    "clf = RandomForestClassifier(random_state=0, max_depth  = 5)\n",
    "#LogisticRegression(random_state=0)\n",
    "#SVC(random_state=0, kernel='linear', probability=True)\n",
    "#RandomForestClassifier(random_state=0, max_depth  = 2)\n",
    "#xgb.XGBClassifier(max_depth=10)#\n",
    "clf.fit(mat_norm, labels_train)#mat_norm\n",
    "\n",
    "preds = clf.predict(mat_test_norm)\n",
    "probs = clf.predict_proba(mat_test_norm)\n",
    "\n",
    "preds2 = np.array([1 if probs[i,1]>=0.4 else 0 for i in range(len(preds))])\n",
    "\n",
    "print(classification_report(labels_test, preds2))\n",
    "print('AUC-ROC:\\t', roc_auc_score(labels_test, probs[:,1]))\n",
    "cm = confusion_matrix(labels_test, preds2, labels = [0, 1])\n",
    "print('Confusion Matrix:\\n', cm)\n",
    "dct = {}\n",
    "dct['labels'] = labels_test\n",
    "dct['preds'] = preds\n",
    "dct['probs'] = probs\n",
    "\n",
    "labels_test = np.array(dct['labels'])\n",
    "preds = np.array(dct['preds'])\n",
    "probs = np.array(dct['probs'])\n",
    "\n",
    "#pkl.dump(dct, open('../bucket/Amara/Osteo/Results/late_fusion_w_coronal_new_baseline_6k_ann_mrn.pkl', 'wb'))\n"
   ]
  },
  {
   "cell_type": "code",
   "execution_count": 201,
   "id": "16c4439e",
   "metadata": {},
   "outputs": [
    {
     "data": {
      "text/plain": [
       "96.0     26\n",
       "93.0     24\n",
       "91.0     24\n",
       "94.0     23\n",
       "95.0     16\n",
       "         ..\n",
       "558.0     1\n",
       "522.0     1\n",
       "249.0     1\n",
       "778.0     1\n",
       "415.0     1\n",
       "Name: L3_slice, Length: 410, dtype: int64"
      ]
     },
     "execution_count": 201,
     "metadata": {},
     "output_type": "execute_result"
    }
   ],
   "source": [
    "df_test.L3_slice.value_counts()"
   ]
  },
  {
   "cell_type": "code",
   "execution_count": 178,
   "id": "a571254f",
   "metadata": {},
   "outputs": [
    {
     "data": {
      "image/png": "[encoded data removed]",
      "text/plain": [
       "<Figure size 576x280.8 with 1 Axes>"
      ]
     },
     "metadata": {
      "needs_background": "light"
     },
     "output_type": "display_data"
    }
   ],
   "source": [
    "import shap\n",
    "\n",
    "#dct = pkl.load(open('../bucket/Amara/Osteo/Results/late_fusion_w_coronal_new_baseline_6k_ann_mrn.pkl', 'rb'))\n",
    "labels_test = np.array(dct['labels'])\n",
    "preds = np.array(dct['preds'])\n",
    "probs = np.array(dct['probs'])\n",
    "\n",
    "names = ['Coronal1', 'Coronal2','Axial1', 'Axial2',  'EMR1', 'EMR2']\n",
    "explainer = shap.TreeExplainer(clf)\n",
    "shap_values = explainer.shap_values(mat_test)\n",
    "#np.abs(shap_values.sum(1) + explainer.expected_value - pred).max()\n",
    "shap.summary_plot(shap_values, mat_test, feature_names = names, class_names = ['Low Bone Mass', 'Osteoporosis'],  show=False)\n",
    "plt.savefig('visualization/shap_late_fusion_w_coronal_new_baseline_6k.jpg', bbox_inches='tight')"
   ]
  },
  {
   "cell_type": "code",
   "execution_count": 187,
   "id": "77708244",
   "metadata": {},
   "outputs": [
    {
     "name": "stdout",
     "output_type": "stream",
     "text": [
      "MCHS\n",
      "Iteration:\t0\n",
      "Iteration:\t100\n",
      "Iteration:\t200\n",
      "Iteration:\t300\n",
      "Iteration:\t400\n",
      "Iteration:\t500\n",
      "Iteration:\t600\n",
      "Iteration:\t700\n",
      "Iteration:\t800\n",
      "Iteration:\t900\n",
      "95.0 confidence interval \n",
      "Precision\n",
      "[84.6-93.1]\n",
      "Recall\n",
      "[87.3-94.7]\n",
      "F-score\n",
      "[85.5-93.6]\n",
      "AUC-ROC\n",
      "[87.5-96.3]\n"
     ]
    }
   ],
   "source": [
    "##confidence interval\n",
    "from random import randint, sample\n",
    "\n",
    "\n",
    "dct = pkl.load(open('../bucket/Amara/Osteo/Results/late_fusion_w_coronal_new_baseline_6k_ann_mrn.pkl', 'rb'))\n",
    "y_test = np.array(dct['labels'])\n",
    "preds = np.array(dct['preds'])\n",
    "probs = np.array(dct['probs'])\n",
    "#preds = np.array([1 if probs[i,1]>=0.5 else 0 for i in range(len(preds))])\n",
    "\n",
    "\n",
    "companies = ['MN', 'FL', 'AZ', 'MCHS']\n",
    "c =  companies[3]\n",
    "idx = np.array([i for i in range(len(df_test)) if c == df_test.facility.values[i]])\n",
    "\n",
    "print(c)\n",
    "    \n",
    "target_test = y_test\n",
    "\n",
    "target_test = target_test[idx]\n",
    "preds = preds[idx]\n",
    "probs = probs[idx]\n",
    "\n",
    "avg_precision = []\n",
    "avg_recall = []\n",
    "avg_fscore = []\n",
    "aucroc = []\n",
    "   \n",
    "test_set_size = len(target_test)\n",
    "for i in range(1000):\n",
    "    # randomly pick size of the test set\n",
    "    i_size = randint(round(0.5*test_set_size), test_set_size)\n",
    "    \n",
    "    i_test_idx = sample([ii for ii in range(test_set_size)], i_size)\n",
    "    i_test_idx.sort()\n",
    "    \n",
    "    \n",
    "\n",
    "\n",
    "    i_y_test = target_test[i_test_idx]\n",
    "    i_y_pred = preds[i_test_idx]\n",
    "    i_y_prob = probs[i_test_idx,1]\n",
    "\n",
    "    dct = classification_report(i_y_test, i_y_pred, output_dict=True, zero_division=0)\n",
    "    avg_precision.append(dct['macro avg']['precision'])\n",
    "    avg_recall.append(dct['macro avg']['recall'])\n",
    "    avg_fscore.append(dct['macro avg']['f1-score'])\n",
    "\n",
    "    aucroc.append(roc_auc_score(i_y_test, i_y_prob))\n",
    "    if i%100==0:\n",
    "        print('Iteration:\\t'+str(i))\n",
    "        \n",
    "# confidence intervals\n",
    "alpha = 0.95\n",
    "print('%.1f confidence interval ' % (alpha*100))\n",
    "\n",
    "\n",
    "p = ((1.0-alpha)/2.0) * 100\n",
    "lower = np.percentile(avg_precision, p, axis= 0)\n",
    "p = (alpha+((1.0-alpha)/2.0)) * 100\n",
    "upper = np.percentile(avg_precision, p, axis = 0)\n",
    "print('Precision')\n",
    "print('['+str(np.round(lower*100, decimals=1))+'-'+str(np.round(upper*100, decimals=1))+']')\n",
    "\n",
    "p = ((1.0-alpha)/2.0) * 100\n",
    "lower = np.percentile(avg_recall, p, axis= 0)\n",
    "p = (alpha+((1.0-alpha)/2.0)) * 100\n",
    "upper = np.percentile(avg_recall, p, axis = 0)\n",
    "print('Recall')\n",
    "print('['+str(np.round(lower*100, decimals=1))+'-'+str(np.round(upper*100, decimals=1))+']')\n",
    "\n",
    "p = ((1.0-alpha)/2.0) * 100\n",
    "lower = np.percentile(avg_fscore, p, axis= 0)\n",
    "p = (alpha+((1.0-alpha)/2.0)) * 100\n",
    "upper = np.percentile(avg_fscore, p, axis = 0)\n",
    "print('F-score')\n",
    "print('['+str(np.round(lower*100, decimals=1))+'-'+str(np.round(upper*100, decimals=1))+']')\n",
    "\n",
    "p = ((1.0-alpha)/2.0) * 100\n",
    "lower = np.percentile(aucroc, p, axis= 0)\n",
    "p = (alpha+((1.0-alpha)/2.0)) * 100\n",
    "upper = np.percentile(aucroc, p, axis = 0)\n",
    "print('AUC-ROC')\n",
    "print('['+str(np.round(lower*100, decimals=1))+'-'+str(np.round(upper*100, decimals=1))+']')"
   ]
  },
  {
   "cell_type": "code",
   "execution_count": 66,
   "id": "29a4ea8d",
   "metadata": {},
   "outputs": [
    {
     "name": "stdout",
     "output_type": "stream",
     "text": [
      "FEMALE\n",
      "              precision    recall  f1-score   support\n",
      "\n",
      "         0.0       0.78      0.76      0.77       359\n",
      "         1.0       0.80      0.82      0.81       426\n",
      "\n",
      "    accuracy                           0.79       785\n",
      "   macro avg       0.79      0.79      0.79       785\n",
      "weighted avg       0.79      0.79      0.79       785\n",
      "\n",
      "AUC-ROC:\t 0.8545124040435744\n",
      "Confusion Matrix:\n",
      " [[272  87]\n",
      " [ 77 349]]\n",
      "MALE\n",
      "              precision    recall  f1-score   support\n",
      "\n",
      "         0.0       0.87      0.85      0.86       311\n",
      "         1.0       0.60      0.65      0.62       109\n",
      "\n",
      "    accuracy                           0.80       420\n",
      "   macro avg       0.74      0.75      0.74       420\n",
      "weighted avg       0.80      0.80      0.80       420\n",
      "\n",
      "AUC-ROC:\t 0.8554824626095165\n",
      "Confusion Matrix:\n",
      " [[263  48]\n",
      " [ 38  71]]\n"
     ]
    }
   ],
   "source": [
    "print('FEMALE')\n",
    "print(classification_report(labels_test[female_idx], preds2[female_idx]))\n",
    "print('AUC-ROC:\\t', roc_auc_score(labels_test[female_idx], probs[female_idx, 1]))\n",
    "cm = confusion_matrix(labels_test[female_idx], preds2[female_idx], labels = [0, 1])\n",
    "print('Confusion Matrix:\\n', cm)\n",
    "print('MALE')\n",
    "print(classification_report(labels_test[male_idx], preds2[male_idx]))\n",
    "print('AUC-ROC:\\t', roc_auc_score(labels_test[male_idx], probs[male_idx, 1]))\n",
    "cm = confusion_matrix(labels_test[male_idx], preds2[male_idx], labels = [0, 1])\n",
    "print('Confusion Matrix:\\n', cm)"
   ]
  },
  {
   "cell_type": "code",
   "execution_count": 67,
   "id": "85d1c9bc",
   "metadata": {},
   "outputs": [
    {
     "name": "stdout",
     "output_type": "stream",
     "text": [
      "GE\n",
      "              precision    recall  f1-score   support\n",
      "\n",
      "         0.0       0.80      0.89      0.84        85\n",
      "         1.0       0.85      0.73      0.78        70\n",
      "\n",
      "    accuracy                           0.82       155\n",
      "   macro avg       0.82      0.81      0.81       155\n",
      "weighted avg       0.82      0.82      0.82       155\n",
      "\n",
      "AUC-ROC:\t 0.9117647058823529\n",
      "Confusion Matrix:\n",
      " [[76  9]\n",
      " [19 51]]\n",
      "SIEMENS\n",
      "              precision    recall  f1-score   support\n",
      "\n",
      "         0.0       0.82      0.78      0.80       561\n",
      "         1.0       0.74      0.79      0.76       442\n",
      "\n",
      "    accuracy                           0.78      1003\n",
      "   macro avg       0.78      0.78      0.78      1003\n",
      "weighted avg       0.79      0.78      0.78      1003\n",
      "\n",
      "AUC-ROC:\t 0.8616098434437534\n",
      "Confusion Matrix:\n",
      " [[437 124]\n",
      " [ 93 349]]\n",
      "TOSHIBA\n",
      "              precision    recall  f1-score   support\n",
      "\n",
      "         0.0       0.88      0.92      0.90        24\n",
      "         1.0       0.91      0.87      0.89        23\n",
      "\n",
      "    accuracy                           0.89        47\n",
      "   macro avg       0.89      0.89      0.89        47\n",
      "weighted avg       0.89      0.89      0.89        47\n",
      "\n",
      "AUC-ROC:\t 0.911231884057971\n",
      "Confusion Matrix:\n",
      " [[22  2]\n",
      " [ 3 20]]\n"
     ]
    }
   ],
   "source": [
    "companies = ['ge', 'siemens', 'toshiba']\n",
    "for c in companies:\n",
    "    print(c.upper())\n",
    "    idx = np.array([i for i in range(len(df_test)) if c in df_test.Manufacturer.values[i].lower()])\n",
    "    #print(idx)\n",
    "    print(classification_report(labels_test[idx], preds2[idx]))\n",
    "    print('AUC-ROC:\\t', roc_auc_score(labels_test[idx], probs[idx,1]))\n",
    "    cm = confusion_matrix(labels_test[idx], preds2[idx], labels = [0, 1])\n",
    "    print('Confusion Matrix:\\n', cm)"
   ]
  },
  {
   "cell_type": "code",
   "execution_count": 68,
   "id": "0fc77dc4",
   "metadata": {},
   "outputs": [
    {
     "name": "stdout",
     "output_type": "stream",
     "text": [
      "0-250\n",
      "              precision    recall  f1-score   support\n",
      "\n",
      "         0.0       0.67      0.62      0.65        56\n",
      "         1.0       0.83      0.86      0.85       123\n",
      "\n",
      "    accuracy                           0.79       179\n",
      "   macro avg       0.75      0.74      0.75       179\n",
      "weighted avg       0.78      0.79      0.79       179\n",
      "\n",
      "AUC-ROC:\t 0.8244047619047618\n",
      "Confusion Matrix:\n",
      " [[ 35  21]\n",
      " [ 17 106]]\n",
      "250-350\n",
      "              precision    recall  f1-score   support\n",
      "\n",
      "         0.0       0.82      0.80      0.81       472\n",
      "         1.0       0.76      0.78      0.77       380\n",
      "\n",
      "    accuracy                           0.79       852\n",
      "   macro avg       0.79      0.79      0.79       852\n",
      "weighted avg       0.79      0.79      0.79       852\n",
      "\n",
      "AUC-ROC:\t 0.8687946030330063\n",
      "Confusion Matrix:\n",
      " [[376  96]\n",
      " [ 84 296]]\n",
      "350-1000\n",
      "              precision    recall  f1-score   support\n",
      "\n",
      "         0.0       0.90      0.87      0.89       142\n",
      "         1.0       0.50      0.56      0.53        32\n",
      "\n",
      "    accuracy                           0.82       174\n",
      "   macro avg       0.70      0.72      0.71       174\n",
      "weighted avg       0.83      0.82      0.82       174\n",
      "\n",
      "AUC-ROC:\t 0.777068661971831\n",
      "Confusion Matrix:\n",
      " [[124  18]\n",
      " [ 14  18]]\n"
     ]
    }
   ],
   "source": [
    "dia = [0, 250, 350, 1000]\n",
    "for i in range(1, len(dia)):\n",
    "    lower = dia[i-1]\n",
    "    upper = dia[i]\n",
    "    print(str(lower)+'-'+str(upper))\n",
    "    idx = np.array([i for i in range(len(df_test)) if (df_test.CrossSectionSpacing.values[i]>=lower and df_test.CrossSectionSpacing.values[i]<upper)])\n",
    "    #print(idx)\n",
    "    print(classification_report(labels_test[idx], preds2[idx]))\n",
    "    print('AUC-ROC:\\t', roc_auc_score(labels_test[idx], probs[idx,1]))\n",
    "    cm = confusion_matrix(labels_test[idx], preds2[idx], labels = [0, 1])\n",
    "    print('Confusion Matrix:\\n', cm)"
   ]
  },
  {
   "cell_type": "code",
   "execution_count": 35,
   "id": "70e573ee",
   "metadata": {},
   "outputs": [
    {
     "data": {
      "text/plain": [
       "'fl'"
      ]
     },
     "execution_count": 35,
     "metadata": {},
     "output_type": "execute_result"
    }
   ],
   "source": [
    "df_test.facility.values[i].lower()"
   ]
  },
  {
   "cell_type": "code",
   "execution_count": 183,
   "id": "5421ec4b",
   "metadata": {},
   "outputs": [
    {
     "name": "stdout",
     "output_type": "stream",
     "text": [
      "MN\n",
      "              precision    recall  f1-score   support\n",
      "\n",
      "         0.0       0.83      0.74      0.78       234\n",
      "         1.0       0.75      0.84      0.79       221\n",
      "\n",
      "    accuracy                           0.78       455\n",
      "   macro avg       0.79      0.79      0.78       455\n",
      "weighted avg       0.79      0.78      0.78       455\n",
      "\n",
      "AUC-ROC:\t 0.8713887922032719\n",
      "Confusion Matrix:\n",
      " [[172  62]\n",
      " [ 36 185]]\n",
      "FL\n",
      "              precision    recall  f1-score   support\n",
      "\n",
      "         0.0       0.86      0.77      0.81       199\n",
      "         1.0       0.65      0.78      0.71       111\n",
      "\n",
      "    accuracy                           0.77       310\n",
      "   macro avg       0.76      0.78      0.76       310\n",
      "weighted avg       0.79      0.77      0.78       310\n",
      "\n",
      "AUC-ROC:\t 0.838697994476889\n",
      "Confusion Matrix:\n",
      " [[153  46]\n",
      " [ 24  87]]\n",
      "AZ\n",
      "              precision    recall  f1-score   support\n",
      "\n",
      "         0.0       0.78      0.83      0.80       179\n",
      "         1.0       0.81      0.75      0.78       170\n",
      "\n",
      "    accuracy                           0.79       349\n",
      "   macro avg       0.79      0.79      0.79       349\n",
      "weighted avg       0.79      0.79      0.79       349\n",
      "\n",
      "AUC-ROC:\t 0.8949063424252383\n",
      "Confusion Matrix:\n",
      " [[149  30]\n",
      " [ 43 127]]\n",
      "MCHS\n",
      "              precision    recall  f1-score   support\n",
      "\n",
      "         0.0       0.96      0.88      0.92        58\n",
      "         1.0       0.82      0.94      0.87        33\n",
      "\n",
      "    accuracy                           0.90        91\n",
      "   macro avg       0.89      0.91      0.90        91\n",
      "weighted avg       0.91      0.90      0.90        91\n",
      "\n",
      "AUC-ROC:\t 0.9169278996865203\n",
      "Confusion Matrix:\n",
      " [[51  7]\n",
      " [ 2 31]]\n"
     ]
    }
   ],
   "source": [
    "companies = ['MN', 'FL', 'AZ', 'MCHS']\n",
    "for c in companies:\n",
    "    print(c.upper())\n",
    "    idx = np.array([i for i in range(len(df_test)) if c == df_test.facility.values[i]])\n",
    "    #print(idx)\n",
    "    print(classification_report(labels_test[idx], preds[idx]))\n",
    "    print('AUC-ROC:\\t', roc_auc_score(labels_test[idx], probs[idx,1]))\n",
    "    cm = confusion_matrix(labels_test[idx], preds[idx], labels = [0, 1])\n",
    "    print('Confusion Matrix:\\n', cm)"
   ]
  },
  {
   "cell_type": "markdown",
   "id": "d15d7ca4",
   "metadata": {},
   "source": [
    "### Late Fusion - Axial, Coronal, Gender, Age, Daimeter"
   ]
  },
  {
   "cell_type": "code",
   "execution_count": 9,
   "id": "2160e673",
   "metadata": {},
   "outputs": [
    {
     "name": "stdout",
     "output_type": "stream",
     "text": [
      "6083\n",
      "6083\n",
      "0    3108\n",
      "1    2975\n",
      "Name: Label, dtype: int64\n",
      "6          2385\n",
      "7          1482\n",
      "5          1384\n",
      "8           555\n",
      "UNKNOWN     222\n",
      "9            55\n",
      "Name: PatientAge_mapped, dtype: int64\n",
      "0    1686\n",
      "1    1570\n",
      "Name: Label, dtype: int64\n",
      "0    491\n",
      "1    472\n",
      "Name: Label, dtype: int64\n",
      "0    204\n",
      "1    196\n",
      "Name: Label, dtype: int64\n"
     ]
    },
    {
     "name": "stderr",
     "output_type": "stream",
     "text": [
      "/opt/conda/lib/python3.7/site-packages/IPython/core/interactiveshell.py:3170: DtypeWarning: Columns (18,22) have mixed types.Specify dtype option on import or set low_memory=False.\n",
      "  interactivity=interactivity, compiler=compiler, result=result)\n"
     ]
    }
   ],
   "source": [
    "def labeling(x):\n",
    "    if x<=-1:\n",
    "        return 1\n",
    "    else:\n",
    "        return 0\n",
    "def age_mapping(x):\n",
    "    if type(x) is str:\n",
    "        if len(x)==4:\n",
    "            return x[1]\n",
    "        else:\n",
    "            return x[0]\n",
    "    else:\n",
    "        return 'UNKNOWN'\n",
    "\n",
    "#136.1302176492294, 462.9853871884079\n",
    "df = pd.read_csv('../bucket/Amara/Osteo/CT_ABD_PELVIS_w_all_scores_mapped1235678_w_view_locations_w_L3_and_coronal_slice_patient_manufacturer_info_cohort_only_histogram_cross_section_pixelspacing.csv')\n",
    "#df = pd.read_csv('../bucket/Amara/Osteo/CT_ABD_PELVIS_w_all_scores_mapped1235_w_view_locations_w_L3_slice_patient_manufacturer_info.csv') #use this so that no L3 slice detected can be filtered out\n",
    "print(len(df))\n",
    "df = df.dropna(subset=['Original DICOM file location-Transverse', 'Original DICOM file location-Coronal', 'TOTAL_SPINE_TSCORE', 'L3_slice'], how='any')\n",
    "print(len(df))\n",
    "\n",
    "df['Label'] = df['TOTAL_SPINE_TSCORE'].apply(labeling)\n",
    "print(df['Label'].value_counts())\n",
    "\n",
    "df['PatientAge_mapped'] = df.PatientAge.apply(age_mapping)\n",
    "print(df['PatientAge_mapped'].value_counts())\n",
    "\n",
    "a = df['CrossSectionSpacing'].values\n",
    "df['CrossSectionSpacing_norm'] = (a-np.min(a))/(np.max(a)-np.min(a))\n",
    "df['CrossSectionSpacing_binned'] = pd.cut(df['CrossSectionSpacing'].values, 10)\n",
    "\n",
    "dct = pkl.load(open('../bucket/Amara/Osteo/CT_acc_split_basic1235678.pkl', 'rb'))\n",
    "acc_train = dct['CT_acc_train']\n",
    "acc_test = dct['CT_acc_test']\n",
    "acc_val = dct['CT_acc_val']\n",
    "\n",
    "\n",
    "\n",
    "df_train = df.loc[df.CT_acc.isin(acc_train)]\n",
    "df_test = df.loc[df.CT_acc.isin(acc_test)]\n",
    "df_val = df.loc[df.CT_acc.isin(acc_val)]\n",
    "\n",
    "print(df_train['Label'].value_counts())\n",
    "print(df_test['Label'].value_counts())\n",
    "print(df_val['Label'].value_counts())\n",
    "\n",
    "labels_train = df_train.Label.values\n",
    "labels_test = df_test.Label.values\n",
    "labels_val = df_val.Label.values\n",
    "\n",
    "female_idx = np.array([i for i in range(len(df_test)) if df_test.PatientSex.values[i]=='F'])\n",
    "male_idx = np.array([i for i in range(len(df_test)) if df_test.PatientSex.values[i]=='M'])"
   ]
  },
  {
   "cell_type": "code",
   "execution_count": 22,
   "id": "1d563e1d",
   "metadata": {},
   "outputs": [
    {
     "name": "stdout",
     "output_type": "stream",
     "text": [
      "(3256, 4) 3256 (963, 4) 963\n"
     ]
    },
    {
     "data": {
      "text/plain": [
       "((3256, 21), (963, 21))"
      ]
     },
     "execution_count": 22,
     "metadata": {},
     "output_type": "execute_result"
    }
   ],
   "source": [
    "## Training\n",
    "## Training\n",
    "dct_axial = pkl.load(open('../bucket/Amara/Osteo/Class/train/train-26/train_predictions.pkl', 'rb'))\n",
    "dct_coronal = pkl.load(open('../bucket/Amara/Osteo/Class/train/train-27/train_predictions.pkl', 'rb'))\n",
    "dct_axial['probs'] = np.array(dct_axial['probs'])\n",
    "dct_coronal['probs'] = np.array(dct_coronal['probs'])\n",
    "mat = np.array([(dct_axial['probs']), 1-(dct_axial['probs']), (dct_coronal['probs']), 1-(dct_coronal['probs'])]).transpose()\n",
    "labels_train = dct_axial['labels']\n",
    "\n",
    "\n",
    "\n",
    "#Test\n",
    "dct_axial = pkl.load(open('../bucket/Amara/Osteo/Class/train/train-26/test_predictions.pkl', 'rb'))\n",
    "dct_coronal = pkl.load(open('../bucket/Amara/Osteo/Class/train/train-27/test_predictions.pkl', 'rb'))\n",
    "dct_axial['probs'] = np.array(dct_axial['probs'])\n",
    "dct_coronal['probs'] = np.array(dct_coronal['probs'])\n",
    "mat_test = np.array([dct_axial['probs'], 1-(dct_axial['probs']), (dct_coronal['probs']), 1-(dct_coronal['probs'])]).transpose()\n",
    "\n",
    "labels_test = dct_axial['labels']\n",
    "\n",
    "\n",
    "print(mat.shape, len(labels_train), mat_test.shape, len(labels_test))\n",
    "\n",
    "\n",
    "discrete_cols = ['PatientAge_mapped', 'PatientSex', 'CrossSectionSpacing_binned']\n",
    "cont_cols = [ 'CrossSectionSpacing_norm']\n",
    "npd_discrete = df_train[discrete_cols].copy().to_numpy()\n",
    "enc = OneHotEncoder(handle_unknown='ignore')\n",
    "enc.fit(npd_discrete)\n",
    "\n",
    "npd_cont = df_train[cont_cols].copy().to_numpy().reshape(-1,1)\n",
    "mat = np.concatenate((enc.transform(npd_discrete).todense(), mat), axis=1) #, npd_cont\n",
    "#mat = enc.transform(npd_discrete).todense()\n",
    "\n",
    "npd_discrete = df_test[discrete_cols].copy().to_numpy()\n",
    "\n",
    "npd_cont = df_test[cont_cols].copy().to_numpy().reshape(-1,1)\n",
    "mat_test = np.concatenate((enc.transform(npd_discrete).todense(), mat_test), axis=1) # , npd_cont\n",
    "\n",
    "mat = mat[:, [i for i in range(22) if i!= 5]]\n",
    "mat_test = mat_test[:, [i for i in range(22) if i!= 5]]\n",
    "mat.shape, mat_test.shape"
   ]
  },
  {
   "cell_type": "code",
   "execution_count": 162,
   "id": "6bb95f74",
   "metadata": {},
   "outputs": [
    {
     "name": "stdout",
     "output_type": "stream",
     "text": [
      "              precision    recall  f1-score   support\n",
      "\n",
      "         0.0       0.80      0.84      0.82       491\n",
      "         1.0       0.82      0.79      0.80       472\n",
      "\n",
      "    accuracy                           0.81       963\n",
      "   macro avg       0.81      0.81      0.81       963\n",
      "weighted avg       0.81      0.81      0.81       963\n",
      "\n",
      "AUC-ROC:\t 0.8930688839794263\n",
      "Confusion Matrix:\n",
      " [[410  81]\n",
      " [101 371]]\n"
     ]
    }
   ],
   "source": [
    "from sklearn.svm import SVC\n",
    "\n",
    "clf = RandomForestClassifier(random_state=0, max_depth  = 15)#xgboost.XGBClassifier(random_state=0)# max_depth 6#\n",
    "clf.fit(mat, [True if l==1 else False for l in labels_train])#labels_train)\n",
    "#print(np.min(mat_norm, axis=0), np.max(mat_norm, axis=0), np.mean(mat_norm, axis=0))\n",
    "preds = clf.predict(mat_test)\n",
    "probs = clf.predict_proba(mat_test)\n",
    "#print(np.min(mat_test_norm, axis=0), np.max(mat_test_norm, axis=0), np.mean(mat_test_norm, axis=0))\n",
    "preds2 = np.array([1 if probs[i,1]>=0.5 else 0 for i in range(len(preds))]) #0.35\n",
    "\n",
    "print(classification_report(labels_test, preds2))\n",
    "print('AUC-ROC:\\t', roc_auc_score(labels_test, probs[:,1]))\n",
    "cm = confusion_matrix(labels_test, preds2, labels = [0, 1])\n",
    "print('Confusion Matrix:\\n', cm)\n",
    "dct = {}\n",
    "dct['labels'] = labels_test\n",
    "dct['preds'] = preds\n",
    "dct['probs'] = probs\n",
    "\n",
    "labels_test = np.array(dct['labels'])\n",
    "preds = np.array(dct['preds'])\n",
    "probs = np.array(dct['probs'])\n",
    "\n",
    "#pkl.dump(dct, open('../bucket/Amara/Osteo/Results/late_fusion_resized_coronal_w_demo_6k.pkl', 'wb'))\n",
    "# fg = plot_confusion_matrix(cm , normalize = False, target_names= ['No Osteoporosis', 'Osteoproorses'] )\n",
    "# fg.savefig('../bucket/Amara/Osteo/Results/late_fusion.jpg', bbox_inches='tight')#"
   ]
  },
  {
   "cell_type": "code",
   "execution_count": 129,
   "id": "fdeb4dd3",
   "metadata": {},
   "outputs": [
    {
     "data": {
      "text/plain": [
       "([<matplotlib.axis.XTick at 0x7fdf8f471f50>,\n",
       "  <matplotlib.axis.XTick at 0x7fdf8f473110>,\n",
       "  <matplotlib.axis.XTick at 0x7fdf8f4716d0>,\n",
       "  <matplotlib.axis.XTick at 0x7fdf8f2d3090>,\n",
       "  <matplotlib.axis.XTick at 0x7fdf8f2d31d0>,\n",
       "  <matplotlib.axis.XTick at 0x7fdf8f2d33d0>,\n",
       "  <matplotlib.axis.XTick at 0x7fdf8f2b4450>,\n",
       "  <matplotlib.axis.XTick at 0x7fdf8f2b4690>,\n",
       "  <matplotlib.axis.XTick at 0x7fdf8f465290>,\n",
       "  <matplotlib.axis.XTick at 0x7fdf8f465b10>,\n",
       "  <matplotlib.axis.XTick at 0x7fdf8f465810>,\n",
       "  <matplotlib.axis.XTick at 0x7fdf8f2b4f10>,\n",
       "  <matplotlib.axis.XTick at 0x7fdf8f2b46d0>,\n",
       "  <matplotlib.axis.XTick at 0x7fdf8f468150>,\n",
       "  <matplotlib.axis.XTick at 0x7fdf8f468790>,\n",
       "  <matplotlib.axis.XTick at 0x7fdf8f460690>,\n",
       "  <matplotlib.axis.XTick at 0x7fdf8f460790>,\n",
       "  <matplotlib.axis.XTick at 0x7fdf8f460890>,\n",
       "  <matplotlib.axis.XTick at 0x7fdf8f460650>,\n",
       "  <matplotlib.axis.XTick at 0x7fdf8f462550>,\n",
       "  <matplotlib.axis.XTick at 0x7fdf8f462450>],\n",
       " [Text(0, 0, 'Age:<60years'),\n",
       "  Text(1, 0, 'Age:60-70years'),\n",
       "  Text(2, 0, 'Age:70-80years'),\n",
       "  Text(3, 0, 'Age:80-90years'),\n",
       "  Text(4, 0, 'Age:>90years'),\n",
       "  Text(5, 0, 'Female'),\n",
       "  Text(6, 0, 'Male'),\n",
       "  Text(7, 0, 'Eff. Diameter1'),\n",
       "  Text(8, 0, 'Eff. Diameter2'),\n",
       "  Text(9, 0, 'Eff. Diameter3'),\n",
       "  Text(10, 0, 'Eff. Diameter4'),\n",
       "  Text(11, 0, 'Eff. Diameter5'),\n",
       "  Text(12, 0, 'Eff. Diameter6'),\n",
       "  Text(13, 0, 'Eff. Diameter7'),\n",
       "  Text(14, 0, 'Eff. Diameter8'),\n",
       "  Text(15, 0, 'Eff. Diameter9'),\n",
       "  Text(16, 0, 'Eff. Diameter10'),\n",
       "  Text(17, 0, 'Axial1'),\n",
       "  Text(18, 0, 'Axial2'),\n",
       "  Text(19, 0, 'Coronal1'),\n",
       "  Text(20, 0, 'Coronal2')])"
      ]
     },
     "execution_count": 129,
     "metadata": {},
     "output_type": "execute_result"
    },
    {
     "data": {
      "image/png": "[encoded data removed]",
      "text/plain": [
       "<Figure size 432x288 with 1 Axes>"
      ]
     },
     "metadata": {
      "needs_background": "light"
     },
     "output_type": "display_data"
    }
   ],
   "source": [
    "y = clf.feature_importances_#list(clf.feature_importances_[:5]) + list(clf.feature_importances_[6:])\n",
    "names = ['Age:<60years', 'Age:60-70years', 'Age:70-80years', 'Age:80-90years', 'Age:>90years', 'Female', 'Male', 'Eff. Diameter1', 'Eff. Diameter2', 'Eff. Diameter3', 'Eff. Diameter4', \n",
    "        'Eff. Diameter5', 'Eff. Diameter6', 'Eff. Diameter7', 'Eff. Diameter8', 'Eff. Diameter9', 'Eff. Diameter10', 'Axial1', 'Axial2', 'Coronal1', 'Coronal2']\n",
    "plt.bar(np.arange(mat.shape[1]), y)\n",
    "plt.xticks(np.arange(mat.shape[1]), labels=names, rotation=90)\n",
    "#plt.savefig('../bucket/Amara/Osteo/fetaure_importance_late_fusion_w_demo_6k.jpg')"
   ]
  },
  {
   "cell_type": "code",
   "execution_count": 161,
   "id": "64142f15",
   "metadata": {},
   "outputs": [
    {
     "data": {
      "image/png": "[encoded data removed]",
      "text/plain": [
       "<Figure size 576x684 with 1 Axes>"
      ]
     },
     "metadata": {
      "needs_background": "light"
     },
     "output_type": "display_data"
    }
   ],
   "source": [
    "import shap\n",
    "#pred = model.predict(Xd, output_margin=True)\n",
    "explainer = shap.TreeExplainer(clf)\n",
    "shap_values = explainer.shap_values(mat_test)\n",
    "#np.abs(shap_values.sum(1) + explainer.expected_value - pred).max()\n",
    "shap.summary_plot(shap_values, mat_test, feature_names = names, show=False)\n",
    "plt.savefig('visualization/shap_late_fusion_6k.jpg', bbox_inches='tight')"
   ]
  },
  {
   "cell_type": "code",
   "execution_count": 156,
   "id": "59d1e0cd",
   "metadata": {},
   "outputs": [],
   "source": [
    "explainer = shap.TreeExplainer(clf, feature_perturbation='interventional')\n",
    "# Compute the estimated Shapley values for the test sample's observations\n",
    "shap_values = explainer.shap_values(mat_test[:100,:])"
   ]
  },
  {
   "cell_type": "code",
   "execution_count": 157,
   "id": "85508a57",
   "metadata": {},
   "outputs": [
    {
     "ename": "UnboundLocalError",
     "evalue": "local variable 'values' referenced before assignment",
     "output_type": "error",
     "traceback": [
      "\u001b[0;31m---------------------------------------------------------------------------\u001b[0m",
      "\u001b[0;31mUnboundLocalError\u001b[0m                         Traceback (most recent call last)",
      "\u001b[0;32m<ipython-input-157-d82cd452392f>\u001b[0m in \u001b[0;36m<module>\u001b[0;34m\u001b[0m\n\u001b[0;32m----> 1\u001b[0;31m \u001b[0mshap\u001b[0m\u001b[0;34m.\u001b[0m\u001b[0mplots\u001b[0m\u001b[0;34m.\u001b[0m\u001b[0mbeeswarm\u001b[0m\u001b[0;34m(\u001b[0m\u001b[0mshap_values\u001b[0m\u001b[0;34m,\u001b[0m \u001b[0mmat_test\u001b[0m\u001b[0;34m[\u001b[0m\u001b[0;34m:\u001b[0m\u001b[0;36m100\u001b[0m\u001b[0;34m,\u001b[0m\u001b[0;34m:\u001b[0m\u001b[0;34m]\u001b[0m\u001b[0;34m)\u001b[0m\u001b[0;31m#shap.summary_plot(shap_values, mat_test[:100,:])\u001b[0m\u001b[0;34m\u001b[0m\u001b[0;34m\u001b[0m\u001b[0m\n\u001b[0m",
      "\u001b[0;32m/opt/conda/lib/python3.7/site-packages/shap/plots/_beeswarm.py\u001b[0m in \u001b[0;36mbeeswarm\u001b[0;34m(shap_values, max_display, order, clustering, cluster_threshold, color, axis_color, alpha, show, log_scale, color_bar, plot_size, color_bar_label)\u001b[0m\n\u001b[1;32m     65\u001b[0m         \u001b[0;31m#     out_names = shap_exp.output_names\u001b[0m\u001b[0;34m\u001b[0m\u001b[0;34m\u001b[0m\u001b[0;34m\u001b[0m\u001b[0m\n\u001b[1;32m     66\u001b[0m \u001b[0;34m\u001b[0m\u001b[0m\n\u001b[0;32m---> 67\u001b[0;31m     \u001b[0morder\u001b[0m \u001b[0;34m=\u001b[0m \u001b[0mconvert_ordering\u001b[0m\u001b[0;34m(\u001b[0m\u001b[0morder\u001b[0m\u001b[0;34m,\u001b[0m \u001b[0mvalues\u001b[0m\u001b[0;34m)\u001b[0m\u001b[0;34m\u001b[0m\u001b[0;34m\u001b[0m\u001b[0m\n\u001b[0m\u001b[1;32m     68\u001b[0m \u001b[0;34m\u001b[0m\u001b[0m\n\u001b[1;32m     69\u001b[0m \u001b[0;34m\u001b[0m\u001b[0m\n",
      "\u001b[0;31mUnboundLocalError\u001b[0m: local variable 'values' referenced before assignment"
     ]
    }
   ],
   "source": [
    "shap.plots.beeswarm(shap_values, mat_test[:100,:])#shap.summary_plot(shap_values, mat_test[:100,:])"
   ]
  },
  {
   "cell_type": "code",
   "execution_count": 159,
   "id": "9ad7ef5d",
   "metadata": {},
   "outputs": [
    {
     "ename": "ValueError",
     "evalue": "The beeswarm plot does not support plotting explanations with instances that have more than one dimension!",
     "output_type": "error",
     "traceback": [
      "\u001b[0;31m---------------------------------------------------------------------------\u001b[0m",
      "\u001b[0;31mValueError\u001b[0m                                Traceback (most recent call last)",
      "\u001b[0;32m<ipython-input-159-47059e54e6ef>\u001b[0m in \u001b[0;36m<module>\u001b[0;34m\u001b[0m\n\u001b[1;32m      6\u001b[0m \u001b[0mshap_values2\u001b[0m\u001b[0;34m.\u001b[0m\u001b[0mbase_values\u001b[0m \u001b[0;34m=\u001b[0m \u001b[0mshap_values2\u001b[0m\u001b[0;34m.\u001b[0m\u001b[0mbase_values\u001b[0m\u001b[0;34m[\u001b[0m\u001b[0;34m:\u001b[0m\u001b[0;34m,\u001b[0m\u001b[0;36m1\u001b[0m\u001b[0;34m]\u001b[0m\u001b[0;34m\u001b[0m\u001b[0;34m\u001b[0m\u001b[0m\n\u001b[1;32m      7\u001b[0m \u001b[0;34m\u001b[0m\u001b[0m\n\u001b[0;32m----> 8\u001b[0;31m \u001b[0mshap\u001b[0m\u001b[0;34m.\u001b[0m\u001b[0mplots\u001b[0m\u001b[0;34m.\u001b[0m\u001b[0mbeeswarm\u001b[0m\u001b[0;34m(\u001b[0m\u001b[0mshap_values1\u001b[0m\u001b[0;34m)\u001b[0m\u001b[0;34m\u001b[0m\u001b[0;34m\u001b[0m\u001b[0m\n\u001b[0m",
      "\u001b[0;32m/opt/conda/lib/python3.7/site-packages/shap/plots/_beeswarm.py\u001b[0m in \u001b[0;36mbeeswarm\u001b[0;34m(shap_values, max_display, order, clustering, cluster_threshold, color, axis_color, alpha, show, log_scale, color_bar, plot_size, color_bar_label)\u001b[0m\n\u001b[1;32m     52\u001b[0m         \u001b[0;32melif\u001b[0m \u001b[0mlen\u001b[0m\u001b[0;34m(\u001b[0m\u001b[0mshap_values\u001b[0m\u001b[0;34m.\u001b[0m\u001b[0mshape\u001b[0m\u001b[0;34m)\u001b[0m \u001b[0;34m>\u001b[0m \u001b[0;36m2\u001b[0m\u001b[0;34m:\u001b[0m\u001b[0;34m\u001b[0m\u001b[0;34m\u001b[0m\u001b[0m\n\u001b[1;32m     53\u001b[0m             raise ValueError(\n\u001b[0;32m---> 54\u001b[0;31m                 \u001b[0;34m\"The beeswarm plot does not support plotting explanations with instances that have more \"\u001b[0m\u001b[0;34m\u001b[0m\u001b[0;34m\u001b[0m\u001b[0m\n\u001b[0m\u001b[1;32m     55\u001b[0m                 \u001b[0;34m\"than one dimension!\"\u001b[0m\u001b[0;34m\u001b[0m\u001b[0;34m\u001b[0m\u001b[0m\n\u001b[1;32m     56\u001b[0m             )\n",
      "\u001b[0;31mValueError\u001b[0m: The beeswarm plot does not support plotting explanations with instances that have more than one dimension!"
     ]
    }
   ],
   "source": [
    "import copy\n",
    "explainer = shap.Explainer(clf)\n",
    "shap_values1 = explainer(mat_test[:100,:])\n",
    "shap_values2 = copy.deepcopy(shap_values1)\n",
    "shap_values2.values = shap_values2.values[:,:,1]\n",
    "shap_values2.base_values = shap_values2.base_values[:,1]\n",
    "\n",
    "shap.plots.beeswarm(shap_values1)"
   ]
  },
  {
   "cell_type": "code",
   "execution_count": 147,
   "id": "03abcd83",
   "metadata": {},
   "outputs": [
    {
     "name": "stdout",
     "output_type": "stream",
     "text": [
      "(32561, 12)\n"
     ]
    },
    {
     "name": "stderr",
     "output_type": "stream",
     "text": [
      "100%|===================| 64918/65122 [03:53<00:00]        "
     ]
    },
    {
     "ename": "Exception",
     "evalue": "waterfall_plot requires a scalar base_values of the model output as the first parameter, but you have passed an array as the first parameter! Try shap.waterfall_plot(explainer.base_values[0], values[0], X[0]) or for multi-output models try shap.waterfall_plot(explainer.base_values[0], values[0][0], X[0]).",
     "output_type": "error",
     "traceback": [
      "\u001b[0;31m---------------------------------------------------------------------------\u001b[0m",
      "\u001b[0;31mException\u001b[0m                                 Traceback (most recent call last)",
      "\u001b[0;32m<ipython-input-147-069f7bcc2679>\u001b[0m in \u001b[0;36m<module>\u001b[0;34m\u001b[0m\n\u001b[1;32m     21\u001b[0m \u001b[0mexplainer\u001b[0m \u001b[0;34m=\u001b[0m \u001b[0mshap\u001b[0m\u001b[0;34m.\u001b[0m\u001b[0mExplainer\u001b[0m\u001b[0;34m(\u001b[0m\u001b[0mmodel\u001b[0m\u001b[0;34m,\u001b[0m \u001b[0mX\u001b[0m\u001b[0;34m)\u001b[0m\u001b[0;34m\u001b[0m\u001b[0;34m\u001b[0m\u001b[0m\n\u001b[1;32m     22\u001b[0m \u001b[0mshap_values\u001b[0m \u001b[0;34m=\u001b[0m \u001b[0mexplainer\u001b[0m\u001b[0;34m(\u001b[0m\u001b[0mX\u001b[0m\u001b[0;34m)\u001b[0m\u001b[0;34m\u001b[0m\u001b[0;34m\u001b[0m\u001b[0m\n\u001b[0;32m---> 23\u001b[0;31m \u001b[0mshap\u001b[0m\u001b[0;34m.\u001b[0m\u001b[0mplots\u001b[0m\u001b[0;34m.\u001b[0m\u001b[0mwaterfall\u001b[0m\u001b[0;34m(\u001b[0m\u001b[0mshap_values\u001b[0m\u001b[0;34m[\u001b[0m\u001b[0;36m0\u001b[0m\u001b[0;34m]\u001b[0m\u001b[0;34m)\u001b[0m\u001b[0;34m\u001b[0m\u001b[0;34m\u001b[0m\u001b[0m\n\u001b[0m\u001b[1;32m     24\u001b[0m \u001b[0;31m# import copy\u001b[0m\u001b[0;34m\u001b[0m\u001b[0;34m\u001b[0m\u001b[0;34m\u001b[0m\u001b[0m\n\u001b[1;32m     25\u001b[0m \u001b[0;31m# explainer = shap.Explainer(clf)\u001b[0m\u001b[0;34m\u001b[0m\u001b[0;34m\u001b[0m\u001b[0;34m\u001b[0m\u001b[0m\n",
      "\u001b[0;32m/opt/conda/lib/python3.7/site-packages/shap/plots/_waterfall.py\u001b[0m in \u001b[0;36mwaterfall\u001b[0;34m(shap_values, max_display, show)\u001b[0m\n\u001b[1;32m     54\u001b[0m     \u001b[0;31m# make sure we only have a single output to explain\u001b[0m\u001b[0;34m\u001b[0m\u001b[0;34m\u001b[0m\u001b[0;34m\u001b[0m\u001b[0m\n\u001b[1;32m     55\u001b[0m     \u001b[0;32mif\u001b[0m \u001b[0;34m(\u001b[0m\u001b[0mtype\u001b[0m\u001b[0;34m(\u001b[0m\u001b[0mbase_values\u001b[0m\u001b[0;34m)\u001b[0m \u001b[0;34m==\u001b[0m \u001b[0mnp\u001b[0m\u001b[0;34m.\u001b[0m\u001b[0mndarray\u001b[0m \u001b[0;32mand\u001b[0m \u001b[0mlen\u001b[0m\u001b[0;34m(\u001b[0m\u001b[0mbase_values\u001b[0m\u001b[0;34m)\u001b[0m \u001b[0;34m>\u001b[0m \u001b[0;36m0\u001b[0m\u001b[0;34m)\u001b[0m \u001b[0;32mor\u001b[0m \u001b[0mtype\u001b[0m\u001b[0;34m(\u001b[0m\u001b[0mbase_values\u001b[0m\u001b[0;34m)\u001b[0m \u001b[0;34m==\u001b[0m \u001b[0mlist\u001b[0m\u001b[0;34m:\u001b[0m\u001b[0;34m\u001b[0m\u001b[0;34m\u001b[0m\u001b[0m\n\u001b[0;32m---> 56\u001b[0;31m         raise Exception(\"waterfall_plot requires a scalar base_values of the model output as the first \" \\\n\u001b[0m\u001b[1;32m     57\u001b[0m                         \u001b[0;34m\"parameter, but you have passed an array as the first parameter! \"\u001b[0m\u001b[0;31m \u001b[0m\u001b[0;31m\\\u001b[0m\u001b[0;34m\u001b[0m\u001b[0;34m\u001b[0m\u001b[0m\n\u001b[1;32m     58\u001b[0m                         \u001b[0;34m\"Try shap.waterfall_plot(explainer.base_values[0], values[0], X[0]) or \"\u001b[0m\u001b[0;31m \u001b[0m\u001b[0;31m\\\u001b[0m\u001b[0;34m\u001b[0m\u001b[0;34m\u001b[0m\u001b[0m\n",
      "\u001b[0;31mException\u001b[0m: waterfall_plot requires a scalar base_values of the model output as the first parameter, but you have passed an array as the first parameter! Try shap.waterfall_plot(explainer.base_values[0], values[0], X[0]) or for multi-output models try shap.waterfall_plot(explainer.base_values[0], values[0][0], X[0])."
     ]
    }
   ],
   "source": [
    "# train XGBoost model\n",
    "import xgboost\n",
    "import ssl\n",
    "\n",
    "try:\n",
    "    _create_unverified_https_context = ssl._create_unverified_context\n",
    "except AttributeError:\n",
    "    # Legacy Python that doesn't verify HTTPS certificates by default\n",
    "    pass\n",
    "else:\n",
    "    # Handle target environment that doesn't support HTTPS verification\n",
    "    ssl._create_default_https_context = _create_unverified_https_context\n",
    "X,y = shap.datasets.adult()\n",
    "print(X.shape)\n",
    "model = RandomForestClassifier(random_state=0).fit(X.iloc[0:100], y[:100])#xgboost.XGBClassifier().fit(X.iloc[0:100], y[:100])#\n",
    "\n",
    "# compute SHAP values\n",
    "explainer = shap.TreeExplainer(model, X.iloc[0:100])\n",
    "shap_values = explainer(X.iloc[0:100])\n",
    "\n",
    "# import copy\n",
    "# explainer = shap.Explainer(clf)\n",
    "# shap_values1 = explainer(mat_test[:100,:])\n",
    "# shap_values2 = copy.deepcopy(shap_values1)\n",
    "# shap_values2.values = shap_values2.values[:,:,1]\n",
    "# shap_values2.base_values = shap_values2.base_values[:,1]\n",
    "\n",
    "\n",
    "\n",
    "#shap.plots.beeswarm(shap_values2)\n",
    "\n",
    "#shap.plots.beeswarm(shap_values)"
   ]
  },
  {
   "cell_type": "code",
   "execution_count": 149,
   "id": "3f6e2747",
   "metadata": {},
   "outputs": [
    {
     "name": "stdout",
     "output_type": "stream",
     "text": [
      "[22:33:39] WARNING: ../src/learner.cc:1115: Starting in XGBoost 1.3.0, the default evaluation metric used with the objective 'binary:logistic' was changed from 'error' to 'logloss'. Explicitly set eval_metric if you'd like to restore the old behavior.\n"
     ]
    },
    {
     "data": {
      "image/png": "[encoded data removed]",
      "text/plain": [
       "<Figure size 576x468 with 3 Axes>"
      ]
     },
     "metadata": {},
     "output_type": "display_data"
    }
   ],
   "source": [
    "import xgboost\n",
    "import shap\n",
    "\n",
    "# train XGBoost model\n",
    "X,y = shap.datasets.adult()\n",
    "model = xgboost.XGBClassifier().fit(X.iloc[0:100], y[:100])\n",
    "\n",
    "# compute SHAP values\n",
    "explainer = shap.Explainer(model,X.iloc[0:100])\n",
    "shap_values = explainer(X.iloc[0:100])\n",
    "shap.plots.waterfall(shap_values[0])"
   ]
  },
  {
   "cell_type": "code",
   "execution_count": 57,
   "id": "bb02206a",
   "metadata": {},
   "outputs": [
    {
     "data": {
      "text/html": [
       "<div>\n",
       "<style scoped>\n",
       "    .dataframe tbody tr th:only-of-type {\n",
       "        vertical-align: middle;\n",
       "    }\n",
       "\n",
       "    .dataframe tbody tr th {\n",
       "        vertical-align: top;\n",
       "    }\n",
       "\n",
       "    .dataframe thead th {\n",
       "        text-align: right;\n",
       "    }\n",
       "</style>\n",
       "<table border=\"1\" class=\"dataframe\">\n",
       "  <thead>\n",
       "    <tr style=\"text-align: right;\">\n",
       "      <th></th>\n",
       "      <th>Age</th>\n",
       "      <th>Workclass</th>\n",
       "      <th>Education-Num</th>\n",
       "      <th>Marital Status</th>\n",
       "      <th>Occupation</th>\n",
       "      <th>Relationship</th>\n",
       "      <th>Race</th>\n",
       "      <th>Sex</th>\n",
       "      <th>Capital Gain</th>\n",
       "      <th>Capital Loss</th>\n",
       "      <th>Hours per week</th>\n",
       "      <th>Country</th>\n",
       "    </tr>\n",
       "  </thead>\n",
       "  <tbody>\n",
       "    <tr>\n",
       "      <th>0</th>\n",
       "      <td>39.0</td>\n",
       "      <td>7</td>\n",
       "      <td>13.0</td>\n",
       "      <td>4</td>\n",
       "      <td>1</td>\n",
       "      <td>0</td>\n",
       "      <td>4</td>\n",
       "      <td>1</td>\n",
       "      <td>2174.0</td>\n",
       "      <td>0.0</td>\n",
       "      <td>40.0</td>\n",
       "      <td>39</td>\n",
       "    </tr>\n",
       "    <tr>\n",
       "      <th>1</th>\n",
       "      <td>50.0</td>\n",
       "      <td>6</td>\n",
       "      <td>13.0</td>\n",
       "      <td>2</td>\n",
       "      <td>4</td>\n",
       "      <td>4</td>\n",
       "      <td>4</td>\n",
       "      <td>1</td>\n",
       "      <td>0.0</td>\n",
       "      <td>0.0</td>\n",
       "      <td>13.0</td>\n",
       "      <td>39</td>\n",
       "    </tr>\n",
       "    <tr>\n",
       "      <th>2</th>\n",
       "      <td>38.0</td>\n",
       "      <td>4</td>\n",
       "      <td>9.0</td>\n",
       "      <td>0</td>\n",
       "      <td>6</td>\n",
       "      <td>0</td>\n",
       "      <td>4</td>\n",
       "      <td>1</td>\n",
       "      <td>0.0</td>\n",
       "      <td>0.0</td>\n",
       "      <td>40.0</td>\n",
       "      <td>39</td>\n",
       "    </tr>\n",
       "    <tr>\n",
       "      <th>3</th>\n",
       "      <td>53.0</td>\n",
       "      <td>4</td>\n",
       "      <td>7.0</td>\n",
       "      <td>2</td>\n",
       "      <td>6</td>\n",
       "      <td>4</td>\n",
       "      <td>2</td>\n",
       "      <td>1</td>\n",
       "      <td>0.0</td>\n",
       "      <td>0.0</td>\n",
       "      <td>40.0</td>\n",
       "      <td>39</td>\n",
       "    </tr>\n",
       "    <tr>\n",
       "      <th>4</th>\n",
       "      <td>28.0</td>\n",
       "      <td>4</td>\n",
       "      <td>13.0</td>\n",
       "      <td>2</td>\n",
       "      <td>10</td>\n",
       "      <td>5</td>\n",
       "      <td>2</td>\n",
       "      <td>0</td>\n",
       "      <td>0.0</td>\n",
       "      <td>0.0</td>\n",
       "      <td>40.0</td>\n",
       "      <td>5</td>\n",
       "    </tr>\n",
       "    <tr>\n",
       "      <th>...</th>\n",
       "      <td>...</td>\n",
       "      <td>...</td>\n",
       "      <td>...</td>\n",
       "      <td>...</td>\n",
       "      <td>...</td>\n",
       "      <td>...</td>\n",
       "      <td>...</td>\n",
       "      <td>...</td>\n",
       "      <td>...</td>\n",
       "      <td>...</td>\n",
       "      <td>...</td>\n",
       "      <td>...</td>\n",
       "    </tr>\n",
       "    <tr>\n",
       "      <th>95</th>\n",
       "      <td>29.0</td>\n",
       "      <td>2</td>\n",
       "      <td>10.0</td>\n",
       "      <td>4</td>\n",
       "      <td>6</td>\n",
       "      <td>0</td>\n",
       "      <td>4</td>\n",
       "      <td>1</td>\n",
       "      <td>0.0</td>\n",
       "      <td>0.0</td>\n",
       "      <td>50.0</td>\n",
       "      <td>39</td>\n",
       "    </tr>\n",
       "    <tr>\n",
       "      <th>96</th>\n",
       "      <td>48.0</td>\n",
       "      <td>6</td>\n",
       "      <td>16.0</td>\n",
       "      <td>2</td>\n",
       "      <td>10</td>\n",
       "      <td>4</td>\n",
       "      <td>4</td>\n",
       "      <td>1</td>\n",
       "      <td>0.0</td>\n",
       "      <td>1902.0</td>\n",
       "      <td>60.0</td>\n",
       "      <td>39</td>\n",
       "    </tr>\n",
       "    <tr>\n",
       "      <th>97</th>\n",
       "      <td>37.0</td>\n",
       "      <td>4</td>\n",
       "      <td>10.0</td>\n",
       "      <td>2</td>\n",
       "      <td>12</td>\n",
       "      <td>4</td>\n",
       "      <td>4</td>\n",
       "      <td>1</td>\n",
       "      <td>0.0</td>\n",
       "      <td>0.0</td>\n",
       "      <td>48.0</td>\n",
       "      <td>39</td>\n",
       "    </tr>\n",
       "    <tr>\n",
       "      <th>98</th>\n",
       "      <td>48.0</td>\n",
       "      <td>4</td>\n",
       "      <td>12.0</td>\n",
       "      <td>0</td>\n",
       "      <td>4</td>\n",
       "      <td>1</td>\n",
       "      <td>4</td>\n",
       "      <td>0</td>\n",
       "      <td>0.0</td>\n",
       "      <td>0.0</td>\n",
       "      <td>40.0</td>\n",
       "      <td>9</td>\n",
       "    </tr>\n",
       "    <tr>\n",
       "      <th>99</th>\n",
       "      <td>32.0</td>\n",
       "      <td>1</td>\n",
       "      <td>9.0</td>\n",
       "      <td>4</td>\n",
       "      <td>8</td>\n",
       "      <td>3</td>\n",
       "      <td>2</td>\n",
       "      <td>1</td>\n",
       "      <td>0.0</td>\n",
       "      <td>0.0</td>\n",
       "      <td>40.0</td>\n",
       "      <td>39</td>\n",
       "    </tr>\n",
       "  </tbody>\n",
       "</table>\n",
       "<p>100 rows × 12 columns</p>\n",
       "</div>"
      ],
      "text/plain": [
       "     Age  Workclass  Education-Num  Marital Status  Occupation  Relationship  \\\n",
       "0   39.0          7           13.0               4           1             0   \n",
       "1   50.0          6           13.0               2           4             4   \n",
       "2   38.0          4            9.0               0           6             0   \n",
       "3   53.0          4            7.0               2           6             4   \n",
       "4   28.0          4           13.0               2          10             5   \n",
       "..   ...        ...            ...             ...         ...           ...   \n",
       "95  29.0          2           10.0               4           6             0   \n",
       "96  48.0          6           16.0               2          10             4   \n",
       "97  37.0          4           10.0               2          12             4   \n",
       "98  48.0          4           12.0               0           4             1   \n",
       "99  32.0          1            9.0               4           8             3   \n",
       "\n",
       "    Race  Sex  Capital Gain  Capital Loss  Hours per week  Country  \n",
       "0      4    1        2174.0           0.0            40.0       39  \n",
       "1      4    1           0.0           0.0            13.0       39  \n",
       "2      4    1           0.0           0.0            40.0       39  \n",
       "3      2    1           0.0           0.0            40.0       39  \n",
       "4      2    0           0.0           0.0            40.0        5  \n",
       "..   ...  ...           ...           ...             ...      ...  \n",
       "95     4    1           0.0           0.0            50.0       39  \n",
       "96     4    1           0.0        1902.0            60.0       39  \n",
       "97     4    1           0.0           0.0            48.0       39  \n",
       "98     4    0           0.0           0.0            40.0        9  \n",
       "99     2    1           0.0           0.0            40.0       39  \n",
       "\n",
       "[100 rows x 12 columns]"
      ]
     },
     "execution_count": 57,
     "metadata": {},
     "output_type": "execute_result"
    }
   ],
   "source": [
    "X.iloc[0:100]"
   ]
  },
  {
   "cell_type": "code",
   "execution_count": 188,
   "id": "8f5e241f",
   "metadata": {},
   "outputs": [
    {
     "name": "stdout",
     "output_type": "stream",
     "text": [
      "FEMALE\n",
      "              precision    recall  f1-score   support\n",
      "\n",
      "         0.0       0.81      0.77      0.79       277\n",
      "         1.0       0.83      0.87      0.85       366\n",
      "\n",
      "    accuracy                           0.83       643\n",
      "   macro avg       0.82      0.82      0.82       643\n",
      "weighted avg       0.83      0.83      0.83       643\n",
      "\n",
      "AUC-ROC:\t 0.8951884949991122\n",
      "Confusion Matrix:\n",
      " [[214  63]\n",
      " [ 49 317]]\n",
      "MALE\n",
      "              precision    recall  f1-score   support\n",
      "\n",
      "         0.0       0.82      0.86      0.84       214\n",
      "         1.0       0.68      0.63      0.66       106\n",
      "\n",
      "    accuracy                           0.78       320\n",
      "   macro avg       0.75      0.74      0.75       320\n",
      "weighted avg       0.78      0.78      0.78       320\n",
      "\n",
      "AUC-ROC:\t 0.8602980074061012\n",
      "Confusion Matrix:\n",
      " [[183  31]\n",
      " [ 39  67]]\n"
     ]
    }
   ],
   "source": [
    "dct = pkl.load(open('../bucket/Amara/Osteo/Results/late_fusion_resized_coronal_w_demo_6k.pkl', 'rb'))\n",
    "y_test = np.array(dct['labels'])\n",
    "probs = np.array(dct['probs'])\n",
    "preds = np.array([1 if probs[i,1]>=0.5 else 0 for i in range(len(probs))])\n",
    "\n",
    "print('FEMALE')\n",
    "print(classification_report(labels_test[female_idx], preds2[female_idx]))\n",
    "print('AUC-ROC:\\t', roc_auc_score(labels_test[female_idx], probs[female_idx,1]))\n",
    "cm = confusion_matrix(labels_test[female_idx], preds2[female_idx], labels = [0, 1])\n",
    "print('Confusion Matrix:\\n', cm)\n",
    "# fg = plot_confusion_matrix(cm , normalize = False, target_names= ['No Osteoporosis', 'Osteoproorses'] )\n",
    "# fg.savefig('../bucket/Amara/Osteo/Results/CM_Late_Fusion_female.jpg', bbox_inches='tight')\n",
    "print('MALE')\n",
    "print(classification_report(labels_test[male_idx], preds2[male_idx]))\n",
    "print('AUC-ROC:\\t', roc_auc_score(labels_test[male_idx], probs[male_idx,1]))\n",
    "cm = confusion_matrix(labels_test[male_idx], preds2[male_idx], labels = [0, 1])\n",
    "print('Confusion Matrix:\\n', cm)"
   ]
  },
  {
   "cell_type": "code",
   "execution_count": 189,
   "id": "3c7fdffd",
   "metadata": {},
   "outputs": [
    {
     "name": "stdout",
     "output_type": "stream",
     "text": [
      "GE\n",
      "              precision    recall  f1-score   support\n",
      "\n",
      "         0.0       0.82      0.85      0.84        72\n",
      "         1.0       0.77      0.74      0.76        50\n",
      "\n",
      "    accuracy                           0.80       122\n",
      "   macro avg       0.80      0.79      0.80       122\n",
      "weighted avg       0.80      0.80      0.80       122\n",
      "\n",
      "AUC-ROC:\t 0.8658333333333333\n",
      "Confusion Matrix:\n",
      " [[61 11]\n",
      " [13 37]]\n",
      "SIEMENS\n",
      "              precision    recall  f1-score   support\n",
      "\n",
      "         0.0       0.82      0.81      0.81       393\n",
      "         1.0       0.82      0.83      0.82       405\n",
      "\n",
      "    accuracy                           0.82       798\n",
      "   macro avg       0.82      0.82      0.82       798\n",
      "weighted avg       0.82      0.82      0.82       798\n",
      "\n",
      "AUC-ROC:\t 0.900021989759055\n",
      "Confusion Matrix:\n",
      " [[317  76]\n",
      " [ 70 335]]\n",
      "TOSHIBA\n",
      "              precision    recall  f1-score   support\n",
      "\n",
      "         0.0       0.79      0.73      0.76        26\n",
      "         1.0       0.61      0.69      0.65        16\n",
      "\n",
      "    accuracy                           0.71        42\n",
      "   macro avg       0.70      0.71      0.70        42\n",
      "weighted avg       0.72      0.71      0.72        42\n",
      "\n",
      "AUC-ROC:\t 0.8125000000000001\n",
      "Confusion Matrix:\n",
      " [[19  7]\n",
      " [ 5 11]]\n"
     ]
    }
   ],
   "source": [
    "companies = ['ge', 'siemens', 'toshiba']\n",
    "for c in companies:\n",
    "    print(c.upper())\n",
    "    idx = np.array([i for i in range(len(df_test)) if c in df_test.Manufacturer.values[i].lower()])\n",
    "    #print(idx)\n",
    "    print(classification_report(labels_test[idx], preds2[idx]))\n",
    "    print('AUC-ROC:\\t', roc_auc_score(labels_test[idx], probs[idx,1]))\n",
    "    cm = confusion_matrix(labels_test[idx], preds2[idx], labels = [0, 1])\n",
    "    print('Confusion Matrix:\\n', cm)"
   ]
  },
  {
   "cell_type": "code",
   "execution_count": 190,
   "id": "3d64c925",
   "metadata": {},
   "outputs": [
    {
     "name": "stdout",
     "output_type": "stream",
     "text": [
      "0-250\n",
      "              precision    recall  f1-score   support\n",
      "\n",
      "         0.0       0.74      0.62      0.67        47\n",
      "         1.0       0.84      0.90      0.87       103\n",
      "\n",
      "    accuracy                           0.81       150\n",
      "   macro avg       0.79      0.76      0.77       150\n",
      "weighted avg       0.81      0.81      0.81       150\n",
      "\n",
      "AUC-ROC:\t 0.8746126833298904\n",
      "Confusion Matrix:\n",
      " [[29 18]\n",
      " [10 93]]\n",
      "250-350\n",
      "              precision    recall  f1-score   support\n",
      "\n",
      "         0.0       0.81      0.82      0.82       328\n",
      "         1.0       0.82      0.81      0.81       327\n",
      "\n",
      "    accuracy                           0.82       655\n",
      "   macro avg       0.82      0.82      0.82       655\n",
      "weighted avg       0.82      0.82      0.82       655\n",
      "\n",
      "AUC-ROC:\t 0.8985697769821734\n",
      "Confusion Matrix:\n",
      " [[269  59]\n",
      " [ 62 265]]\n",
      "350-1000\n",
      "              precision    recall  f1-score   support\n",
      "\n",
      "         0.0       0.86      0.85      0.86       116\n",
      "         1.0       0.60      0.62      0.61        42\n",
      "\n",
      "    accuracy                           0.79       158\n",
      "   macro avg       0.73      0.74      0.73       158\n",
      "weighted avg       0.79      0.79      0.79       158\n",
      "\n",
      "AUC-ROC:\t 0.8097290640394089\n",
      "Confusion Matrix:\n",
      " [[99 17]\n",
      " [16 26]]\n"
     ]
    }
   ],
   "source": [
    "dia = [0, 250, 350, 1000]\n",
    "for i in range(1, len(dia)):\n",
    "    lower = dia[i-1]\n",
    "    upper = dia[i]\n",
    "    print(str(lower)+'-'+str(upper))\n",
    "    idx = np.array([i for i in range(len(df_test)) if (df_test.CrossSectionSpacing.values[i]>=lower and df_test.CrossSectionSpacing.values[i]<upper)])\n",
    "    #print(idx)\n",
    "    print(classification_report(labels_test[idx], preds2[idx]))\n",
    "    print('AUC-ROC:\\t', roc_auc_score(labels_test[idx], probs[idx,1]))\n",
    "    cm = confusion_matrix(labels_test[idx], preds2[idx], labels = [0, 1])\n",
    "    print('Confusion Matrix:\\n', cm)"
   ]
  },
  {
   "cell_type": "code",
   "execution_count": 191,
   "id": "f741e2be",
   "metadata": {},
   "outputs": [
    {
     "name": "stdout",
     "output_type": "stream",
     "text": [
      "Iteration:\t0\n",
      "Iteration:\t100\n",
      "Iteration:\t200\n",
      "Iteration:\t300\n",
      "Iteration:\t400\n",
      "Iteration:\t500\n",
      "Iteration:\t600\n",
      "Iteration:\t700\n",
      "Iteration:\t800\n",
      "Iteration:\t900\n",
      "95.0 confidence interval \n",
      "Precision\n",
      "[78.4-81.8]\n",
      "Recall\n",
      "[77.2-80.6]\n",
      "F-score\n",
      "[76.6-80.3]\n",
      "AUC-ROC\n",
      "[87.8-90.5]\n"
     ]
    }
   ],
   "source": [
    "##confidence interval\n",
    "from random import randint, sample\n",
    "\n",
    "\n",
    "dct = pkl.load(open('../bucket/Amara/Osteo/Results/late_fusion_resized_coronal_w_demo_6k.pkl', 'rb'))\n",
    "y_test = np.array(dct['labels'])\n",
    "probs = np.array(dct['probs'])\n",
    "preds = np.array([1 if probs[i,1]>=0.35 else 0 for i in range(len(probs))])\n",
    "\n",
    "\n",
    "\n",
    "target_test = y_test\n",
    "\n",
    "avg_precision = []\n",
    "avg_recall = []\n",
    "avg_fscore = []\n",
    "aucroc = []\n",
    "   \n",
    "test_set_size = len(target_test)\n",
    "for i in range(1000):\n",
    "    # randomly pick size of the test set\n",
    "    i_size = randint(round(0.5*test_set_size), test_set_size)\n",
    "    \n",
    "    i_test_idx = sample([ii for ii in range(test_set_size)], i_size)\n",
    "    i_test_idx.sort()\n",
    "    \n",
    "    \n",
    "\n",
    "\n",
    "    i_y_test = target_test[i_test_idx]\n",
    "    i_y_pred = preds[i_test_idx]\n",
    "    i_y_prob = probs[i_test_idx,1]\n",
    "\n",
    "    dct = classification_report(i_y_test, i_y_pred, output_dict=True, zero_division=0)\n",
    "    avg_precision.append(dct['macro avg']['precision'])\n",
    "    avg_recall.append(dct['macro avg']['recall'])\n",
    "    avg_fscore.append(dct['macro avg']['f1-score'])\n",
    "\n",
    "    aucroc.append(roc_auc_score(i_y_test, i_y_prob))\n",
    "    if i%100==0:\n",
    "        print('Iteration:\\t'+str(i))\n",
    "        \n",
    "# confidence intervals\n",
    "alpha = 0.95\n",
    "print('%.1f confidence interval ' % (alpha*100))\n",
    "\n",
    "\n",
    "p = ((1.0-alpha)/2.0) * 100\n",
    "lower = np.percentile(avg_precision, p, axis= 0)\n",
    "p = (alpha+((1.0-alpha)/2.0)) * 100\n",
    "upper = np.percentile(avg_precision, p, axis = 0)\n",
    "print('Precision')\n",
    "print('['+str(np.round(lower*100, decimals=1))+'-'+str(np.round(upper*100, decimals=1))+']')\n",
    "\n",
    "p = ((1.0-alpha)/2.0) * 100\n",
    "lower = np.percentile(avg_recall, p, axis= 0)\n",
    "p = (alpha+((1.0-alpha)/2.0)) * 100\n",
    "upper = np.percentile(avg_recall, p, axis = 0)\n",
    "print('Recall')\n",
    "print('['+str(np.round(lower*100, decimals=1))+'-'+str(np.round(upper*100, decimals=1))+']')\n",
    "\n",
    "p = ((1.0-alpha)/2.0) * 100\n",
    "lower = np.percentile(avg_fscore, p, axis= 0)\n",
    "p = (alpha+((1.0-alpha)/2.0)) * 100\n",
    "upper = np.percentile(avg_fscore, p, axis = 0)\n",
    "print('F-score')\n",
    "print('['+str(np.round(lower*100, decimals=1))+'-'+str(np.round(upper*100, decimals=1))+']')\n",
    "\n",
    "p = ((1.0-alpha)/2.0) * 100\n",
    "lower = np.percentile(aucroc, p, axis= 0)\n",
    "p = (alpha+((1.0-alpha)/2.0)) * 100\n",
    "upper = np.percentile(aucroc, p, axis = 0)\n",
    "print('AUC-ROC')\n",
    "print('['+str(np.round(lower*100, decimals=1))+'-'+str(np.round(upper*100, decimals=1))+']')"
   ]
  },
  {
   "cell_type": "markdown",
   "id": "efa2cc49",
   "metadata": {},
   "source": [
    "#### GradCAM"
   ]
  },
  {
   "cell_type": "code",
   "execution_count": 207,
   "id": "3ccdfba8",
   "metadata": {},
   "outputs": [],
   "source": [
    "from pytorch_grad_cam import GradCAM, ScoreCAM, GradCAMPlusPlus, AblationCAM, XGradCAM, EigenCAM, FullGrad\n",
    "from pytorch_grad_cam.utils.model_targets import ClassifierOutputTarget\n",
    "from pytorch_grad_cam.utils.image import show_cam_on_image\n",
    "from torchvision.models import resnet50"
   ]
  },
  {
   "cell_type": "code",
   "execution_count": 142,
   "id": "abd9223a",
   "metadata": {},
   "outputs": [
    {
     "name": "stderr",
     "output_type": "stream",
     "text": [
      "Columns (29,33) have mixed types.Specify dtype option on import or set low_memory=False.\n"
     ]
    },
    {
     "name": "stdout",
     "output_type": "stream",
     "text": [
      "data frame read 6083\n",
      "6083\n",
      "data frame after filtering: 6083\n",
      "Train (array([0, 1]), array([2209, 2199]))\n",
      "Test (array([0, 1]), array([670, 535]))\n",
      "Val (array([0, 1]), array([229, 241]))\n",
      "modal loaded\n",
      "torch.Size([1, 3, 256, 256])\n"
     ]
    },
    {
     "name": "stderr",
     "output_type": "stream",
     "text": [
      "The use of the transforms.Scale transform is deprecated, please use transforms.Resize instead.\n"
     ]
    }
   ],
   "source": [
    "import pandas as pd\n",
    "import pickle as pkl\n",
    "import numpy as np\n",
    "from tqdm import tqdm\n",
    "import os\n",
    "import sys\n",
    "from os import path\n",
    "import pickle as pkl\n",
    "import matplotlib.pyplot as plt\n",
    "import datetime\n",
    "import utils\n",
    "from PIL import Image\n",
    "\n",
    "from sklearn.metrics.pairwise import cosine_similarity as cos_sim\n",
    "from sklearn.preprocessing import OneHotEncoder\n",
    "from sklearn.preprocessing import StandardScaler, MinMaxScaler\n",
    "from sklearn.metrics import mean_squared_error, pairwise_distances, classification_report\n",
    "from sklearn.decomposition import PCA\n",
    "\n",
    "import nibabel as nib\n",
    "# PyTorch libraries and modules\n",
    "import torch\n",
    "from torch.utils.data import Dataset, DataLoader\n",
    "import torch.optim as optim\n",
    "import torchvision\n",
    "import torchvision.transforms as transforms\n",
    "import torchvision.models as models\n",
    "from torchvision.utils import make_grid\n",
    "from torch.autograd import Variable\n",
    "import torch.nn as nn\n",
    "import torch.nn.functional as F\n",
    "from torch.optim import *\n",
    "import h5py\n",
    "\n",
    "import sys\n",
    "import time\n",
    "\n",
    "def vol_window(vol, level, window):\n",
    "    maxval = level + window/2\n",
    "    minval = level - window/2\n",
    "    vol[vol<minval] = minval\n",
    "    vol[vol>maxval] = maxval\n",
    "    return vol\n",
    "\n",
    "class CTDataset(Dataset):\n",
    "    def __init__(self, df):\n",
    "        self.df = df\n",
    "        \n",
    "    def __len__(self):\n",
    "        return len(self.df)\n",
    "    \n",
    "    def image_loader(self, image_name):\n",
    "        trans = transforms.Compose([\n",
    "                                                                    transforms.Scale((256, 256)),\n",
    "                                                                    transforms.CenterCrop(256),\n",
    "                                                                    transforms.ToTensor()])#,  transforms.Normalize(mean=[0.485, 0.456, 0.406],std=[0.229, 0.224, 0.225])])\n",
    "\n",
    "\n",
    "        a = np.load(image_name)\n",
    "        a = a.astype(float)\n",
    "        a = vol_window(a, 500, 1500)\n",
    "        a = (a-np.min(a))/(np.max(a)-np.min(a))\n",
    "        a = 255.0*a\n",
    "        image = Image.fromarray(np.uint8(a)).convert('RGB')\n",
    "        \n",
    "        image = trans(image).float()\n",
    "        image = Variable(image, requires_grad=True)\n",
    "        #image = image.unsqueeze(0)  #this is for VGG, may not be needed for ResNet\n",
    "        return image  \n",
    "    \n",
    "    def __getitem__(self, index):\n",
    "        header = '../bucket/Amara/Osteo/Coronal_Slices/'\n",
    "        y = self.df.at[self.df.index[index], 'TOTAL_SPINE_TSCORE']\n",
    "        if y<=-1:\n",
    "            y = 1\n",
    "        else:\n",
    "            y = 0\n",
    "        #print(self.df.at[self.df.index[index], 'NIFTI location-Transverse'])\n",
    "        #print(self.df.at[self.df.index[index], 'NIFTI location-Transverse'][3:])\n",
    "        CT_acc = self.df.at[self.df.index[index], 'CT_acc']\n",
    "        slice_number = int(self.df.at[self.df.index[index], 'coronal_slice'])\n",
    "        \n",
    "        image_name = header+str(CT_acc)+'_'+str(slice_number)+'.npy'#'../'+self.df.at[self.df.index[index], 'NIFTI location-Transverse'].strip('../')\n",
    "        \n",
    "        x = self.image_loader(image_name)\n",
    "        y = torch.tensor([y], dtype=torch.float)\n",
    "        return x, y #y normalized\n",
    "\n",
    "batch_size = 1\n",
    "df = pd.read_csv('../bucket/Amara/Osteo/CT_ABD_PELVIS_w_all_scores_mapped1235678_w_view_locations_w_L3_and_coronal_slice_patient_manufacturer_info_cohort_only_histogram_cross_section_pixelspacing_w_orientation.csv')\n",
    "print('data frame read', len(df))\n",
    "print(len(df))\n",
    "df = df.dropna(subset=['Original DICOM file location-Transverse', 'Original DICOM file location-Coronal', 'TOTAL_SPINE_TSCORE', 'L3_slice'], how='any')\n",
    "print('data frame after filtering:', len(df))\n",
    "\n",
    "\n",
    "dct = pkl.load(open('../bucket/Amara/Osteo/mrn_split_basic1235678.pkl', 'rb'))\n",
    "mrn_train = dct['mrn_train']\n",
    "mrn_test = dct['mrn_test']\n",
    "mrn_val = dct['mrn_val']\n",
    "\n",
    "df_train = df.loc[df.mrn.isin(mrn_train)]\n",
    "df_test = df.loc[df.mrn.isin(mrn_test)]\n",
    "df_val = df.loc[df.mrn.isin(mrn_val)]\n",
    "\n",
    "\n",
    "print('Train', np.unique([1 if t<=-1 else 0 for t in df_train['TOTAL_SPINE_TSCORE'].values], return_counts=True))\n",
    "print('Test', np.unique([1 if t<=-1 else 0 for t in df_test['TOTAL_SPINE_TSCORE'].values], return_counts=True))\n",
    "print('Val', np.unique([1 if t<=-1 else 0 for t in df_val['TOTAL_SPINE_TSCORE'].values], return_counts=True))\n",
    "\n",
    "\n",
    "datagen_train = CTDataset(df =  df_train.copy()) \n",
    "datagen_val = CTDataset(df = df_val.copy()) \n",
    "datagen_test = CTDataset(df = df_test.copy()) \n",
    "\n",
    "train_loader = DataLoader(dataset=datagen_train, shuffle=False, batch_size=batch_size)\n",
    "val_loader = DataLoader(dataset=datagen_val,  shuffle=False, batch_size=batch_size)\n",
    "test_loader = DataLoader(dataset=datagen_test,  shuffle=False, batch_size=batch_size)\n",
    "\n",
    "# model = models.densenet121(pretrained=True)\n",
    "# model.classifier = nn.Sequential(nn.Linear(1024, 1))#, nn.Sigmoid())\n",
    "# best_path = '../bucket/Amara/Osteo/Class/train/train-26/best.pth.tar' ##axial-6k\n",
    "# model = utils.load_model_checkpoint(best_path, model) \n",
    "# print('modal loaded')\n",
    "# sys.stdout.flush()\n",
    "\n",
    "\n",
    "model = models.densenet121(pretrained=True)\n",
    "model.classifier = nn.Sequential(nn.Linear(1024, 1))#, nn.Sigmoid())\n",
    "best_path = '../bucket/Amara/Osteo/Class/train/train-32/best.pth.tar' # coronal6k\n",
    "model = utils.load_model_checkpoint(best_path, model) \n",
    "print('modal loaded')\n",
    "sys.stdout.flush()\n",
    "for j, data in enumerate(test_loader):\n",
    "    print(data[0].shape)\n",
    "    break"
   ]
  },
  {
   "cell_type": "code",
   "execution_count": 144,
   "id": "94cbf827",
   "metadata": {},
   "outputs": [
    {
     "name": "stdout",
     "output_type": "stream",
     "text": [
      "TP:\t [1090, 1091, 1094, 1095, 1097, 1098, 1099, 1107, 1118, 1119, 1121, 1122, 1123, 1125, 1126, 1130, 1133, 1137, 1139, 1140, 1143, 1144, 1146, 1151, 1152, 1157, 1161, 1162, 1163, 1164, 1165, 1167, 1168, 1169, 1171, 1175, 1180, 1181, 1182, 1183, 1184, 1185, 1186, 1187, 1189, 1190, 1191, 1192, 1194, 1197]\n",
      "FP:\t [1062, 1067, 1069, 1073, 1078, 1079, 1080, 1085, 1092, 1101, 1103, 1111, 1112, 1114, 1115, 1117, 1135, 1136, 1145, 1150, 1153, 1159, 1195, 1200, 1203]\n",
      "FN:\t [870, 877, 894, 896, 931, 933, 934, 938, 940, 954, 958, 974, 975, 982, 994, 1028, 1052, 1077, 1093, 1096, 1109, 1110, 1132, 1199, 1202]\n"
     ]
    }
   ],
   "source": [
    "dct = pkl.load(open('../bucket/Amara/Osteo/Class/train/train-32/test_predictions.pkl', 'rb'))\n",
    "TP = []\n",
    "FP = []\n",
    "FN = []\n",
    "for i in range(len(dct['labels'])):\n",
    "    if dct['labels'][i]==1 and dct['preds'][i]==1:\n",
    "        TP.append(i)\n",
    "    elif dct['labels'][i]==1 and dct['preds'][i]==0:\n",
    "        FN.append(i)\n",
    "    elif dct['labels'][i]==0 and dct['preds'][i]==1:\n",
    "        FP.append(i)\n",
    "print('TP:\\t', TP[-50:])\n",
    "print('FP:\\t', FP[-25:])\n",
    "print('FN:\\t', FN[-25:])"
   ]
  },
  {
   "cell_type": "code",
   "execution_count": 160,
   "id": "747b3ab5",
   "metadata": {},
   "outputs": [
    {
     "name": "stdout",
     "output_type": "stream",
     "text": [
      "[ 665  900  971  340  111  445  861  127  748  508  833  464  584 1143\n",
      "  469  170  803  838  805  210  318  917  788  869  395  782  220  770\n",
      "  252  897 1047  558 1087  168  811  164 1038  696 1082  690  542  320\n",
      "  507 1146  237  376  280  529  789  144] [1159  330  423  745  473  858  248  630  462  418   39 1112 1059 1200\n",
      "  924  290  378  192 1036  398   87  583  675  338  884  450  303  785\n",
      "  612  494  822  496  125  438  772  513  511  266  681   57 1010  854\n",
      "  827  736  562 1203  260  533  505  718] [ 933  336  205  931  431  239  504  707 1028  864  817  894  799  454\n",
      " 1052  140   71 1077  374  480  821  219  531  391  590  589  712  208\n",
      "  315  698 1093  704  601  381  102   36  793  726  199  739  194  572\n",
      "  264  954   24  610  305  877  178  331]\n"
     ]
    }
   ],
   "source": [
    "TP = np.random.choice(TP, size = 50, replace=False)\n",
    "FP = np.random.choice(FP, size = 50, replace=False)\n",
    "FN = np.random.choice(FN, size = 50, replace=False)\n",
    "print(TP, FP, FN)"
   ]
  },
  {
   "cell_type": "code",
   "execution_count": 171,
   "id": "52f26457",
   "metadata": {},
   "outputs": [],
   "source": [
    "def image_loader(image_name):\n",
    "        trans = transforms.Compose([\n",
    "                                                                    transforms.Scale((256, 256)),\n",
    "                                                                    transforms.CenterCrop(256),\n",
    "                                                                    transforms.ToTensor()])#,  transforms.Normalize(mean=[0.485, 0.456, 0.406],std=[0.229, 0.224, 0.225])])\n",
    "\n",
    "\n",
    "        a = np.load(image_name)\n",
    "        a = a.astype(float)\n",
    "        a = vol_window(a, 500, 1500)\n",
    "        a = (a-np.min(a))/(np.max(a)-np.min(a))\n",
    "        a = 255.0*a\n",
    "        image = Image.fromarray(np.uint8(a)).convert('RGB')\n",
    "        \n",
    "        image = trans(image).float()\n",
    "        image = Variable(image, requires_grad=True)\n",
    "        #image = image.unsqueeze(0)  #this is for VGG, may not be needed for ResNet\n",
    "        return image  \n",
    "\n",
    "\n",
    "k = 0\n",
    "for index in FN[:25]:\n",
    "    target_layers = [model.features.denseblock4.denselayer4]\n",
    "\n",
    "    header = '../bucket/Amara/Osteo/Coronal_Slices_detected/'\n",
    "    CT_acc = df_test.at[df_test.index[index], 'CT_acc']\n",
    "    print(index, df_test.at[df_test.index[index], 'coronal_slice_detected'], df_test.at[df_test.index[index], 'coronal_slice'])\n",
    "    slice_number = int(df_test.at[df_test.index[index], 'coronal_slice_detected'])\n",
    "    image_name = header+str(CT_acc)+'_'+str(slice_number)+'.npy'\n",
    "    \n",
    "\n",
    "    cam = GradCAM(model=model, target_layers=target_layers, use_cuda=False)\n",
    "\n",
    "\n",
    "    data = image_loader(image_name)\n",
    "    data = data.unsqueeze(axis = 0)\n",
    "    input_tensor = data# Create an input tensor image for your model..\n",
    "    grayscale_cam = cam(input_tensor=input_tensor, targets=[ClassifierOutputTarget(0)])\n",
    "    grayscale_cam = grayscale_cam[0, :]\n",
    "\n",
    "    rgb_img = input_tensor.detach().numpy().squeeze()\n",
    "\n",
    "    rgb_img = np.moveaxis(rgb_img, 0, -1)\n",
    "    #rgb_img.numpy().moveaxis()\n",
    "\n",
    "    visualization = show_cam_on_image(rgb_img, grayscale_cam, use_rgb=True, colormap=5)\n",
    "    plt.figure()\n",
    "    plt.imshow(visualization)\n",
    "    k+=1\n",
    "    print(k)\n",
    "    plt.savefig('visualization/coronal_detected/FN/coronal_FP_block4_image'+str(index)+'.jpg')\n"
   ]
  },
  {
   "cell_type": "code",
   "execution_count": 208,
   "id": "905a99e7",
   "metadata": {},
   "outputs": [
    {
     "name": "stderr",
     "output_type": "stream",
     "text": [
      "Columns (18,22) have mixed types.Specify dtype option on import or set low_memory=False.\n"
     ]
    },
    {
     "name": "stdout",
     "output_type": "stream",
     "text": [
      "data frame read 6083\n",
      "6083\n",
      "data frame after filtering: 6083\n",
      "Train (array([0, 1]), array([2209, 2199]))\n",
      "Test (array([0, 1]), array([670, 535]))\n",
      "Val (array([0, 1]), array([229, 241]))\n",
      "modal loaded\n"
     ]
    }
   ],
   "source": [
    "def vol_window(vol, level, window):\n",
    "    maxval = level + window/2\n",
    "    minval = level - window/2\n",
    "    vol[vol<minval] = minval\n",
    "    vol[vol>maxval] = maxval\n",
    "    return vol\n",
    "\n",
    "class CTDataset(Dataset):\n",
    "    def __init__(self, df):\n",
    "        self.df = df\n",
    "        \n",
    "    def __len__(self):\n",
    "        return len(self.df)\n",
    "    \n",
    "    def image_loader(self, image_name):\n",
    "        trans = transforms.Compose([\n",
    "                                                                    transforms.Scale(256),\n",
    "                                                                    transforms.CenterCrop(256),\n",
    "                                                                    transforms.ToTensor()])#,  transforms.Normalize(mean=[0.485, 0.456, 0.406],std=[0.229, 0.224, 0.225])])\n",
    "\n",
    "\n",
    "        a = np.load(image_name)\n",
    "        a = a.astype(float)\n",
    "        a = vol_window(a, 500, 1500)\n",
    "        a = (a-np.min(a))/(np.max(a)-np.min(a))\n",
    "        a = 255.0*a\n",
    "        image = Image.fromarray(np.uint8(a)).convert('RGB')\n",
    "        \n",
    "        image = trans(image).float()\n",
    "        image = Variable(image, requires_grad=True)\n",
    "        #image = image.unsqueeze(0)  #this is for VGG, may not be needed for ResNet\n",
    "        return image  \n",
    "    \n",
    "    def __getitem__(self, index):\n",
    "        header = '../bucket/Amara/Osteo/L3_Slices/'\n",
    "        y = self.df.at[self.df.index[index], 'TOTAL_SPINE_TSCORE']\n",
    "        if y<=-1:\n",
    "            y = 1\n",
    "        else:\n",
    "            y = 0\n",
    "        #print(self.df.at[self.df.index[index], 'NIFTI location-Transverse'])\n",
    "        #print(self.df.at[self.df.index[index], 'NIFTI location-Transverse'][3:])\n",
    "        CT_acc = self.df.at[self.df.index[index], 'CT_acc']\n",
    "        slice_number = int(self.df.at[self.df.index[index], 'L3_slice'])\n",
    "        prob = self.df.at[self.df.index[index], 'L3_slice_prob']\n",
    "        #print(CT_acc, slice_number, np.round(prob, decimals=2) )\n",
    "        image_name = header+str(CT_acc)+'_'+str(slice_number)+'.npy'#'../'+self.df.at[self.df.index[index], 'NIFTI location-Transverse'].strip('../')\n",
    "        \n",
    "        x = self.image_loader(image_name)\n",
    "        y = torch.tensor([y], dtype=torch.float)\n",
    "        return x, y #y normalized\n",
    "    \n",
    "    \n",
    "batch_size = 1\n",
    "df = pd.read_csv('../bucket/Amara/Osteo/CT_ABD_PELVIS_w_all_scores_mapped1235678_w_view_locations_w_L3_and_coronal_slice_patient_manufacturer_info_cohort_only_histogram_cross_section_pixelspacing.csv')#('../bucket/Amara/Osteo/CT_ABD_PELVIS_w_all_scores_mapped1235_w_view_locations_w_coronal_slice4.csv')\n",
    "#df = pd.read_csv('../bucket/Amara/Osteo/CT_ABD_PELVIS_w_all_scores_mapped12_w_view_locations.xlsx')\n",
    "print('data frame read', len(df))\n",
    "print(len(df))\n",
    "df = df.dropna(subset=['Original DICOM file location-Transverse', 'Original DICOM file location-Coronal', 'TOTAL_SPINE_TSCORE', 'L3_slice'], how='any')\n",
    "print('data frame after filtering:', len(df))\n",
    "\n",
    "dct = pkl.load(open('../bucket/Amara/Osteo/mrn_split_basic1235678.pkl', 'rb'))\n",
    "mrn_train = dct['mrn_train']\n",
    "mrn_test = dct['mrn_test']\n",
    "mrn_val = dct['mrn_val']\n",
    "\n",
    "df_train = df.loc[df.mrn.isin(mrn_train)]\n",
    "df_test = df.loc[df.mrn.isin(mrn_test)]\n",
    "df_val = df.loc[df.mrn.isin(mrn_val)]\n",
    "\n",
    "print('Train', np.unique([1 if t<=-1 else 0 for t in df_train['TOTAL_SPINE_TSCORE'].values], return_counts=True))\n",
    "print('Test', np.unique([1 if t<=-1 else 0 for t in df_test['TOTAL_SPINE_TSCORE'].values], return_counts=True))\n",
    "print('Val', np.unique([1 if t<=-1 else 0 for t in df_val['TOTAL_SPINE_TSCORE'].values], return_counts=True))\n",
    "\n",
    "\n",
    "datagen_train = CTDataset(df =  df_train.copy()) \n",
    "datagen_val = CTDataset(df = df_val.copy()) \n",
    "datagen_test = CTDataset(df = df_test.copy()) \n",
    "\n",
    "train_loader = DataLoader(dataset=datagen_train, shuffle=False, batch_size=batch_size)\n",
    "val_loader = DataLoader(dataset=datagen_val,  shuffle=False, batch_size=batch_size)\n",
    "test_loader = DataLoader(dataset=datagen_test,  shuffle=False, batch_size=batch_size)\n",
    "\n",
    "model = models.densenet121(pretrained=True)\n",
    "model.classifier = nn.Sequential(nn.Linear(1024, 1))#, nn.Sigmoid())\n",
    "best_path = '../bucket/Amara/Osteo/Class/train/train-30/best.pth.tar'\n",
    "model = utils.load_model_checkpoint(best_path, model) \n",
    "print('modal loaded')\n",
    "sys.stdout.flush()"
   ]
  },
  {
   "cell_type": "code",
   "execution_count": 209,
   "id": "3b94342a",
   "metadata": {},
   "outputs": [
    {
     "name": "stdout",
     "output_type": "stream",
     "text": [
      "TP:\t [50, 64, 84, 94, 113, 132, 135, 142, 148, 150, 153, 164, 179, 201, 258, 259, 274, 278, 298, 301, 309, 321, 324, 325, 368, 374, 397, 406, 410, 414, 421, 422, 448, 467, 481, 483, 507, 528, 541, 563, 565, 568, 570, 574, 599, 603, 609, 623, 649, 663]\n",
      "FP:\t [478, 583, 636, 867, 928, 1079, 1092]\n",
      "FN:\t [1, 5, 6, 7, 9, 10, 11, 14, 19, 24, 26, 27, 33, 36, 42, 43, 46, 47, 48, 49, 52, 55, 58, 59, 61]\n"
     ]
    }
   ],
   "source": [
    "dct = pkl.load(open('../bucket/Amara/Osteo/Class/train/train-30/test_predictions.pkl', 'rb'))\n",
    "TP = []\n",
    "FP = []\n",
    "FN = []\n",
    "for i in range(len(dct['labels'])):\n",
    "    if dct['labels'][i]==1 and dct['preds'][i]==1:\n",
    "        TP.append(i)\n",
    "    elif dct['labels'][i]==1 and dct['preds'][i]==0:\n",
    "        FN.append(i)\n",
    "    elif dct['labels'][i]==0 and dct['preds'][i]==1:\n",
    "        FP.append(i)\n",
    "print('TP:\\t', TP[:50])\n",
    "print('FP:\\t', FP[:25])\n",
    "print('FN:\\t', FN[:25])"
   ]
  },
  {
   "cell_type": "code",
   "execution_count": 211,
   "id": "4ef66972",
   "metadata": {},
   "outputs": [
    {
     "name": "stdout",
     "output_type": "stream",
     "text": [
      "torch.Size([1, 3, 256, 256])\n",
      "50\n",
      "torch.Size([1, 3, 256, 256])\n",
      "64\n",
      "torch.Size([1, 3, 256, 256])\n",
      "84\n",
      "torch.Size([1, 3, 256, 256])\n",
      "94\n",
      "torch.Size([1, 3, 256, 256])\n",
      "113\n"
     ]
    },
    {
     "data": {
      "image/png": "[encoded data removed]",
      "text/plain": [
       "<Figure size 432x288 with 1 Axes>"
      ]
     },
     "metadata": {
      "needs_background": "light"
     },
     "output_type": "display_data"
    },
    {
     "data": {
      "image/png": "[encoded data removed]",
      "text/plain": [
       "<Figure size 432x288 with 1 Axes>"
      ]
     },
     "metadata": {
      "needs_background": "light"
     },
     "output_type": "display_data"
    },
    {
     "data": {
      "image/png": "[encoded data removed]",
      "text/plain": [
       "<Figure size 432x288 with 1 Axes>"
      ]
     },
     "metadata": {
      "needs_background": "light"
     },
     "output_type": "display_data"
    },
    {
     "data": {
      "image/png": "[encoded data removed]",
      "text/plain": [
       "<Figure size 432x288 with 1 Axes>"
      ]
     },
     "metadata": {
      "needs_background": "light"
     },
     "output_type": "display_data"
    },
    {
     "data": {
      "image/png": "[encoded data removed]",
      "text/plain": [
       "<Figure size 432x288 with 1 Axes>"
      ]
     },
     "metadata": {
      "needs_background": "light"
     },
     "output_type": "display_data"
    }
   ],
   "source": [
    "def image_loader(image_name):\n",
    "        trans = transforms.Compose([\n",
    "                                                                    transforms.Scale((256)),\n",
    "                                                                    transforms.CenterCrop(256),\n",
    "                                                                    transforms.ToTensor()])#,  transforms.Normalize(mean=[0.485, 0.456, 0.406],std=[0.229, 0.224, 0.225])])\n",
    "\n",
    "\n",
    "        a = np.load(image_name)\n",
    "        a = a.astype(float)\n",
    "        a = vol_window(a, 500, 1500)\n",
    "        a = (a-np.min(a))/(np.max(a)-np.min(a))\n",
    "        a = 255.0*a\n",
    "        image = Image.fromarray(np.uint8(a)).convert('RGB')\n",
    "        \n",
    "        image = trans(image).float()\n",
    "        image = Variable(image, requires_grad=True)\n",
    "        #image = image.unsqueeze(0)  #this is for VGG, may not be needed for ResNet\n",
    "        return image  \n",
    "\n",
    "#index = 599\n",
    "for index in TP[:5]:\n",
    "    target_layers = [model.features.denseblock4.denselayer4]\n",
    "\n",
    "    header = '../bucket/Amara/Osteo/L3_Slices/'\n",
    "    CT_acc = df_test.at[df_test.index[index], 'CT_acc']\n",
    "    slice_number = int(df_test.at[df_test.index[index], 'L3_slice'])\n",
    "    image_name = header+str(CT_acc)+'_'+str(slice_number)+'.npy'\n",
    "\n",
    "\n",
    "    cam = GradCAM(model=model, target_layers=target_layers, use_cuda=False)\n",
    "\n",
    "\n",
    "    data = image_loader(image_name)\n",
    "    data = data.unsqueeze(axis = 0)\n",
    "    print(data.shape)\n",
    "    input_tensor = data# Create an input tensor image for your model..\n",
    "    grayscale_cam = cam(input_tensor=input_tensor, targets=[ClassifierOutputTarget(0)])\n",
    "    grayscale_cam = grayscale_cam[0, :]\n",
    "\n",
    "\n",
    "    CT_acc = df_test.at[df_test.index[index], 'CT_acc']\n",
    "    slice_number = int(df_test.at[df_test.index[index], 'L3_slice'])\n",
    "    image_name = header+str(CT_acc)+'_'+str(slice_number)+'.npy'\n",
    "\n",
    "    rgb_img = input_tensor.detach().numpy().squeeze()\n",
    "    rgb_img = np.moveaxis(rgb_img, 0, -1)\n",
    "    #rgb_img.numpy().moveaxis()\n",
    "\n",
    "    visualization = show_cam_on_image(rgb_img, grayscale_cam, use_rgb=True, colormap=5)\n",
    "    print(index)\n",
    "    plt.figure()\n",
    "    plt.imshow(visualization)\n",
    "\n",
    "    #plt.savefig('visualization/axial_FN_block4_image'+str(index)+'.jpg')"
   ]
  },
  {
   "cell_type": "code",
   "execution_count": 124,
   "id": "9db7645b",
   "metadata": {},
   "outputs": [],
   "source": [
    "from roc_utils import *"
   ]
  },
  {
   "cell_type": "code",
   "execution_count": 131,
   "id": "99bad917",
   "metadata": {},
   "outputs": [
    {
     "data": {
      "image/png": "[encoded data removed]",
      "text/plain": [
       "<Figure size 432x288 with 1 Axes>"
      ]
     },
     "metadata": {
      "needs_background": "light"
     },
     "output_type": "display_data"
    }
   ],
   "source": [
    "#dct = pkl.load(open('../bucket/Amara/Osteo/Class/train/train-30/test_predictions.pkl', 'rb')) #axial\n",
    "#dct = pkl.load(open('../bucket/Amara/Osteo/Class/train/train-32/test_predictions.pkl', 'rb')) # coronal\n",
    "#dct = pkl.load(open('../bucket/Amara/Osteo/Results/baseline_w_diameter_binned_test_6k_ann_mrn.pkl', 'rb')) # baseline\n",
    "dct = pkl.load(open('../bucket/Amara/Osteo/Results/late_fusion_w_coronal_new_baseline_6k_ann_mrn.pkl', 'rb')) #late fusion\n",
    "\n",
    "y_test = np.array(dct['labels'])\n",
    "probs = np.array(dct['probs'])\n",
    "\n",
    "rocs = compute_roc_bootstrap(X=probs[:,1], y=y_test, pos_label=1.0,#[:,1]\n",
    "                             n_bootstrap=1000,\n",
    "                             random_state=42,\n",
    "                             return_mean=False)\n",
    "\n",
    "plot_mean_roc(rocs, show_ci=True, show_ti=True)\n",
    "plt.title(\"Bootstrap demo\");\n",
    "plt.savefig('visualization/fusion_new_mean_roc.jpg')\n",
    "plt.show()"
   ]
  },
  {
   "cell_type": "code",
   "execution_count": 132,
   "id": "78f0a27f",
   "metadata": {},
   "outputs": [
    {
     "name": "stdout",
     "output_type": "stream",
     "text": [
      "minopt:         thr= 0.533, J= -0.289\n"
     ]
    },
    {
     "data": {
      "image/png": "[encoded data removed]",
      "text/plain": [
       "<Figure size 432x288 with 1 Axes>"
      ]
     },
     "metadata": {
      "needs_background": "light"
     },
     "output_type": "display_data"
    }
   ],
   "source": [
    "# Note that multiple objective functions can be computed at the same time.\n",
    "#dct = pkl.load(open('../bucket/Amara/Osteo/Class/train/train-30/test_predictions.pkl', 'rb')) #axial\n",
    "# dct = pkl.load(open('../bucket/Amara/Osteo/Class/train/train-32/test_predictions.pkl', 'rb')) # coronal\n",
    "#dct = pkl.load(open('../bucket/Amara/Osteo/Results/baseline_w_diameter_binned_test_6k_ann_mrn.pkl', 'rb')) # baseline\n",
    "dct = pkl.load(open('../bucket/Amara/Osteo/Results/late_fusion_w_coronal_new_baseline_6k_ann_mrn.pkl', 'rb')) #late fusion\n",
    "\n",
    "y_test = np.array(dct['labels'])\n",
    "probs = np.array(dct['probs'])\n",
    "\n",
    "roc = compute_roc(X=probs[:,1], y=y_test, pos_label=1.0,\n",
    "                  objective=[\"minopt\"\n",
    "#                              , \"minoptsym\", \n",
    "#                              \"youden\", \"cost\",\n",
    "#                              \"concordance\",\n",
    "                             #\"lr+\", \"lr-\",    # Possibly buggy\n",
    "                             #\"dor\", \"chi2\",   # Possibly buggy\n",
    "#                              \"acc\", \"cohen\"\n",
    "                            ])\n",
    "for key, val in roc.opd.items():\n",
    "    print(\"%-15s thr=% .3f, J=%7.3f\" % (key+\":\", val.opt, val.opo) )\n",
    "    \n",
    "plot_roc(roc, show_opt=True)\n",
    "plt.legend(loc=\"upper left\", bbox_to_anchor=(1.05, 1), borderaxespad=0.)\n",
    "plt.title(\"Comparison of different objectives\");\n",
    "plt.savefig('visualization/fusion_new_roc_op.jpg', bbox_inches='tight')"
   ]
  },
  {
   "cell_type": "code",
   "execution_count": 138,
   "id": "6497c4f6",
   "metadata": {},
   "outputs": [
    {
     "name": "stdout",
     "output_type": "stream",
     "text": [
      "0.1\n",
      "0.2\n",
      "0.3\n",
      "0.4\n",
      "0.5\n",
      "0.6\n",
      "0.7\n",
      "0.8\n",
      "0.9\n"
     ]
    },
    {
     "data": {
      "image/png": "[encoded data removed]",
      "text/plain": [
       "<Figure size 432x288 with 1 Axes>"
      ]
     },
     "metadata": {
      "needs_background": "light"
     },
     "output_type": "display_data"
    }
   ],
   "source": [
    "from sklearn.metrics import precision_score, recall_score\n",
    "# Note that multiple objective functions can be computed at the same time.\n",
    "\n",
    "#dct = pkl.load(open('../bucket/Amara/Osteo/Class/train/train-30/test_predictions.pkl', 'rb')) #axial\n",
    "# dct = pkl.load(open('../bucket/Amara/Osteo/Class/train/train-32/test_predictions.pkl', 'rb')) # coronal\n",
    "#dct = pkl.load(open('../bucket/Amara/Osteo/Results/baseline_w_diameter_binned_test_6k_ann_mrn.pkl', 'rb')) # baseline\n",
    "dct = pkl.load(open('../bucket/Amara/Osteo/Results/late_fusion_w_coronal_new_baseline_6k_ann_mrn.pkl', 'rb')) #late fusion\n",
    "y_test = np.array(dct['labels'])\n",
    "probs = np.array(dct['probs'][:, 1])\n",
    "\n",
    "precision = []\n",
    "recall = []\n",
    "th_list =  [0.1, 0.2, 0.3, .4, .5, .6, .7, .8, .9]\n",
    "for th in th_list:\n",
    "    preds = np.array([1 if p>th else 0 for p in probs])\n",
    "    precision.append(precision_score(y_test, preds))\n",
    "    recall.append(recall_score(y_test, preds))\n",
    "    print(th)\n",
    "\n",
    "X_axis = np.arange(9)\n",
    "plt.bar(X_axis - 0.2, precision, 0.4, label = 'Precision')\n",
    "plt.bar(X_axis + 0.2, recall, 0.4, label = 'Recall')\n",
    "  \n",
    "plt.xticks(X_axis, th_list)\n",
    "plt.ylabel(\"Metric value\")\n",
    "plt.xlabel(\"Threshold\")\n",
    "\n",
    "plt.legend(loc = 'upper right')\n",
    "\n",
    "plt.savefig('visualization/late_fusion_PR.jpg', bbox_inches='tight')\n",
    "\n",
    "\n",
    "# ## save excel:\n",
    "\n",
    "# paths = {'Axial': '../bucket/Amara/Osteo/Class/train/train-30/test_predictions.pkl', 'Coronal': '../bucket/Amara/Osteo/Class/train/train-32/test_predictions.pkl', \n",
    "#         'Baseline':'../bucket/Amara/Osteo/Results/baseline_w_diameter_binned_test_6k_ann_mrn.pkl', 'LateFusion': '../bucket/Amara/Osteo/Results/late_fusion_w_coronal_new_baseline_6k_ann_mrn.pkl'}\n",
    "# th_list =  [0.1, 0.2, 0.3, .4, .5, .6, .7, .8, .9]\n",
    "# df = pd.DataFrame()\n",
    "# idx = 0\n",
    "# for k in paths.keys():\n",
    "#     dct = pkl.load(open(paths[k], 'rb'))\n",
    "#     y_test = np.array(dct['labels'])\n",
    "#     probs = np.array(dct['probs'])\n",
    "#     print(probs.shape)\n",
    "#     if len(probs.shape)>1 and probs.shape[1]>1:\n",
    "#         probs = probs[:,1]\n",
    "#     for th in th_list:\n",
    "#         df.at[idx, 'Threshold'] = th\n",
    "#         preds = np.array([1 if p>th else 0 for p in probs])\n",
    "#         df.at[idx, 'Precision'] = precision_score(y_test, preds)\n",
    "#         df.at[idx, 'Recall'] = recall_score(y_test, preds)\n",
    "#         df.at[idx, 'Model'] = k\n",
    "#         idx+=1\n",
    "# df.to_csv('visualization/PR_values.csv')"
   ]
  },
  {
   "cell_type": "code",
   "execution_count": 280,
   "id": "11f28ade",
   "metadata": {},
   "outputs": [
    {
     "data": {
      "text/plain": [
       "1"
      ]
     },
     "execution_count": 280,
     "metadata": {},
     "output_type": "execute_result"
    }
   ],
   "source": [
    "len(probs.shape)"
   ]
  },
  {
   "cell_type": "markdown",
   "id": "d9ad2ec5",
   "metadata": {},
   "source": [
    "### DXA Studies Metadata Extraction"
   ]
  },
  {
   "cell_type": "code",
   "execution_count": 223,
   "id": "afe993c9",
   "metadata": {},
   "outputs": [
    {
     "data": {
      "text/plain": [
       "5109"
      ]
     },
     "execution_count": 223,
     "metadata": {},
     "output_type": "execute_result"
    }
   ],
   "source": [
    "meta = pd.read_csv('../bucket/DXA_studies_nonifti/metadata.csv')\n",
    "len(meta)"
   ]
  },
  {
   "cell_type": "code",
   "execution_count": 199,
   "id": "46080818",
   "metadata": {},
   "outputs": [
    {
     "name": "stdout",
     "output_type": "stream",
     "text": [
      "9\n"
     ]
    }
   ],
   "source": [
    "acc = meta.AccessionNumber.unique()\n",
    "for i in range(3,len(acc)):\n",
    "    c = acc[i]\n",
    "    temp = meta.loc[meta.AccessionNumber==c]\n",
    "    print(len(temp))\n",
    "    break"
   ]
  },
  {
   "cell_type": "code",
   "execution_count": 227,
   "id": "1ee7777a",
   "metadata": {},
   "outputs": [
    {
     "name": "stdout",
     "output_type": "stream",
     "text": [
      "data frame after filtering: 3979\n"
     ]
    }
   ],
   "source": [
    "df = pd.read_csv('../bucket/Amara/Osteo/CT_ABD_PELVIS_w_all_scores_mapped12356_w_view_locations_w_L3_and_coronal_slice_patient_manufacturer_info_cohort_only_histogram_cross_section_pixelspacing.csv')#('../bucket/Amara/Osteo/CT_ABD_PELVIS_w_all_scores_mapped1235_w_view_locations_w_coronal_slice4.csv')\n",
    "def to_str(x):\n",
    "    if type(x) is not str:\n",
    "        return str(x)\n",
    "    else:\n",
    "        return x\n",
    "df['dxa_acc'] = df['dxa_acc'].apply(to_str)\n",
    "#df = pd.read_csv('../bucket/Amara/Osteo/CT_ABD_PELVIS_w_all_scores_mapped12_w_view_locations.xlsx')\n",
    "# print('data frame read', len(df))\n",
    "# print(len(df))\n",
    "# df = df.dropna(subset=['Original DICOM file location-Transverse', 'Original DICOM file location-Coronal', 'TOTAL_SPINE_TSCORE', 'L3_slice'], how='any')\n",
    "print('data frame after filtering:', len(df))"
   ]
  },
  {
   "cell_type": "code",
   "execution_count": 228,
   "id": "0466262f",
   "metadata": {},
   "outputs": [
    {
     "data": {
      "text/plain": [
       "(5109, str, 5109)"
      ]
     },
     "execution_count": 228,
     "metadata": {},
     "output_type": "execute_result"
    }
   ],
   "source": [
    "len([i for i in meta.AccessionNumber.values if type(i)==str]), type(meta.AccessionNumber.values[i]), len(meta)"
   ]
  },
  {
   "cell_type": "code",
   "execution_count": 229,
   "id": "16347ec3",
   "metadata": {},
   "outputs": [
    {
     "name": "stdout",
     "output_type": "stream",
     "text": [
      "0 0\n",
      "100 0\n",
      "200 0\n",
      "300 0\n",
      "400 0\n",
      "500 0\n",
      "600 0\n",
      "700 0\n",
      "800 0\n",
      "900 0\n",
      "1000 13\n",
      "1100 28\n",
      "1200 31\n",
      "1300 31\n",
      "1400 31\n",
      "1500 32\n",
      "1600 32\n",
      "1700 34\n",
      "1800 55\n",
      "1900 61\n",
      "2000 64\n",
      "2100 66\n",
      "2200 66\n",
      "2300 66\n",
      "2400 92\n",
      "2500 192\n",
      "2600 292\n",
      "2700 392\n",
      "2800 492\n",
      "2900 592\n",
      "3000 692\n",
      "3100 792\n",
      "3200 892\n",
      "3300 992\n",
      "3400 1092\n",
      "3500 1192\n",
      "3600 1292\n",
      "3700 1382\n",
      "3800 1405\n",
      "3900 1429\n"
     ]
    }
   ],
   "source": [
    "good = 0\n",
    "for i,j in df.iterrows():\n",
    "    acc = df.at[i,'dxa_acc']\n",
    "    temp = meta.loc[meta.AccessionNumber==acc]\n",
    "    if len(temp)>0:\n",
    "        df.at[i, 'DXA_Manufacturer'] = temp.at[temp.index[0], 'Manufacturer']\n",
    "        good+=1\n",
    "    if i%100==0:\n",
    "        print(i, good)"
   ]
  },
  {
   "cell_type": "code",
   "execution_count": 230,
   "id": "d68464c4",
   "metadata": {},
   "outputs": [],
   "source": [
    "df.to_csv('../bucket/Amara/Osteo/CT_ABD_PELVIS_w_all_scores_mapped12356_w_view_locations_w_L3_and_coronal_slice_patient_manufacturer_info_cohort_only_histogram_cross_section_pixelspacing_dxa_manufacturer.csv')"
   ]
  },
  {
   "cell_type": "code",
   "execution_count": 12,
   "id": "0bc00c21",
   "metadata": {},
   "outputs": [
    {
     "data": {
      "text/plain": [
       "(2105,\n",
       " GE Healthcare    3491\n",
       " TBS               572\n",
       " HOLOGIC           541\n",
       " Lexmark           215\n",
       " Hyland             82\n",
       " Visage PR          67\n",
       " Flux Inc.          24\n",
       " PACSGEAR            4\n",
       " Name: Manufacturer, dtype: int64,\n",
       " Lunar iDXA                3165\n",
       " Horizon A (S/N301626M)     241\n",
       " Horizon A (S/N301676M)     225\n",
       " Lunar Prodigy              166\n",
       " Lunar Prodigy Advance      163\n",
       " PACSGEAR Core Server       151\n",
       " Discovery C (S/N83759)      50\n",
       " PacsSCAN                    41\n",
       " Dicom Printer 2             24\n",
       " Discovery W (S/N80194)       8\n",
       " Discovery A (S/N80344)       8\n",
       " Lunar DPX                    8\n",
       " Delphi C (S/N 70449)         7\n",
       " Discovery A (S/N85115)       2\n",
       " Name: ManufacturerModelName, dtype: int64,\n",
       " 210440                                  1221\n",
       " 200628                                   841\n",
       " 200062                                   800\n",
       " 200555                                   404\n",
       " 200554                                   352\n",
       " 301626M                                  241\n",
       " 301676M                                  225\n",
       " 300224                                    85\n",
       " 200318                                    78\n",
       " 500385                                    54\n",
       " 83759                                     50\n",
       " 310154                                    41\n",
       " 500375                                    39\n",
       " 210115                                    28\n",
       " 500378                                    25\n",
       " 42961111-CBCD-3A56-8596-759FCAAAA1EB      23\n",
       " 212431                                    22\n",
       " 510178                                    22\n",
       " 42054                                     19\n",
       " 510403                                     8\n",
       " 80344                                      8\n",
       " 91237                                      8\n",
       " 80194                                      8\n",
       " 301637                                     7\n",
       " 70449                                      7\n",
       " 15799                                      6\n",
       " 510692                                     3\n",
       " 85115                                      2\n",
       " 88E255A4-B0AE-3A18-E7F1-80D44222431A       1\n",
       " Name: DeviceSerialNumber, dtype: int64)"
      ]
     },
     "execution_count": 12,
     "metadata": {},
     "output_type": "execute_result"
    }
   ],
   "source": [
    "#len(df.AccessionNumber.unique()), df.Manufacturer.value_counts(), df.ManufacturerModelName.value_counts(), df.DeviceSerialNumber.value_counts()"
   ]
  },
  {
   "cell_type": "markdown",
   "id": "137e5ab6",
   "metadata": {},
   "source": [
    "### Random Sample from Coronal Slice"
   ]
  },
  {
   "cell_type": "code",
   "execution_count": 187,
   "id": "e2aace07",
   "metadata": {},
   "outputs": [
    {
     "data": {
      "text/plain": [
       "Index(['ImagePositionPatient', 'PatientPosition', 'PatientOrientation',\n",
       "       '-1024_1500', '1500_2500', '2500_5000', 'Width', 'Depth',\n",
       "       'coronal_slice', 'CorssSection', 'CrossSection',\n",
       "       'PixelSpacing_Transverse', 'PixelSpacing_Coronal',\n",
       "       'PixelSpacing_Sagittal', 'PixelSpacing_Transverse_0',\n",
       "       'PixelSpacing_Transverse_1', 'WidthSpacing', 'DepathSpacing',\n",
       "       'DepthSpacing', 'CrossSectionSpacing'],\n",
       "      dtype='object')"
      ]
     },
     "execution_count": 187,
     "metadata": {},
     "output_type": "execute_result"
    }
   ],
   "source": [
    "df.columns[-20:]"
   ]
  },
  {
   "cell_type": "code",
   "execution_count": 237,
   "id": "49c35934",
   "metadata": {},
   "outputs": [
    {
     "name": "stderr",
     "output_type": "stream",
     "text": [
      "/opt/conda/lib/python3.7/site-packages/IPython/core/interactiveshell.py:3170: DtypeWarning: Columns (17) have mixed types.Specify dtype option on import or set low_memory=False.\n",
      "  interactivity=interactivity, compiler=compiler, result=result)\n",
      "/opt/conda/lib/python3.7/site-packages/torchvision/transforms/transforms.py:285: UserWarning: The use of the transforms.Scale transform is deprecated, please use transforms.Resize instead.\n",
      "  warnings.warn(\"The use of the transforms.Scale transform is deprecated, \" +\n"
     ]
    },
    {
     "name": "stdout",
     "output_type": "stream",
     "text": [
      "data frame read 3979\n",
      "3979\n",
      "data frame after filtering: 3979\n",
      "2513\n",
      "623\n",
      "2146\n",
      "3600\n",
      "3739\n",
      "2046\n",
      "2199\n",
      "2466\n",
      "3628\n",
      "2287\n",
      "143\n",
      "672\n",
      "3077\n",
      "3667\n",
      "1380\n",
      "2477\n",
      "2846\n",
      "2206\n",
      "3122\n",
      "507\n"
     ]
    },
    {
     "data": {
      "image/png": "[encoded data removed]",
      "text/plain": [
       "<Figure size 1152x576 with 20 Axes>"
      ]
     },
     "metadata": {
      "needs_background": "light"
     },
     "output_type": "display_data"
    }
   ],
   "source": [
    "import torch\n",
    "from torch.utils.data import Dataset, DataLoader\n",
    "import torch.optim as optim\n",
    "import torchvision\n",
    "import torchvision.transforms as transforms\n",
    "import torchvision.models as models\n",
    "from torchvision.utils import make_grid\n",
    "from torch.autograd import Variable\n",
    "\n",
    "df = pd.read_csv('../bucket/Amara/Osteo/CT_ABD_PELVIS_w_all_scores_mapped12356_w_view_locations_w_L3_and_coronal_slice_patient_manufacturer_info_cohort_only_histogram_cross_section_pixelspacing.csv')#('../bucket/Amara/Osteo/CT_ABD_PELVIS_w_all_scores_mapped1235_w_view_locations_w_coronal_slice4.csv')\n",
    "#df = pd.read_csv('../bucket/Amara/Osteo/CT_ABD_PELVIS_w_all_scores_mapped12_w_view_locations.xlsx')\n",
    "print('data frame read', len(df))\n",
    "print(len(df))\n",
    "df = df.dropna(subset=['Original DICOM file location-Transverse', 'Original DICOM file location-Coronal', 'TOTAL_SPINE_TSCORE', 'L3_slice'], how='any')\n",
    "print('data frame after filtering:', len(df))\n",
    "\n",
    "\n",
    "def image_loader( image_name):\n",
    "    trans = transforms.Compose([ transforms.Scale((256,256)), transforms.CenterCrop(256), transforms.ToTensor()])#,  transforms.Normalize(mean=[0.485, 0.456, 0.406],std=[0.229, 0.224, 0.225])])\n",
    "\n",
    "\n",
    "    a = np.load(image_name)\n",
    "    a = a.astype(float)\n",
    "    a = vol_window(a, 500, 1500)\n",
    "    a = (a-np.min(a))/(np.max(a)-np.min(a))\n",
    "    a = 255.0*a[:,:512]\n",
    "    image = Image.fromarray(np.uint8(a)).convert('RGB')\n",
    "\n",
    "    image = trans(image).float()\n",
    "    image = Variable(image, requires_grad=True)\n",
    "    #image = image.unsqueeze(0)  #this is for VGG, may not be needed for ResNet\n",
    "    return image \n",
    "    \n",
    "header = '../bucket/Amara/Osteo/Coronal_Slices/'\n",
    "#idx = np.random.choice([i for i in range(len(df))], size=20, replace=True)\n",
    "f = plt.figure(figsize=(16,8))\n",
    "for ii in range(len(idx)):\n",
    "    i = df.index[idx[ii]]\n",
    "    CT_acc = df.at[i, 'CT_acc']\n",
    "    slice_number = int(df.at[i, 'coronal_slice'])\n",
    "    image_name = header+str(CT_acc)+'_'+str(slice_number)+'.npy' \n",
    "    a = image_loader(image_name)\n",
    "    ax1 = f.add_subplot(5,4,ii+1)\n",
    "    ax1.imshow(a.detach().numpy()[0,:,:], cmap='gray')\n",
    "    \n",
    "#     a = np.load(image_name)\n",
    "#     a = a.astype(float)\n",
    "#     a = vol_window(a, 500, 1500)\n",
    "#     a = (a-np.min(a))/(np.max(a)-np.min(a))\n",
    "#     ax1 = f.add_subplot(5,4,ii+1)\n",
    "#     ax1.imshow(a, cmap='gray')   \n",
    "    \n",
    "    print(i)\n",
    "\n",
    "\n",
    "# f = plt.figure(figsize=(16,8))\n",
    "# for ii in range(5, len(df)):\n",
    "    \n",
    "#     i = df.index[ii]\n",
    "#     CT_acc = df.at[i, 'CT_acc']\n",
    "#     slice_number = int(df.at[i, 'L3_slice'])\n",
    "\n",
    "#     header = '../bucket/Amara/Osteo/L3_Slices/'\n",
    "#     image_name = header+str(CT_acc)+'_'+str(slice_number)+'.npy'\n",
    "#     a = np.load(image_name)\n",
    "#     a = a.astype(float)\n",
    "\n",
    "#     a = vol_window(a, 500, 1500)\n",
    "#     a = (a-np.min(a))/(np.max(a)-np.min(a))\n",
    "#     a = 255.0*a\n",
    "#     mask = a.copy()\n",
    "#     mask[mask>0] = 255\n",
    "#     image = Image.fromarray(np.uint8(a)).convert('RGB')\n",
    "#     mask_image = Image.fromarray(np.uint8(mask)).convert('RGB')\n",
    "#     #plt.imshow(image)\n",
    "#     ax1 = f.add_subplot(1,4,1)\n",
    "#     ax1.imshow(image, cmap='gray')\n",
    "#     ax2 = f.add_subplot(1,4,2)\n",
    "#     ax2.imshow(mask_image, cmap='gray')\n",
    "    \n",
    "#     labels = skimage.measure.label(mask, return_num=False)\n",
    "\n",
    "#     maxCC_withbcg = labels == np.argmax(np.bincount(labels.flat))\n",
    "#     maxCC_nobcg = labels == np.argmax(np.bincount(labels.flat, weights=mask.flat))\n",
    "#     largest = maxCC_nobcg.copy()\n",
    "#     largest[largest==False] = 0\n",
    "#     largest[largest==True] = 1\n",
    "    \n",
    "#     ax3 = f.add_subplot(1,4,3)\n",
    "#     ax3.imshow(largest, cmap='gray')\n",
    "    \n",
    "#     largest_filled = ndimage.binary_fill_holes(largest).astype(int)\n",
    "    \n",
    "#     ax4 = f.add_subplot(1,4,4)\n",
    "#     ax4.imshow(largest_filled, cmap='gray')\n",
    "#     break"
   ]
  },
  {
   "cell_type": "markdown",
   "id": "89fed298",
   "metadata": {},
   "source": [
    "### Cohort Characteristics"
   ]
  },
  {
   "cell_type": "code",
   "execution_count": 12,
   "id": "d86928cc",
   "metadata": {},
   "outputs": [
    {
     "name": "stdout",
     "output_type": "stream",
     "text": [
      "6083\n",
      "6083\n",
      "0    3108\n",
      "1    2975\n",
      "Name: Label, dtype: int64\n",
      "6          2385\n",
      "7          1482\n",
      "5          1384\n",
      "8           555\n",
      "UNKNOWN     222\n",
      "9            55\n",
      "Name: PatientAge_mapped, dtype: int64\n",
      "1    2440\n",
      "0    2438\n",
      "Name: Label, dtype: int64\n",
      "0    670\n",
      "1    535\n",
      "Name: Label, dtype: int64\n"
     ]
    },
    {
     "name": "stderr",
     "output_type": "stream",
     "text": [
      "/opt/conda/lib/python3.7/site-packages/IPython/core/interactiveshell.py:3170: DtypeWarning: Columns (19,23) have mixed types.Specify dtype option on import or set low_memory=False.\n",
      "  interactivity=interactivity, compiler=compiler, result=result)\n"
     ]
    }
   ],
   "source": [
    "def labeling(x):\n",
    "    if x<=-1:\n",
    "        return 1\n",
    "    else:\n",
    "        return 0\n",
    "def age_mapping(x):\n",
    "    if type(x) is str and len(x)==4:\n",
    "        return x[1]\n",
    "    elif type(x) is str and len(x)==3:\n",
    "        return x[0]\n",
    "    else:\n",
    "        return 'UNKNOWN'\n",
    "\n",
    "#136.1302176492294, 462.9853871884079\n",
    "df = pd.read_csv('../bucket/Amara/Osteo/CT_ABD_PELVIS_w_all_scores_mapped1235678_w_view_locations_w_L3_and_coronal_slice_patient_manufacturer_info_cohort_only_histogram_cross_section_pixelspacing_w_orientation.csv')\n",
    "print(len(df))\n",
    "df = df.dropna(subset=['Original DICOM file location-Transverse', 'Original DICOM file location-Coronal', 'TOTAL_SPINE_TSCORE', 'L3_slice'], how='any')\n",
    "print(len(df))\n",
    "\n",
    "df['Label'] = df['TOTAL_SPINE_TSCORE'].apply(labeling)\n",
    "print(df['Label'].value_counts())\n",
    "\n",
    "df['PatientAge_mapped'] = df.PatientAge.apply(age_mapping)\n",
    "print(df['PatientAge_mapped'].value_counts())\n",
    "\n",
    "\n",
    "df['CrossSectionSpacing_binned'] = pd.cut(df['CrossSectionSpacing'].values, 10)\n",
    "\n",
    "a = df['CrossSectionSpacing'].values\n",
    "df['CrossSectionSpacing_norm'] = (a-np.min(a))/(np.max(a)-np.min(a))\n",
    "\n",
    "# dct = pkl.load(open('../bucket/Amara/Osteo/CT_acc_split_basic1235678.pkl', 'rb'))\n",
    "# acc_train = dct['CT_acc_train']\n",
    "# acc_test = dct['CT_acc_test']\n",
    "# acc_val = dct['CT_acc_val']\n",
    "\n",
    "# df_train = df.loc[df.CT_acc.isin(acc_train)]\n",
    "# df_test = df.loc[df.CT_acc.isin(acc_test)]\n",
    "# df_val = df.loc[df.CT_acc.isin(acc_val)]\n",
    "\n",
    "dct = pkl.load(open('../bucket/Amara/Osteo/mrn_split_basic1235678.pkl', 'rb'))\n",
    "mrn_train = dct['mrn_train']\n",
    "mrn_test = dct['mrn_test']\n",
    "mrn_val = dct['mrn_val']\n",
    "\n",
    "df_train = df.loc[(df.mrn.isin(mrn_train)) | (df.mrn.isin(mrn_val))]\n",
    "df_test = df.loc[df.mrn.isin(mrn_test)]\n",
    "#df_val = df.loc[df.mrn.isin(mrn_val)]\n",
    "\n",
    "print(df_train['Label'].value_counts())\n",
    "print(df_test['Label'].value_counts())\n",
    "#print(df_val['Label'].value_counts())\n",
    "\n",
    "labels_train = df_train.Label.values\n",
    "labels_test = df_test.Label.values\n",
    "#labels_val = df_val.Label.values"
   ]
  },
  {
   "cell_type": "code",
   "execution_count": 150,
   "id": "c45fd0cc",
   "metadata": {},
   "outputs": [
    {
     "data": {
      "text/plain": [
       "(True, True)"
      ]
     },
     "execution_count": 150,
     "metadata": {},
     "output_type": "execute_result"
    }
   ],
   "source": [
    "'PatientSex' in df.columns, 'PatientAge' in df.columns"
   ]
  },
  {
   "cell_type": "code",
   "execution_count": 172,
   "id": "8bcefc64",
   "metadata": {},
   "outputs": [
    {
     "name": "stderr",
     "output_type": "stream",
     "text": [
      "\n",
      "A value is trying to be set on a copy of a slice from a DataFrame.\n",
      "Try using .loc[row_indexer,col_indexer] = value instead\n",
      "\n",
      "See the caveats in the documentation: https://pandas.pydata.org/pandas-docs/stable/user_guide/indexing.html#returning-a-view-versus-a-copy\n"
     ]
    },
    {
     "data": {
      "text/plain": [
       "(66.92503586800574, 9.19355580956262)"
      ]
     },
     "execution_count": 172,
     "metadata": {},
     "output_type": "execute_result"
    }
   ],
   "source": [
    "def age(x):\n",
    "    if type(x) is str:\n",
    "        return int(x[:-1])\n",
    "    else:\n",
    "        return x\n",
    "dfu = df.drop_duplicates(subset=['mrn'])\n",
    "len(dfu), dfu.PatientSex.value_counts()\n",
    "dfu['PatientAgeNumeric'] = dfu.PatientAge.apply(age)\n",
    "dfu.loc[dfu.PatientSex=='F']['PatientAgeNumeric'].mean(), dfu.loc[dfu.PatientSex=='F']['PatientAgeNumeric'].std()"
   ]
  },
  {
   "cell_type": "code",
   "execution_count": 177,
   "id": "f856f574",
   "metadata": {},
   "outputs": [
    {
     "name": "stdout",
     "output_type": "stream",
     "text": [
      "881 F    579\n",
      "M    302\n",
      "Name: PatientSex, dtype: int64\n"
     ]
    },
    {
     "name": "stderr",
     "output_type": "stream",
     "text": [
      "\n",
      "A value is trying to be set on a copy of a slice from a DataFrame.\n",
      "Try using .loc[row_indexer,col_indexer] = value instead\n",
      "\n",
      "See the caveats in the documentation: https://pandas.pydata.org/pandas-docs/stable/user_guide/indexing.html#returning-a-view-versus-a-copy\n"
     ]
    },
    {
     "data": {
      "text/plain": [
       "(67.03271028037383,\n",
       " 9.531424426241724,\n",
       " 67.23367697594502,\n",
       " 9.096060148565977,\n",
       " 66.929203539823,\n",
       " 9.754356013800136)"
      ]
     },
     "execution_count": 177,
     "metadata": {},
     "output_type": "execute_result"
    }
   ],
   "source": [
    "def age(x):\n",
    "    if type(x) is str:\n",
    "        return int(x[:-1])\n",
    "    else:\n",
    "        return x\n",
    "dfu = df_test.drop_duplicates(subset=['mrn'])\n",
    "print(len(dfu), dfu.PatientSex.value_counts())\n",
    "dfu['PatientAgeNumeric'] = dfu.PatientAge.apply(age)\n",
    "dfu['PatientAgeNumeric'].mean(), dfu['PatientAgeNumeric'].std(), dfu.loc[dfu.PatientSex=='M']['PatientAgeNumeric'].mean(), dfu.loc[dfu.PatientSex=='M']['PatientAgeNumeric'].std(), dfu.loc[dfu.PatientSex=='F']['PatientAgeNumeric'].mean(), dfu.loc[dfu.PatientSex=='F']['PatientAgeNumeric'].std()"
   ]
  },
  {
   "cell_type": "code",
   "execution_count": 210,
   "id": "9c955370",
   "metadata": {},
   "outputs": [
    {
     "data": {
      "text/plain": [
       "['Medium', 'Medium', 'High', 'Medium', 'Low', ..., 'High', 'Medium', 'Low', 'High', 'High']\n",
       "Length: 881\n",
       "Categories (3, object): ['Low' < 'Medium' < 'High']"
      ]
     },
     "execution_count": 210,
     "metadata": {},
     "output_type": "execute_result"
    }
   ],
   "source": [
    "dfu.CrossSectionSpacing_binned.values"
   ]
  },
  {
   "cell_type": "code",
   "execution_count": 214,
   "id": "c3c54707",
   "metadata": {},
   "outputs": [
    {
     "name": "stdout",
     "output_type": "stream",
     "text": [
      "301.9486243657239 47.47001923574889\n",
      "Medium    3100\n",
      "High       696\n",
      "Low        610\n",
      "Name: CrossSectionSpacing_binned, dtype: int64\n"
     ]
    },
    {
     "name": "stderr",
     "output_type": "stream",
     "text": [
      "\n",
      "A value is trying to be set on a copy of a slice from a DataFrame.\n",
      "Try using .loc[row_indexer,col_indexer] = value instead\n",
      "\n",
      "See the caveats in the documentation: https://pandas.pydata.org/pandas-docs/stable/user_guide/indexing.html#returning-a-view-versus-a-copy\n",
      "\n",
      "A value is trying to be set on a copy of a slice from a DataFrame.\n",
      "Try using .loc[row_indexer,col_indexer] = value instead\n",
      "\n",
      "See the caveats in the documentation: https://pandas.pydata.org/pandas-docs/stable/user_guide/indexing.html#returning-a-view-versus-a-copy\n"
     ]
    }
   ],
   "source": [
    "dfu = df.drop_duplicates(subset=['mrn'])\n",
    "print(dfu['CrossSectionSpacing'].values.mean(), dfu['CrossSectionSpacing'].values.std())\n",
    "bins = [0, 250, 350, 1000]\n",
    "dfu['CrossSectionSpacing_binned'] = dfu['CrossSectionSpacing'].copy()\n",
    "dfu['CrossSectionSpacing_binned'] = pd.cut(dfu['CrossSectionSpacing_binned'], bins, labels = ['Low', 'Medium', 'High'])\n",
    "dfu.loc[(dfu['CrossSectionSpacing_binned']=='Low'), 'CrossSectionSpacing'] = 'Low'\n",
    "dfu.loc[(dfu['CrossSectionSpacing_binned']=='Medium'), 'CrossSectionSpacing'] = 'Medium'\n",
    "dfu.loc[(dfu['CrossSectionSpacing_binned']=='High'), 'CrossSectionSpacing'] = 'High'\n",
    "print(dfu['CrossSectionSpacing_binned'].value_counts())\n"
   ]
  },
  {
   "cell_type": "code",
   "execution_count": 236,
   "id": "6a8f8e74",
   "metadata": {},
   "outputs": [
    {
     "data": {
      "text/plain": [
       "(6081,\n",
       " 6083,\n",
       " Index(['PATIENT_DK', 'PATIENT_CLINIC_NUMBER', 'PATIENT_BIRTH_DATE',\n",
       "        'PATIENT_PRIMARY_GEO_CODE', 'PATIENT_GENDER_NAME', 'PATIENT_RACE_NAME',\n",
       "        'PATIENT_ETHNICITY_NAME', 'PATIENT_DEATH_DATE',\n",
       "        'PATIENT_MARITAL_STATUS_NAME', 'PATIENT_PRIMARY_CITY'],\n",
       "       dtype='object'))"
      ]
     },
     "execution_count": 236,
     "metadata": {},
     "output_type": "execute_result"
    }
   ],
   "source": [
    "df_demo = pd.read_excel('../bucket/Amara/Osteo/EDTWH_DIM_PATIENT4.xlsx')\n",
    "len(df.loc[df.mrn.isin(df_demo.PATIENT_CLINIC_NUMBER.values)]), len(df), df_demo.columns"
   ]
  },
  {
   "cell_type": "code",
   "execution_count": 253,
   "id": "bd5481cf",
   "metadata": {},
   "outputs": [],
   "source": [
    "###'PATIENT_ETHNICITY_NAME'\n",
    "dfu = df_demo.loc[df_demo.PATIENT_CLINIC_NUMBER.isin(df_test.mrn.values)]"
   ]
  },
  {
   "cell_type": "code",
   "execution_count": 254,
   "id": "f5adc707",
   "metadata": {},
   "outputs": [
    {
     "name": "stdout",
     "output_type": "stream",
     "text": [
      "white 0.9103291713961408\n",
      "black 0.032917139614074914\n",
      "asian 0.021566401816118047\n",
      "Alaskan 0.00681044267877412\n",
      "Hawaiian 0.0011350737797956867\n"
     ]
    },
    {
     "name": "stderr",
     "output_type": "stream",
     "text": [
      "\n",
      "A value is trying to be set on a copy of a slice from a DataFrame.\n",
      "Try using .loc[row_indexer,col_indexer] = value instead\n",
      "\n",
      "See the caveats in the documentation: https://pandas.pydata.org/pandas-docs/stable/user_guide/indexing.html#returning-a-view-versus-a-copy\n"
     ]
    }
   ],
   "source": [
    "dfu['PATIENT_RACE_NAME'] = dfu['PATIENT_RACE_NAME'].fillna('Unknown')\n",
    "print('white', len(dfu.loc[dfu.PATIENT_RACE_NAME.str.contains('White')])/len(dfu))\n",
    "print('black', len(dfu.loc[(dfu.PATIENT_RACE_NAME.str.contains('African')) | (dfu.PATIENT_RACE_NAME.str.contains('Black'))])/len(dfu))\n",
    "print('asian', len(dfu.loc[dfu.PATIENT_RACE_NAME.str.contains('Asian')])/len(dfu))\n",
    "print('Alaskan', len(dfu.loc[dfu.PATIENT_RACE_NAME.str.contains('Alaskan')])/len(dfu))\n",
    "print('Hawaiian', len(dfu.loc[(dfu.PATIENT_RACE_NAME.str.contains('Hawaiian')) | (dfu.PATIENT_RACE_NAME.str.contains('Samoan')) | dfu.PATIENT_RACE_NAME.str.contains('Guamanian or Chamorro')])/len(dfu))"
   ]
  },
  {
   "cell_type": "code",
   "execution_count": 258,
   "id": "5daec8d7",
   "metadata": {},
   "outputs": [
    {
     "data": {
      "text/plain": [
       "(-0.7914680256452409, 1.7067112399887954)"
      ]
     },
     "execution_count": 258,
     "metadata": {},
     "output_type": "execute_result"
    }
   ],
   "source": [
    "### T-score\n",
    "dfu = df.copy()\n",
    "dfu.TOTAL_SPINE_TSCORE.values.mean(), dfu.TOTAL_SPINE_TSCORE.values.std()"
   ]
  },
  {
   "cell_type": "code",
   "execution_count": 11,
   "id": "6f4162d8",
   "metadata": {},
   "outputs": [
    {
     "data": {
      "text/plain": [
       "Index(['Unnamed: 0', 'Unnamed: 0.1', 'Unnamed: 0.1.1', 'Unnamed: 0.1.1.1',\n",
       "       'Unnamed: 0.1.1.1.1', 'Unnamed: 0.1.1.1.1.1', 'Unnamed: 0.1.1.1.1.1.1',\n",
       "       'Unnamed: 0.1.1.1.1.1.1.1', 'Unnamed: 0.1.1.1.1.1.1.1.1', 'mrn',\n",
       "       ...\n",
       "       'PatientSex', 'PatientSize', 'PatientWeight', 'ImageOrientationPatient',\n",
       "       'ImagePositionPatient', 'PatientPosition', 'PatientOrientation',\n",
       "       '-1024_1500', '1500_2500', '2500_5000'],\n",
       "      dtype='object', length=302)"
      ]
     },
     "execution_count": 11,
     "metadata": {},
     "output_type": "execute_result"
    }
   ],
   "source": [
    "df.columns"
   ]
  },
  {
   "cell_type": "code",
   "execution_count": 15,
   "id": "1f11d210",
   "metadata": {},
   "outputs": [
    {
     "name": "stdout",
     "output_type": "stream",
     "text": [
      "MN\n",
      "1157 911 246\n",
      "FL\n",
      "850 643 207\n",
      "AZ\n",
      "967 776 191\n",
      "MCHS\n",
      "278 218 60\n"
     ]
    }
   ],
   "source": [
    "sites = ['MN', 'FL', 'AZ', 'MCHS']\n",
    "for s in sites:\n",
    "    print(s)\n",
    "    print(len(df.loc[(df.facility==s)&(df.TOTAL_SPINE_TSCORE>=-1)]), len(df_train.loc[(df_train.facility==s)&(df_train.TOTAL_SPINE_TSCORE>=-1)]),len(df_test.loc[(df_test.facility==s)&(df_test.TOTAL_SPINE_TSCORE>=-1)]))"
   ]
  },
  {
   "cell_type": "code",
   "execution_count": 14,
   "id": "65d0e092",
   "metadata": {},
   "outputs": [
    {
     "name": "stdout",
     "output_type": "stream",
     "text": [
      "MN\n",
      "1251 1042 209\n",
      "FL\n",
      "623 520 103\n",
      "AZ\n",
      "760 602 158\n",
      "MCHS\n",
      "197 166 31\n"
     ]
    }
   ],
   "source": [
    "sites = ['MN', 'FL', 'AZ', 'MCHS']\n",
    "for s in sites:\n",
    "    print(s)\n",
    "    print(len(df.loc[(df.facility==s)&(df.TOTAL_SPINE_TSCORE<-1)]), len(df_train.loc[(df_train.facility==s)&(df_train.TOTAL_SPINE_TSCORE<-1)]),len(df_test.loc[(df_test.facility==s)&(df_test.TOTAL_SPINE_TSCORE<-1)]))"
   ]
  },
  {
   "cell_type": "code",
   "execution_count": 18,
   "id": "d3673508",
   "metadata": {},
   "outputs": [
    {
     "data": {
      "text/plain": [
       "MN      455\n",
       "AZ      349\n",
       "FL      310\n",
       "MCHS     91\n",
       "Name: facility, dtype: int64"
      ]
     },
     "execution_count": 18,
     "metadata": {},
     "output_type": "execute_result"
    }
   ],
   "source": [
    "df_test.facility.value_counts()"
   ]
  },
  {
   "cell_type": "markdown",
   "id": "c20d76d2",
   "metadata": {},
   "source": [
    "### compute mean, std"
   ]
  },
  {
   "cell_type": "code",
   "execution_count": 273,
   "id": "c188cd7b",
   "metadata": {},
   "outputs": [
    {
     "name": "stdout",
     "output_type": "stream",
     "text": [
      "6083\n",
      "6083\n"
     ]
    },
    {
     "name": "stderr",
     "output_type": "stream",
     "text": [
      "Columns (29,33) have mixed types.Specify dtype option on import or set low_memory=False.\n"
     ]
    }
   ],
   "source": [
    "df = pd.read_csv('../bucket/Amara/Osteo/CT_ABD_PELVIS_w_all_scores_mapped1235678_w_view_locations_w_L3_and_coronal_slice_patient_manufacturer_info_cohort_only_histogram_cross_section_pixelspacing_w_orientation.csv')\n",
    "print(len(df))\n",
    "df = df.dropna(subset=['Original DICOM file location-Transverse', 'Original DICOM file location-Coronal', 'TOTAL_SPINE_TSCORE', 'L3_slice'], how='any')\n",
    "print(len(df))\n",
    "\n",
    "\n",
    "dct = pkl.load(open('../bucket/Amara/Osteo/mrn_split_basic1235678.pkl', 'rb'))\n",
    "mrn_train = dct['mrn_train']\n",
    "mrn_test = dct['mrn_test']\n",
    "mrn_val = dct['mrn_val']\n",
    "\n",
    "df_train = df.loc[df.mrn.isin(mrn_train)]\n",
    "df_test = df.loc[df.mrn.isin(mrn_test)]\n",
    "df_val = df.loc[df.mrn.isin(mrn_val)]\n"
   ]
  },
  {
   "cell_type": "code",
   "execution_count": 280,
   "id": "6e146212",
   "metadata": {},
   "outputs": [
    {
     "name": "stdout",
     "output_type": "stream",
     "text": [
      "(512, 512)\n",
      "100\n",
      "200\n",
      "400\n",
      "500\n",
      "700\n",
      "900\n",
      "1000\n",
      "1200\n",
      "1400\n",
      "1500\n",
      "1600\n",
      "1700\n",
      "1800\n",
      "1900\n",
      "2000\n",
      "2200\n",
      "2300\n",
      "2400\n",
      "2500\n",
      "2700\n",
      "2800\n",
      "2900\n",
      "3400\n",
      "3500\n",
      "3800\n",
      "3900\n",
      "4000\n",
      "4100\n",
      "4200\n",
      "4300\n",
      "4400\n",
      "4500\n",
      "4600\n",
      "4700\n",
      "4800\n",
      "4900\n",
      "5000\n",
      "5100\n",
      "5300\n",
      "5400\n",
      "5500\n",
      "5600\n",
      "5700\n",
      "5900\n",
      "6000\n"
     ]
    }
   ],
   "source": [
    "header = '../bucket/Amara/Osteo/L3_Slices/'\n",
    "c = np.zeros((512,512))\n",
    "print(c.shape)\n",
    "for i,j in df_train.iterrows():\n",
    "    CT_acc = df_train.at[i, 'CT_acc']\n",
    "    slice_number = int(df_train.at[i, 'L3_slice'])\n",
    "    image_name = header+str(CT_acc)+'_'+str(slice_number)+'.npy'\n",
    "    a = np.load(image_name)\n",
    "    a = a.astype(float)\n",
    "    a = vol_window(a, 500, 1500)\n",
    "    a = (a-np.min(a))/(np.max(a)-np.min(a))\n",
    "    a = 255.0*a\n",
    "    c = c+a\n",
    "\n",
    "\n",
    "    if i%100==0:\n",
    "        print(i)\n"
   ]
  },
  {
   "cell_type": "code",
   "execution_count": 286,
   "id": "85ec2f52",
   "metadata": {},
   "outputs": [
    {
     "data": {
      "text/plain": [
       "(28.498339021987825, 13.988646417937609)"
      ]
     },
     "execution_count": 286,
     "metadata": {},
     "output_type": "execute_result"
    }
   ],
   "source": [
    "d = c/6083\n",
    "d.mean(), d.std()\n"
   ]
  },
  {
   "cell_type": "code",
   "execution_count": 287,
   "id": "32037d0a",
   "metadata": {},
   "outputs": [
    {
     "data": {
      "text/plain": [
       "<matplotlib.image.AxesImage at 0x7f6ef021f310>"
      ]
     },
     "execution_count": 287,
     "metadata": {},
     "output_type": "execute_result"
    },
    {
     "data": {
      "image/png": "[encoded data removed]",
      "text/plain": [
       "<Figure size 432x288 with 1 Axes>"
      ]
     },
     "metadata": {
      "needs_background": "light"
     },
     "output_type": "display_data"
    }
   ],
   "source": [
    "plt.imshow(d, cmap='gray')"
   ]
  },
  {
   "cell_type": "code",
   "execution_count": 271,
   "id": "22a98639",
   "metadata": {},
   "outputs": [
    {
     "data": {
      "text/plain": [
       "Index(['Unnamed: 0', 'Unnamed: 0.1', 'Unnamed: 0.1.1', 'Unnamed: 0.1.1.1',\n",
       "       'Unnamed: 0.1.1.1.1', 'Unnamed: 0.1.1.1.1.1', 'Unnamed: 0.1.1.1.1.1.1',\n",
       "       'Unnamed: 0.1.1.1.1.1.1.1', 'Unnamed: 0.1.1.1.1.1.1.1.1',\n",
       "       'Unnamed: 0.1.1.1.1.1.1.1.1.1',\n",
       "       ...\n",
       "       'CrossSection', 'PixelSpacing_Transverse', 'PixelSpacing_Coronal',\n",
       "       'PixelSpacing_Sagittal', 'PixelSpacing_Transverse_0',\n",
       "       'PixelSpacing_Transverse_1', 'WidthSpacing', 'DepathSpacing',\n",
       "       'DepthSpacing', 'CrossSectionSpacing'],\n",
       "      dtype='object', length=324)"
      ]
     },
     "execution_count": 271,
     "metadata": {},
     "output_type": "execute_result"
    }
   ],
   "source": [
    "df_train.columns"
   ]
  },
  {
   "cell_type": "code",
   "execution_count": 282,
   "id": "c6ddbea6",
   "metadata": {},
   "outputs": [
    {
     "name": "stdout",
     "output_type": "stream",
     "text": [
      "(512, 512)\n",
      "100\n",
      "200\n",
      "400\n",
      "500\n",
      "700\n",
      "900\n",
      "1000\n",
      "1200\n",
      "1400\n",
      "1500\n",
      "1600\n",
      "1700\n",
      "1800\n",
      "1900\n",
      "2000\n",
      "2200\n",
      "2300\n",
      "2400\n",
      "2500\n",
      "2700\n",
      "2800\n",
      "2900\n",
      "3400\n",
      "3500\n",
      "3800\n",
      "3900\n",
      "4000\n",
      "4100\n",
      "4200\n",
      "4300\n",
      "4400\n",
      "4500\n",
      "4600\n",
      "4700\n",
      "4800\n",
      "4900\n",
      "5000\n",
      "5100\n",
      "5300\n",
      "5400\n",
      "5500\n",
      "5600\n",
      "5700\n",
      "5900\n",
      "6000\n"
     ]
    }
   ],
   "source": [
    "header = '../bucket/Amara/Osteo/Coronal_Slices_detected/'\n",
    "c = np.zeros((512,512))\n",
    "print(c.shape)\n",
    "for i,j in df_train.iterrows():\n",
    "    CT_acc = df_train.at[i, 'CT_acc']\n",
    "    slice_number = int(df_train.at[i, 'coronal_slice_detected'])#'L3_slice'])\n",
    "    image_name = header+str(CT_acc)+'_'+str(slice_number)+'.npy'\n",
    "    a = np.load(image_name)\n",
    "    a = a.astype(float)\n",
    "    a = vol_window(a, 500, 1500)\n",
    "    a = (a-np.min(a))/(np.max(a)-np.min(a))\n",
    "    a = 255.0*a\n",
    "    #print(a.shape)\n",
    "    image = Image.fromarray(np.uint8(a))\n",
    "    image = image.resize((512,512))\n",
    "    \n",
    "    a = np.array(image)\n",
    "\n",
    "    c = c+a\n",
    "\n",
    "    if i%100==0:\n",
    "        print(i)"
   ]
  },
  {
   "cell_type": "code",
   "execution_count": 243,
   "id": "2945e310",
   "metadata": {},
   "outputs": [
    {
     "name": "stdout",
     "output_type": "stream",
     "text": [
      "0.06168767955977297 (512, 512) 3.814697265625e-06 (512, 512, 3)\n"
     ]
    },
    {
     "data": {
      "text/plain": [
       "<matplotlib.image.AxesImage at 0x7f6e97c665d0>"
      ]
     },
     "execution_count": 243,
     "metadata": {},
     "output_type": "execute_result"
    },
    {
     "data": {
      "image/png": "[encoded data removed]",
      "text/plain": [
       "<Figure size 432x288 with 1 Axes>"
      ]
     },
     "metadata": {
      "needs_background": "light"
     },
     "output_type": "display_data"
    }
   ],
   "source": [
    "print(a.mean(), a.shape, b.mean(), b.shape)\n",
    "plt.imshow(b, cmap='gray')"
   ]
  }
 ],
 "metadata": {
  "environment": {
   "name": "pytorch-gpu.1-8.m71",
   "type": "gcloud",
   "uri": "gcr.io/deeplearning-platform-release/pytorch-gpu.1-8:m71"
  },
  "kernelspec": {
   "display_name": "Python 3",
   "language": "python",
   "name": "python3"
  },
  "language_info": {
   "codemirror_mode": {
    "name": "ipython",
    "version": 3
   },
   "file_extension": ".py",
   "mimetype": "text/x-python",
   "name": "python",
   "nbconvert_exporter": "python",
   "pygments_lexer": "ipython3",
   "version": "3.7.10"
  }
 },
 "nbformat": 4,
 "nbformat_minor": 5
}
