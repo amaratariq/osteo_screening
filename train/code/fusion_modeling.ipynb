{
 "cells": [
  {
   "cell_type": "code",
   "execution_count": 172,
   "id": "0c59c9cd",
   "metadata": {},
   "outputs": [],
   "source": [
    "import numpy as np\n",
    "import pandas as pd\n",
    "import sys\n",
    "import pickle as pkl\n",
    "\n",
    "import pandas as pd\n",
    "import pickle as pkl\n",
    "import sys\n",
    "\n",
    "from sklearn.preprocessing import OneHotEncoder\n",
    "from sklearn.linear_model import LogisticRegression\n",
    "from sklearn.ensemble import RandomForestClassifier\n",
    "from sklearn.naive_bayes import GaussianNB\n",
    "from sklearn.metrics import classification_report, roc_auc_score, confusion_matrix\n",
    "from sklearn.model_selection import GridSearchCV\n",
    "\n",
    "import numpy as np\n",
    "import os\n",
    "from matplotlib import pyplot as plt\n",
    "\n",
    "from scipy.special import expit as sigmoid\n",
    "from PIL import Image\n",
    "\n",
    "header_data = '../data/'"
   ]
  },
  {
   "cell_type": "markdown",
   "id": "ba37c3ec",
   "metadata": {},
   "source": [
    "### Late Fusion - Axial+Coronal+EHR"
   ]
  },
  {
   "cell_type": "code",
   "execution_count": null,
   "id": "6e17eb23",
   "metadata": {},
   "outputs": [],
   "source": [
    "df = pd.read_csv(os.path.join(header_data, 'data_w_ehr_info.csv'))\n",
    "print(len(df))\n",
    "def labeling(x):\n",
    "    if x<=-1:\n",
    "        return 1\n",
    "    else:\n",
    "        return 0\n",
    "    \n",
    "df['Label'] = df['TOTAL_SPINE_TSCORE'].apply(labeling)\n",
    "print(df['Label'].value_counts())\n",
    "\n",
    "df['PatientAge_mapped'] = df.PatientAge.apply(age_mapping)\n",
    "print(df['PatientAge_mapped'].value_counts())\n",
    "\n",
    "\n",
    "dct = pkl.load(open('../bucket/Amara/Osteo/mrn_split_basic1235678.pkl', 'rb'))\n",
    "mrn_train = dct['mrn_train']\n",
    "mrn_test = dct['mrn_test']\n",
    "mrn_val = dct['mrn_val']\n",
    "\n",
    "df_train = df.loc[df.mrn.isin(mrn_train)]\n",
    "df_test = df.loc[df.mrn.isin(mrn_test)]\n",
    "df_val = df.loc[df.mrn.isin(mrn_val)]"
   ]
  },
  {
   "cell_type": "code",
   "execution_count": 195,
   "id": "e3eca8af",
   "metadata": {},
   "outputs": [
    {
     "name": "stdout",
     "output_type": "stream",
     "text": [
      "(4408, 6) 4408 (1205, 6) 1205\n"
     ]
    }
   ],
   "source": [
    "## Training\n",
    "\n",
    "dct_axial = pkl.load(open('Model/Axial/train/train-01/train_predictions.pkl', 'rb'))\n",
    "dct_coronal = pkl.load(open('Model/Coronal/train/train-01/train_predictions.pkl', 'rb'))\n",
    "dct_baseline = pkl.load(open('Models/EHR/train_predictions.pkl', 'rb'))\n",
    "dct_axial['probs'] = np.array(dct_axial['probs'])\n",
    "dct_coronal['probs'] = np.array(dct_coronal['probs'])\n",
    "\n",
    "mat = np.array([\n",
    "                (dct_coronal['probs']), 1-(dct_coronal['probs']),(dct_axial['probs']), 1-(dct_axial['probs']), \n",
    "               sigmoid(dct_baseline['probs'][:,1]), 1-sigmoid(dct_baseline['probs'][:,1])]).transpose()\n",
    "labels_train = dct_axial['labels']\n",
    "\n",
    "#Test\n",
    "dct_axial = pkl.load(open('Model/Axial/train/train-01/test_predictions.pkl', 'rb'))\n",
    "dct_coronal = pkl.load(open('Model/Coronal/train/train-01/test_predictions.pkl', 'rb'))\n",
    "dct_baseline = pkl.load(open('Models/EHR/test_predictions.pkl', 'rb'))dct_axial['probs'] = np.array(dct_axial['probs'])\n",
    "dct_coronal['probs'] = np.array(dct_coronal['probs'])\n",
    "mat_test = np.array([ \n",
    "                (dct_coronal['probs']), 1-(dct_coronal['probs']), (dct_axial['probs']), 1-(dct_axial['probs']),\n",
    "               sigmoid(dct_baseline['probs'][:,1]), 1-sigmoid(dct_baseline['probs'][:,1])]).transpose()\n",
    "labels_test = dct_axial['labels']\n",
    "\n",
    "print(mat.shape, len(labels_train), mat_test.shape, len(labels_test))"
   ]
  },
  {
   "cell_type": "code",
   "execution_count": 197,
   "id": "7e64f380",
   "metadata": {},
   "outputs": [
    {
     "data": {
      "text/plain": [
       "array([0.55196799, 0.44803201, 0.17485663, 0.82514337, 0.5418184 ,\n",
       "       0.4581816 ])"
      ]
     },
     "execution_count": 197,
     "metadata": {},
     "output_type": "execute_result"
    }
   ],
   "source": [
    "from sklearn.preprocessing import MinMaxScaler, StandardScaler\n",
    "op = MinMaxScaler()#StandardScaler()#\n",
    "op = op.fit(mat)\n",
    "mat_norm = op.transform(mat)\n",
    "mat_test_norm = op.transform(mat_test)\n",
    "np.mean(mat_norm, axis=0)"
   ]
  },
  {
   "cell_type": "code",
   "execution_count": 198,
   "id": "e6827b6e",
   "metadata": {},
   "outputs": [
    {
     "data": {
      "text/plain": [
       "(array([0.00000000e+00, 2.14695930e-03, 2.84027680e-11, 1.34187877e-01,\n",
       "        5.25238874e-01, 2.98381028e-01]),\n",
       " array([0.99785304, 1.        , 0.86581212, 1.        , 0.70161897,\n",
       "        0.47476113]),\n",
       " array([0.55078293, 0.44921707, 0.15139299, 0.84860701, 0.62080486,\n",
       "        0.37919514]))"
      ]
     },
     "execution_count": 198,
     "metadata": {},
     "output_type": "execute_result"
    }
   ],
   "source": [
    "np.min(mat, axis=0), np.max(mat, axis=0), np.mean(mat, axis=0)"
   ]
  },
  {
   "cell_type": "code",
   "execution_count": 199,
   "id": "9903e41c",
   "metadata": {},
   "outputs": [
    {
     "data": {
      "text/plain": [
       "(array([0., 0., 0., 0., 0., 0.]),\n",
       " array([1., 1., 1., 1., 1., 1.]),\n",
       " array([0.55196799, 0.44803201, 0.17485663, 0.82514337, 0.5418184 ,\n",
       "        0.4581816 ]))"
      ]
     },
     "execution_count": 199,
     "metadata": {},
     "output_type": "execute_result"
    }
   ],
   "source": [
    "np.min(mat_norm, axis=0), np.max(mat_norm, axis=0), np.mean(mat_norm, axis=0)"
   ]
  },
  {
   "cell_type": "code",
   "execution_count": 200,
   "id": "15ba1afe",
   "metadata": {},
   "outputs": [
    {
     "name": "stdout",
     "output_type": "stream",
     "text": [
      "              precision    recall  f1-score   support\n",
      "\n",
      "         0.0       0.87      0.68      0.76       670\n",
      "         1.0       0.69      0.87      0.77       535\n",
      "\n",
      "    accuracy                           0.76      1205\n",
      "   macro avg       0.78      0.77      0.76      1205\n",
      "weighted avg       0.79      0.76      0.76      1205\n",
      "\n",
      "AUC-ROC:\t 0.8710517505928302\n",
      "Confusion Matrix:\n",
      " [[457 213]\n",
      " [ 71 464]]\n"
     ]
    }
   ],
   "source": [
    "from sklearn.svm import SVC\n",
    "clf = RandomForestClassifier(random_state=0, max_depth  = 5)\n",
    "\n",
    "clf.fit(mat_norm, labels_train)\n",
    "\n",
    "preds = clf.predict(mat_test_norm)\n",
    "probs = clf.predict_proba(mat_test_norm)\n",
    "\n",
    "preds2 = np.array([1 if probs[i,1]>=0.5 else 0 for i in range(len(preds))])\n",
    "\n",
    "print(classification_report(labels_test, preds2))\n",
    "print('AUC-ROC:\\t', roc_auc_score(labels_test, probs[:,1]))\n",
    "cm = confusion_matrix(labels_test, preds2, labels = [0, 1])\n",
    "print('Confusion Matrix:\\n', cm)\n",
    "dct = {}\n",
    "dct['labels'] = labels_test\n",
    "dct['preds'] = preds\n",
    "dct['probs'] = probs\n",
    "\n",
    "labels_test = np.array(dct['labels'])\n",
    "preds = np.array(dct['preds'])\n",
    "probs = np.array(dct['probs'])\n",
    "\n",
    "pkl.dump(dct, open('Models/Fusion/test_predictions.pkl', 'wb'))\n"
   ]
  },
  {
   "cell_type": "code",
   "execution_count": 178,
   "id": "ebeac87f",
   "metadata": {},
   "outputs": [
    {
     "data": {
      "image/png": "[encoded data removed]",
      "text/plain": [
       "<Figure size 576x280.8 with 1 Axes>"
      ]
     },
     "metadata": {
      "needs_background": "light"
     },
     "output_type": "display_data"
    }
   ],
   "source": [
    "import shap\n",
    "\n",
    "dct = pkl.load(open('Models/Fusion/test_predictions.pkl', 'rb'))\n",
    "labels_test = np.array(dct['labels'])\n",
    "preds = np.array(dct['preds'])\n",
    "probs = np.array(dct['probs'])\n",
    "\n",
    "names = ['Coronal1', 'Coronal2','Axial1', 'Axial2',  'EMR1', 'EMR2']\n",
    "explainer = shap.TreeExplainer(clf)\n",
    "shap_values = explainer.shap_values(mat_test)\n",
    "\n",
    "shap.summary_plot(shap_values, mat_test, feature_names = names, class_names = ['Low Bone Mass', 'Osteoporosis'],  show=False)\n",
    "plt.savefig('Figures/shap_plot_fusion.jpg', bbox_inches='tight')"
   ]
  },
  {
   "cell_type": "code",
   "execution_count": 187,
   "id": "e06be926",
   "metadata": {},
   "outputs": [
    {
     "name": "stdout",
     "output_type": "stream",
     "text": [
      "MCHS\n",
      "Iteration:\t0\n",
      "Iteration:\t100\n",
      "Iteration:\t200\n",
      "Iteration:\t300\n",
      "Iteration:\t400\n",
      "Iteration:\t500\n",
      "Iteration:\t600\n",
      "Iteration:\t700\n",
      "Iteration:\t800\n",
      "Iteration:\t900\n",
      "95.0 confidence interval \n",
      "Precision\n",
      "[84.6-93.1]\n",
      "Recall\n",
      "[87.3-94.7]\n",
      "F-score\n",
      "[85.5-93.6]\n",
      "AUC-ROC\n",
      "[87.5-96.3]\n"
     ]
    }
   ],
   "source": [
    "##confidence interval\n",
    "from random import randint, sample\n",
    "\n",
    "\n",
    "dct = pkl.load(open('Models/Fusion/test_predictions.pkl', 'rb'))\n",
    "y_test = np.array(dct['labels'])\n",
    "preds = np.array(dct['preds'])\n",
    "probs = np.array(dct['probs'])\n",
    "\n",
    "\n",
    "\n",
    "\n",
    "    \n",
    "target_test = y_test\n",
    "\n",
    "avg_precision = []\n",
    "avg_recall = []\n",
    "avg_fscore = []\n",
    "aucroc = []\n",
    "   \n",
    "test_set_size = len(target_test)\n",
    "for i in range(1000):\n",
    "    # randomly pick size of the test set\n",
    "    i_size = randint(round(0.5*test_set_size), test_set_size)\n",
    "    \n",
    "    i_test_idx = sample([ii for ii in range(test_set_size)], i_size)\n",
    "    i_test_idx.sort()\n",
    "    \n",
    "    \n",
    "\n",
    "\n",
    "    i_y_test = target_test[i_test_idx]\n",
    "    i_y_pred = preds[i_test_idx]\n",
    "    i_y_prob = probs[i_test_idx,1]\n",
    "\n",
    "    dct = classification_report(i_y_test, i_y_pred, output_dict=True, zero_division=0)\n",
    "    avg_precision.append(dct['macro avg']['precision'])\n",
    "    avg_recall.append(dct['macro avg']['recall'])\n",
    "    avg_fscore.append(dct['macro avg']['f1-score'])\n",
    "\n",
    "    aucroc.append(roc_auc_score(i_y_test, i_y_prob))\n",
    "    if i%100==0:\n",
    "        print('Iteration:\\t'+str(i))\n",
    "        \n",
    "# confidence intervals\n",
    "alpha = 0.95\n",
    "print('%.1f confidence interval ' % (alpha*100))\n",
    "\n",
    "\n",
    "p = ((1.0-alpha)/2.0) * 100\n",
    "lower = np.percentile(avg_precision, p, axis= 0)\n",
    "p = (alpha+((1.0-alpha)/2.0)) * 100\n",
    "upper = np.percentile(avg_precision, p, axis = 0)\n",
    "print('Precision')\n",
    "print('['+str(np.round(lower*100, decimals=1))+'-'+str(np.round(upper*100, decimals=1))+']')\n",
    "\n",
    "p = ((1.0-alpha)/2.0) * 100\n",
    "lower = np.percentile(avg_recall, p, axis= 0)\n",
    "p = (alpha+((1.0-alpha)/2.0)) * 100\n",
    "upper = np.percentile(avg_recall, p, axis = 0)\n",
    "print('Recall')\n",
    "print('['+str(np.round(lower*100, decimals=1))+'-'+str(np.round(upper*100, decimals=1))+']')\n",
    "\n",
    "p = ((1.0-alpha)/2.0) * 100\n",
    "lower = np.percentile(avg_fscore, p, axis= 0)\n",
    "p = (alpha+((1.0-alpha)/2.0)) * 100\n",
    "upper = np.percentile(avg_fscore, p, axis = 0)\n",
    "print('F-score')\n",
    "print('['+str(np.round(lower*100, decimals=1))+'-'+str(np.round(upper*100, decimals=1))+']')\n",
    "\n",
    "p = ((1.0-alpha)/2.0) * 100\n",
    "lower = np.percentile(aucroc, p, axis= 0)\n",
    "p = (alpha+((1.0-alpha)/2.0)) * 100\n",
    "upper = np.percentile(aucroc, p, axis = 0)\n",
    "print('AUC-ROC')\n",
    "print('['+str(np.round(lower*100, decimals=1))+'-'+str(np.round(upper*100, decimals=1))+']')"
   ]
  },
  {
   "cell_type": "code",
   "execution_count": 66,
   "id": "5b578879",
   "metadata": {},
   "outputs": [
    {
     "name": "stdout",
     "output_type": "stream",
     "text": [
      "FEMALE\n",
      "              precision    recall  f1-score   support\n",
      "\n",
      "         0.0       0.78      0.76      0.77       359\n",
      "         1.0       0.80      0.82      0.81       426\n",
      "\n",
      "    accuracy                           0.79       785\n",
      "   macro avg       0.79      0.79      0.79       785\n",
      "weighted avg       0.79      0.79      0.79       785\n",
      "\n",
      "AUC-ROC:\t 0.8545124040435744\n",
      "Confusion Matrix:\n",
      " [[272  87]\n",
      " [ 77 349]]\n",
      "MALE\n",
      "              precision    recall  f1-score   support\n",
      "\n",
      "         0.0       0.87      0.85      0.86       311\n",
      "         1.0       0.60      0.65      0.62       109\n",
      "\n",
      "    accuracy                           0.80       420\n",
      "   macro avg       0.74      0.75      0.74       420\n",
      "weighted avg       0.80      0.80      0.80       420\n",
      "\n",
      "AUC-ROC:\t 0.8554824626095165\n",
      "Confusion Matrix:\n",
      " [[263  48]\n",
      " [ 38  71]]\n"
     ]
    }
   ],
   "source": [
    "for gender in ['F', 'M']:\n",
    "    print(gender)\n",
    "    gender_idx = np.array([i for i in range(len(df_test)) if df_test.PatientSex.values[i]==gender])\n",
    "    print(classification_report(labels_test[gender_idx], preds[gender_idx]))\n",
    "    print('AUC-ROC:\\t', roc_auc_score(labels_test[gender_idx], probs[gender_idx,1]))\n",
    "    cm = confusion_matrix(labels_test[gender_idx], preds[gender_idx], labels = [0, 1])\n",
    "    print('Confusion Matrix:\\n', cm)"
   ]
  },
  {
   "cell_type": "code",
   "execution_count": 67,
   "id": "903de916",
   "metadata": {},
   "outputs": [
    {
     "name": "stdout",
     "output_type": "stream",
     "text": [
      "GE\n",
      "              precision    recall  f1-score   support\n",
      "\n",
      "         0.0       0.80      0.89      0.84        85\n",
      "         1.0       0.85      0.73      0.78        70\n",
      "\n",
      "    accuracy                           0.82       155\n",
      "   macro avg       0.82      0.81      0.81       155\n",
      "weighted avg       0.82      0.82      0.82       155\n",
      "\n",
      "AUC-ROC:\t 0.9117647058823529\n",
      "Confusion Matrix:\n",
      " [[76  9]\n",
      " [19 51]]\n",
      "SIEMENS\n",
      "              precision    recall  f1-score   support\n",
      "\n",
      "         0.0       0.82      0.78      0.80       561\n",
      "         1.0       0.74      0.79      0.76       442\n",
      "\n",
      "    accuracy                           0.78      1003\n",
      "   macro avg       0.78      0.78      0.78      1003\n",
      "weighted avg       0.79      0.78      0.78      1003\n",
      "\n",
      "AUC-ROC:\t 0.8616098434437534\n",
      "Confusion Matrix:\n",
      " [[437 124]\n",
      " [ 93 349]]\n",
      "TOSHIBA\n",
      "              precision    recall  f1-score   support\n",
      "\n",
      "         0.0       0.88      0.92      0.90        24\n",
      "         1.0       0.91      0.87      0.89        23\n",
      "\n",
      "    accuracy                           0.89        47\n",
      "   macro avg       0.89      0.89      0.89        47\n",
      "weighted avg       0.89      0.89      0.89        47\n",
      "\n",
      "AUC-ROC:\t 0.911231884057971\n",
      "Confusion Matrix:\n",
      " [[22  2]\n",
      " [ 3 20]]\n"
     ]
    }
   ],
   "source": [
    "companies = ['ge', 'siemens', 'toshiba']\n",
    "for c in companies:\n",
    "    print(c.upper())\n",
    "    idx = np.array([i for i in range(len(df_test)) if c in df_test.Manufacturer.values[i].lower()])\n",
    "    #print(idx)\n",
    "    print(classification_report(labels_test[idx], preds2[idx]))\n",
    "    print('AUC-ROC:\\t', roc_auc_score(labels_test[idx], probs[idx,1]))\n",
    "    cm = confusion_matrix(labels_test[idx], preds2[idx], labels = [0, 1])\n",
    "    print('Confusion Matrix:\\n', cm)"
   ]
  },
  {
   "cell_type": "code",
   "execution_count": 68,
   "id": "bb406eaf",
   "metadata": {},
   "outputs": [
    {
     "name": "stdout",
     "output_type": "stream",
     "text": [
      "0-250\n",
      "              precision    recall  f1-score   support\n",
      "\n",
      "         0.0       0.67      0.62      0.65        56\n",
      "         1.0       0.83      0.86      0.85       123\n",
      "\n",
      "    accuracy                           0.79       179\n",
      "   macro avg       0.75      0.74      0.75       179\n",
      "weighted avg       0.78      0.79      0.79       179\n",
      "\n",
      "AUC-ROC:\t 0.8244047619047618\n",
      "Confusion Matrix:\n",
      " [[ 35  21]\n",
      " [ 17 106]]\n",
      "250-350\n",
      "              precision    recall  f1-score   support\n",
      "\n",
      "         0.0       0.82      0.80      0.81       472\n",
      "         1.0       0.76      0.78      0.77       380\n",
      "\n",
      "    accuracy                           0.79       852\n",
      "   macro avg       0.79      0.79      0.79       852\n",
      "weighted avg       0.79      0.79      0.79       852\n",
      "\n",
      "AUC-ROC:\t 0.8687946030330063\n",
      "Confusion Matrix:\n",
      " [[376  96]\n",
      " [ 84 296]]\n",
      "350-1000\n",
      "              precision    recall  f1-score   support\n",
      "\n",
      "         0.0       0.90      0.87      0.89       142\n",
      "         1.0       0.50      0.56      0.53        32\n",
      "\n",
      "    accuracy                           0.82       174\n",
      "   macro avg       0.70      0.72      0.71       174\n",
      "weighted avg       0.83      0.82      0.82       174\n",
      "\n",
      "AUC-ROC:\t 0.777068661971831\n",
      "Confusion Matrix:\n",
      " [[124  18]\n",
      " [ 14  18]]\n"
     ]
    }
   ],
   "source": [
    "dia = [0, 250, 350, 1000]\n",
    "for i in range(1, len(dia)):\n",
    "    lower = dia[i-1]\n",
    "    upper = dia[i]\n",
    "    print(str(lower)+'-'+str(upper))\n",
    "    idx = np.array([i for i in range(len(df_test)) if (df_test.CrossSectionSpacing.values[i]>=lower and df_test.CrossSectionSpacing.values[i]<upper)])\n",
    "    #print(idx)\n",
    "    print(classification_report(labels_test[idx], preds2[idx]))\n",
    "    print('AUC-ROC:\\t', roc_auc_score(labels_test[idx], probs[idx,1]))\n",
    "    cm = confusion_matrix(labels_test[idx], preds2[idx], labels = [0, 1])\n",
    "    print('Confusion Matrix:\\n', cm)"
   ]
  },
  {
   "cell_type": "code",
   "execution_count": 183,
   "id": "16088192",
   "metadata": {},
   "outputs": [
    {
     "name": "stdout",
     "output_type": "stream",
     "text": [
      "MN\n",
      "              precision    recall  f1-score   support\n",
      "\n",
      "         0.0       0.83      0.74      0.78       234\n",
      "         1.0       0.75      0.84      0.79       221\n",
      "\n",
      "    accuracy                           0.78       455\n",
      "   macro avg       0.79      0.79      0.78       455\n",
      "weighted avg       0.79      0.78      0.78       455\n",
      "\n",
      "AUC-ROC:\t 0.8713887922032719\n",
      "Confusion Matrix:\n",
      " [[172  62]\n",
      " [ 36 185]]\n",
      "FL\n",
      "              precision    recall  f1-score   support\n",
      "\n",
      "         0.0       0.86      0.77      0.81       199\n",
      "         1.0       0.65      0.78      0.71       111\n",
      "\n",
      "    accuracy                           0.77       310\n",
      "   macro avg       0.76      0.78      0.76       310\n",
      "weighted avg       0.79      0.77      0.78       310\n",
      "\n",
      "AUC-ROC:\t 0.838697994476889\n",
      "Confusion Matrix:\n",
      " [[153  46]\n",
      " [ 24  87]]\n",
      "AZ\n",
      "              precision    recall  f1-score   support\n",
      "\n",
      "         0.0       0.78      0.83      0.80       179\n",
      "         1.0       0.81      0.75      0.78       170\n",
      "\n",
      "    accuracy                           0.79       349\n",
      "   macro avg       0.79      0.79      0.79       349\n",
      "weighted avg       0.79      0.79      0.79       349\n",
      "\n",
      "AUC-ROC:\t 0.8949063424252383\n",
      "Confusion Matrix:\n",
      " [[149  30]\n",
      " [ 43 127]]\n",
      "MCHS\n",
      "              precision    recall  f1-score   support\n",
      "\n",
      "         0.0       0.96      0.88      0.92        58\n",
      "         1.0       0.82      0.94      0.87        33\n",
      "\n",
      "    accuracy                           0.90        91\n",
      "   macro avg       0.89      0.91      0.90        91\n",
      "weighted avg       0.91      0.90      0.90        91\n",
      "\n",
      "AUC-ROC:\t 0.9169278996865203\n",
      "Confusion Matrix:\n",
      " [[51  7]\n",
      " [ 2 31]]\n"
     ]
    }
   ],
   "source": [
    "companies = ['MN', 'FL', 'AZ', 'MCHS']\n",
    "for c in companies:\n",
    "    print(c.upper())\n",
    "    idx = np.array([i for i in range(len(df_test)) if c == df_test.facility.values[i]])\n",
    "    #print(idx)\n",
    "    print(classification_report(labels_test[idx], preds[idx]))\n",
    "    print('AUC-ROC:\\t', roc_auc_score(labels_test[idx], probs[idx,1]))\n",
    "    cm = confusion_matrix(labels_test[idx], preds[idx], labels = [0, 1])\n",
    "    print('Confusion Matrix:\\n', cm)"
   ]
  },
  {
   "cell_type": "code",
   "execution_count": 131,
   "id": "3e68c642",
   "metadata": {},
   "outputs": [
    {
     "data": {
      "image/png": "[encoded data removed]",
      "text/plain": [
       "<Figure size 432x288 with 1 Axes>"
      ]
     },
     "metadata": {
      "needs_background": "light"
     },
     "output_type": "display_data"
    }
   ],
   "source": [
    "dct = pkl.load(open('Models/Fusion/test_predictions.pkl', 'rb')) #late fusion\n",
    "\n",
    "y_test = np.array(dct['labels'])\n",
    "probs = np.array(dct['probs'])\n",
    "\n",
    "rocs = compute_roc_bootstrap(X=probs[:,1], y=y_test, pos_label=1.0,#[:,1]\n",
    "                             n_bootstrap=1000,\n",
    "                             random_state=42,\n",
    "                             return_mean=False)\n",
    "\n",
    "plot_mean_roc(rocs, show_ci=True, show_ti=True)\n",
    "plt.title(\"Bootstrap demo\");\n",
    "plt.savefig('Figures/fusion_mean_roc.jpg')\n",
    "plt.show()"
   ]
  },
  {
   "cell_type": "code",
   "execution_count": 132,
   "id": "9ecb87a5",
   "metadata": {},
   "outputs": [
    {
     "name": "stdout",
     "output_type": "stream",
     "text": [
      "minopt:         thr= 0.533, J= -0.289\n"
     ]
    },
    {
     "data": {
      "image/png": "[encoded data removed]",
      "text/plain": [
       "<Figure size 432x288 with 1 Axes>"
      ]
     },
     "metadata": {
      "needs_background": "light"
     },
     "output_type": "display_data"
    }
   ],
   "source": [
    "dct = pkl.load(open('Models/Fusion/test_predictions.pkl', 'rb')) #late fusion\n",
    "y_test = np.array(dct['labels'])\n",
    "probs = np.array(dct['probs'])\n",
    "\n",
    "roc = compute_roc(X=probs[:,1], y=y_test, pos_label=1.0,\n",
    "                  objective=[\"minopt\"\n",
    "                            ])\n",
    "for key, val in roc.opd.items():\n",
    "    print(\"%-15s thr=% .3f, J=%7.3f\" % (key+\":\", val.opt, val.opo) )\n",
    "    \n",
    "plot_roc(roc, show_opt=True)\n",
    "plt.legend(loc=\"upper left\", bbox_to_anchor=(1.05, 1), borderaxespad=0.)\n",
    "plt.title(\"Comparison of different objectives\");\n",
    "plt.savefig('Figures/fusion_roc_op.jpg', bbox_inches='tight')"
   ]
  },
  {
   "cell_type": "code",
   "execution_count": 138,
   "id": "64c8911e",
   "metadata": {},
   "outputs": [
    {
     "name": "stdout",
     "output_type": "stream",
     "text": [
      "0.1\n",
      "0.2\n",
      "0.3\n",
      "0.4\n",
      "0.5\n",
      "0.6\n",
      "0.7\n",
      "0.8\n",
      "0.9\n"
     ]
    },
    {
     "data": {
      "image/png": "[encoded data removed]",
      "text/plain": [
       "<Figure size 432x288 with 1 Axes>"
      ]
     },
     "metadata": {
      "needs_background": "light"
     },
     "output_type": "display_data"
    }
   ],
   "source": [
    "from sklearn.metrics import precision_score, recall_score\n",
    "# Note that multiple objective functions can be computed at the same time.\n",
    "\n",
    "dct = pkl.load(open('Models/Fusion/test_predictions.pkl', 'rb')) #late fusion\n",
    "y_test = np.array(dct['labels'])\n",
    "probs = np.array(dct['probs'][:, 1])\n",
    "\n",
    "precision = []\n",
    "recall = []\n",
    "th_list =  [0.1, 0.2, 0.3, .4, .5, .6, .7, .8, .9]\n",
    "for th in th_list:\n",
    "    preds = np.array([1 if p>th else 0 for p in probs])\n",
    "    precision.append(precision_score(y_test, preds))\n",
    "    recall.append(recall_score(y_test, preds))\n",
    "    print(th)\n",
    "\n",
    "X_axis = np.arange(9)\n",
    "plt.bar(X_axis - 0.2, precision, 0.4, label = 'Precision')\n",
    "plt.bar(X_axis + 0.2, recall, 0.4, label = 'Recall')\n",
    "  \n",
    "plt.xticks(X_axis, th_list)\n",
    "plt.ylabel(\"Metric value\")\n",
    "plt.xlabel(\"Threshold\")\n",
    "\n",
    "plt.legend(loc = 'upper right')\n",
    "\n",
    "plt.savefig('Figures/late_fusion_PR.jpg', bbox_inches='tight')\n",
    "\n",
    "\n"
   ]
  }
 ],
 "metadata": {
  "environment": {
   "name": "pytorch-gpu.1-8.m71",
   "type": "gcloud",
   "uri": "gcr.io/deeplearning-platform-release/pytorch-gpu.1-8:m71"
  },
  "kernelspec": {
   "display_name": "Python 3",
   "language": "python",
   "name": "python3"
  },
  "language_info": {
   "codemirror_mode": {
    "name": "ipython",
    "version": 3
   },
   "file_extension": ".py",
   "mimetype": "text/x-python",
   "name": "python",
   "nbconvert_exporter": "python",
   "pygments_lexer": "ipython3",
   "version": "3.7.10"
  }
 },
 "nbformat": 4,
 "nbformat_minor": 5
}
